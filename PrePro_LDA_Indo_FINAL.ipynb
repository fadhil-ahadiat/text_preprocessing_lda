{
  "cells": [
    {
      "cell_type": "markdown",
      "metadata": {
        "id": "d-zmR2y-am7q"
      },
      "source": [
        "# **Import Data From GDrive**"
      ]
    },
    {
      "cell_type": "code",
      "execution_count": null,
      "metadata": {
        "id": "uMjfugK1amdu"
      },
      "outputs": [],
      "source": [
        "from google.colab import drive\n",
        "drive.mount('/content/drive')"
      ]
    },
    {
      "cell_type": "markdown",
      "metadata": {
        "id": "Afg0hN57ZiK5"
      },
      "source": [
        "# **Convert TXT Format to Numpy Array**"
      ]
    },
    {
      "cell_type": "code",
      "execution_count": null,
      "metadata": {
        "id": "NLDUQzOBDknu",
        "colab": {
          "base_uri": "https://localhost:8080/"
        },
        "outputId": "aba6c5e5-4f80-4d35-8008-6320425db6e9"
      },
      "outputs": [
        {
          "output_type": "stream",
          "name": "stdout",
          "text": [
            "                                             Dokumen  \\\n",
            "0  PERATURAN WALI KOTA BANDUNG Nomor 21 Tahun 202...   \n",
            "1  Peraturan Wali Kota Bandung Nomor 32 Tahun 202...   \n",
            "2  Peraturan Wali Kota Bandung Nomor 42 Tahun 202...   \n",
            "3  Keputusan Wali Kota Bandung Nomor 503 Tahun 20...   \n",
            "4  Peraturan Gubernur NTT Nomor 118 Tahun 2022 te...   \n",
            "\n",
            "                                                teks  \n",
            "0  SALINAN\\n\\n\\n\\n\\n\\n\\n\\n\\nPROVINSI JAWA BARAT\\n...  \n",
            "1  SALINAN\\n\\n\\n\\n\\n\\n\\n\\n\\n\\n\\n\\n\\n\\nPROVINSI JA...  \n",
            "2  SALINAN\\n\\n\\n\\n\\n\\n\\n\\n\\n\\n\\n\\n\\nPROVINSI JAWA...  \n",
            "3  \\nPEMERINTAH KOTA BANDUNG\\n\\nSEKRETARIAT DAERA...  \n",
            "4  \\n\\n\\n\\n\\n\\nGUBERNUR\\tNUSA\\tTENGGARA\\tTIMUR\\n\\...  \n",
            "(13, 2)\n",
            "<class 'pandas.core.frame.DataFrame'>\n"
          ]
        }
      ],
      "source": [
        "import os\n",
        "import pandas as pd\n",
        "\n",
        "# Tentukan direktori yang berisi file-file TXT di Google Drive\n",
        "directory = \"/content/drive/MyDrive/FINAL! Pra-Eval RPJMN/TXT Daerah\"\n",
        "\n",
        "# Inisialisasi list kosong untuk menyimpan data\n",
        "data = []\n",
        "\n",
        "# Loop melalui setiap file dalam direktori\n",
        "for filename in os.listdir(directory):\n",
        "    if filename.endswith('.txt'):\n",
        "        with open(os.path.join(directory, filename), 'r', encoding='latin1') as file:\n",
        "            text = file.read()\n",
        "            # Tambahkan data dalam bentuk tuple (nama file, isi file) ke list\n",
        "            data.append((filename, text))\n",
        "\n",
        "# Buat DataFrame dari list data\n",
        "df = pd.DataFrame(data, columns=['Dokumen', 'teks'])\n",
        "\n",
        "# Cetak beberapa baris pertama dari DataFrame\n",
        "print(df.head())\n",
        "print(df.shape)\n",
        "print(type(df))"
      ]
    },
    {
      "cell_type": "code",
      "source": [
        "df"
      ],
      "metadata": {
        "id": "IPsXOs0w5I9l"
      },
      "execution_count": null,
      "outputs": []
    },
    {
      "cell_type": "markdown",
      "metadata": {
        "id": "hYOGPIzBDlWO"
      },
      "source": [
        "---"
      ]
    },
    {
      "cell_type": "code",
      "execution_count": null,
      "metadata": {
        "id": "ouOpEBnsZujs"
      },
      "outputs": [],
      "source": [
        "import os\n",
        "import pandas as pd\n",
        "\n",
        "# Tentukan direktori yang berisi file-file TXT di Google Drive\n",
        "directory = \"/content/drive/MyDrive/Test Menuju Fix/TXT/Nasional\"\n",
        "\n",
        "# Inisialisasi larik kosong untuk menyimpan teks dari setiap file\n",
        "text_array = []\n",
        "\n",
        "# Loop melalui setiap file dalam direktori\n",
        "for filename in os.listdir(directory):\n",
        "    if filename.endswith('.txt'):\n",
        "        with open(os.path.join(directory, filename), 'r', encoding='latin1') as file:\n",
        "            text = file.read()\n",
        "            text_array.append(text)"
      ]
    },
    {
      "cell_type": "code",
      "execution_count": null,
      "metadata": {
        "id": "eo0gNFYFaFh2"
      },
      "outputs": [],
      "source": [
        "print(text_array)"
      ]
    },
    {
      "cell_type": "code",
      "execution_count": null,
      "metadata": {
        "id": "9CEPeUKTaaep"
      },
      "outputs": [],
      "source": [
        "# Membuat DataFrame dari larik\n",
        "df = pd.DataFrame({'teks': text_array})\n",
        "\n",
        "print(df)\n",
        "print(df.shape)"
      ]
    },
    {
      "cell_type": "markdown",
      "metadata": {
        "id": "kQJfeagtZvLO"
      },
      "source": [
        "# **Import Data CSV or Excel Format**"
      ]
    },
    {
      "cell_type": "code",
      "execution_count": null,
      "metadata": {
        "id": "bjlZOBLtloUP"
      },
      "outputs": [],
      "source": [
        "!pip install nltk\n",
        "!pip install Sastrawi\n",
        "!pip install panda"
      ]
    },
    {
      "cell_type": "code",
      "execution_count": null,
      "metadata": {
        "id": "9mgVFDJVlsNq"
      },
      "outputs": [],
      "source": [
        "import pandas as pd\n",
        "import re"
      ]
    },
    {
      "cell_type": "code",
      "execution_count": null,
      "metadata": {
        "id": "tNh280vHluwO"
      },
      "outputs": [],
      "source": [
        "# baca file excel\n",
        "df = pd.read_excel('1.xlsx')\n",
        "\n",
        "# print data (jumlah yang mau di-print)\n",
        "df.head(10)"
      ]
    },
    {
      "cell_type": "code",
      "execution_count": null,
      "metadata": {
        "id": "RmRXb6_o64qc"
      },
      "outputs": [],
      "source": [
        "df = pd.read_csv('dataset_pilkada_dki_csv.csv')\n",
        "\n",
        "# print data (jumlah yang mau di-print)\n",
        "df.head(10)"
      ]
    },
    {
      "cell_type": "code",
      "execution_count": null,
      "metadata": {
        "id": "e_LiFVoElvV8"
      },
      "outputs": [],
      "source": [
        "# filter atribut (dalam hal ini, atribut unnamed) (pakai jika perlu)\n",
        "df = df.filter(regex='^(?!Unnamed)')"
      ]
    },
    {
      "cell_type": "code",
      "execution_count": null,
      "metadata": {
        "id": "C5hrVbEXlxmG"
      },
      "outputs": [],
      "source": [
        "# memunculkan jumlah baris dan kolom\n",
        "df.shape"
      ]
    },
    {
      "cell_type": "markdown",
      "metadata": {
        "id": "We0fxLkEly11"
      },
      "source": [
        "# **Casefold**"
      ]
    },
    {
      "cell_type": "code",
      "execution_count": null,
      "metadata": {
        "id": "uJY8dd1HlyYZ"
      },
      "outputs": [],
      "source": [
        "import string\n",
        "import numpy as np\n",
        "import re"
      ]
    },
    {
      "cell_type": "code",
      "execution_count": null,
      "metadata": {
        "colab": {
          "base_uri": "https://localhost:8080/"
        },
        "id": "vga3m5Rzl2T4",
        "outputId": "e37936c9-668c-4846-a73a-086f19302f31"
      },
      "outputs": [
        {
          "output_type": "stream",
          "name": "stdout",
          "text": [
            "                                             Dokumen  \\\n",
            "0  PERATURAN WALI KOTA BANDUNG Nomor 21 Tahun 202...   \n",
            "1  Peraturan Wali Kota Bandung Nomor 32 Tahun 202...   \n",
            "2  Peraturan Wali Kota Bandung Nomor 42 Tahun 202...   \n",
            "3  Keputusan Wali Kota Bandung Nomor 503 Tahun 20...   \n",
            "4  Peraturan Gubernur NTT Nomor 118 Tahun 2022 te...   \n",
            "5  Keputusan Gubernur NTT Nomor 409 Tahun 2022 te...   \n",
            "6  Keputusan Gubernur NTT Nomor 125 Tahun 2021 te...   \n",
            "7  1A_Peraturan Wali Kota Kupang Nomor 22 Tahun 2...   \n",
            "8  1B_Peraturan Wali Kota Kupang Nomor 22 Tahun 2...   \n",
            "9  Peraturan Wali Kota Bandung Nomor 60 Tahun 202...   \n",
            "\n",
            "                                                teks  \\\n",
            "0  SALINAN\\n\\n\\n\\n\\n\\n\\n\\n\\nPROVINSI JAWA BARAT\\n...   \n",
            "1  SALINAN\\n\\n\\n\\n\\n\\n\\n\\n\\n\\n\\n\\n\\n\\nPROVINSI JA...   \n",
            "2  SALINAN\\n\\n\\n\\n\\n\\n\\n\\n\\n\\n\\n\\n\\nPROVINSI JAWA...   \n",
            "3  \\nPEMERINTAH KOTA BANDUNG\\n\\nSEKRETARIAT DAERA...   \n",
            "4  \\n\\n\\n\\n\\n\\nGUBERNUR\\tNUSA\\tTENGGARA\\tTIMUR\\n\\...   \n",
            "5  \\n\\n\\n\\n\\nGUBERNUR\\tNUSA\\tTENGGARA\\tTIMUR\\n\\nK...   \n",
            "6  PEMERINTAH\\tPROVINSI\\tNUSA\\tTENGGARA\\tTIMUR\\n\\...   \n",
            "7  \\nâ¢\\n\\n\\n\\nW ALIKOTA KUPANG\\n\\nPROVl.11181 N...   \n",
            "8  Bagian Kedelapan\\n\\nAplikasl SPBE\\n\\nPasal 23\\...   \n",
            "9  PROVINSI JAWA BARAT\\nPERATURAN WALI KOTA BANDU...   \n",
            "\n",
            "                                               clean  \n",
            "0  salinan provinsi jawa barat peraturan wali kot...  \n",
            "1  salinan provinsi jawa barat peraturan wali kot...  \n",
            "2  salinan provinsi jawa barat peraturan wali kot...  \n",
            "3  pemerintah kota bandung sekretariat daerah jal...  \n",
            "4  gubernur nusa tenggara timur peraturan gubernu...  \n",
            "5  gubernur nusa tenggara timur keputusan gubernu...  \n",
            "6  pemerintah provinsi nusa tenggara timur sekret...  \n",
            "7  alikota kupang provl nusa tenggara timur perat...  \n",
            "8  bagian kedelapan aplikasl spbe pasal aplikasi ...  \n",
            "9  provinsi jawa barat peraturan wali kota bandun...  \n",
            "(13, 3)\n"
          ]
        }
      ],
      "source": [
        "# membersihkan teks\n",
        "def clean_text(text):\n",
        "    # hapus mentions\n",
        "    text = re.sub('@[^\\s]+', '', text)\n",
        "    # hapus emoticon / emoji\n",
        "    text = re.sub (r'<.*?>', '', text)\n",
        "    # hapus link\n",
        "    text = re.sub(r'(?:\\@|http?\\://|https?\\://|www)\\S+', '', text)\n",
        "    # hapus unicode\n",
        "    text = re.sub(r'[\\000-\\010]|[\\013-\\014]|[\\016-\\037]', '', text)\n",
        "    # hapus tanda baca\n",
        "    text = text.translate(str.maketrans(' ', ' ', string.punctuation))\n",
        "    # ganti link dengan petik\n",
        "    text = re.sub('<.*?>', ' ', text)\n",
        "    #pertimbangkan huruf dan angka\n",
        "    text = re.sub('[^a-zA-Z]', ' ',text)\n",
        "    # ganti line baru dengan spasi\n",
        "    text = re.sub('\\n',' ', text)\n",
        "    # huruf kecil\n",
        "    text = text.lower()\n",
        "    # hapus angka\n",
        "    text = re.sub(r'\\d+', '', text)\n",
        "    # hapus spasi awal dan akhir\n",
        "    text = text.strip()\n",
        "    # hapus single character\n",
        "    text = re.sub(r'\\b[a-zAz_]\\b', ' ', text)\n",
        "    # pisah dan gabung kata\n",
        "    text = ' '.join(text.split())\n",
        "    return text\n",
        "\n",
        "df['clean'] = df['teks'].apply(clean_text)\n",
        "print(df.head(10))\n",
        "print(df.shape)"
      ]
    },
    {
      "cell_type": "code",
      "execution_count": null,
      "metadata": {
        "id": "f_pZu6kjS6s5"
      },
      "outputs": [],
      "source": [
        "df"
      ]
    },
    {
      "cell_type": "markdown",
      "metadata": {
        "id": "jvUsn3DdmGDJ"
      },
      "source": [
        "# **Token**"
      ]
    },
    {
      "cell_type": "code",
      "execution_count": null,
      "metadata": {
        "id": "POOpPs18mIQu"
      },
      "outputs": [],
      "source": [
        "import nltk\n",
        "from nltk.tokenize import word_tokenize"
      ]
    },
    {
      "cell_type": "code",
      "execution_count": null,
      "metadata": {
        "id": "2RcPN8XdmKSZ"
      },
      "outputs": [],
      "source": [
        "# opsional\n",
        "nltk.download('all')"
      ]
    },
    {
      "cell_type": "code",
      "execution_count": null,
      "metadata": {
        "colab": {
          "base_uri": "https://localhost:8080/",
          "height": 467
        },
        "id": "_bGEI4m7mMMm",
        "outputId": "ab95549f-87ba-4412-aab4-49ea2753750c"
      },
      "outputs": [
        {
          "output_type": "execute_result",
          "data": {
            "text/plain": [
              "                                             Dokumen  \\\n",
              "0  PERATURAN WALI KOTA BANDUNG Nomor 21 Tahun 202...   \n",
              "1  Peraturan Wali Kota Bandung Nomor 32 Tahun 202...   \n",
              "2  Peraturan Wali Kota Bandung Nomor 42 Tahun 202...   \n",
              "3  Keputusan Wali Kota Bandung Nomor 503 Tahun 20...   \n",
              "4  Peraturan Gubernur NTT Nomor 118 Tahun 2022 te...   \n",
              "\n",
              "                                                teks  \\\n",
              "0  SALINAN\\n\\n\\n\\n\\n\\n\\n\\n\\nPROVINSI JAWA BARAT\\n...   \n",
              "1  SALINAN\\n\\n\\n\\n\\n\\n\\n\\n\\n\\n\\n\\n\\n\\nPROVINSI JA...   \n",
              "2  SALINAN\\n\\n\\n\\n\\n\\n\\n\\n\\n\\n\\n\\n\\nPROVINSI JAWA...   \n",
              "3  \\nPEMERINTAH KOTA BANDUNG\\n\\nSEKRETARIAT DAERA...   \n",
              "4  \\n\\n\\n\\n\\n\\nGUBERNUR\\tNUSA\\tTENGGARA\\tTIMUR\\n\\...   \n",
              "\n",
              "                                               clean  \\\n",
              "0  salinan provinsi jawa barat peraturan wali kot...   \n",
              "1  salinan provinsi jawa barat peraturan wali kot...   \n",
              "2  salinan provinsi jawa barat peraturan wali kot...   \n",
              "3  pemerintah kota bandung sekretariat daerah jal...   \n",
              "4  gubernur nusa tenggara timur peraturan gubernu...   \n",
              "\n",
              "                                               token  \n",
              "0  [salinan, provinsi, jawa, barat, peraturan, wa...  \n",
              "1  [salinan, provinsi, jawa, barat, peraturan, wa...  \n",
              "2  [salinan, provinsi, jawa, barat, peraturan, wa...  \n",
              "3  [pemerintah, kota, bandung, sekretariat, daera...  \n",
              "4  [gubernur, nusa, tenggara, timur, peraturan, g...  "
            ],
            "text/html": [
              "\n",
              "  <div id=\"df-29994de3-554c-41c7-991f-8b931a3cf17b\" class=\"colab-df-container\">\n",
              "    <div>\n",
              "<style scoped>\n",
              "    .dataframe tbody tr th:only-of-type {\n",
              "        vertical-align: middle;\n",
              "    }\n",
              "\n",
              "    .dataframe tbody tr th {\n",
              "        vertical-align: top;\n",
              "    }\n",
              "\n",
              "    .dataframe thead th {\n",
              "        text-align: right;\n",
              "    }\n",
              "</style>\n",
              "<table border=\"1\" class=\"dataframe\">\n",
              "  <thead>\n",
              "    <tr style=\"text-align: right;\">\n",
              "      <th></th>\n",
              "      <th>Dokumen</th>\n",
              "      <th>teks</th>\n",
              "      <th>clean</th>\n",
              "      <th>token</th>\n",
              "    </tr>\n",
              "  </thead>\n",
              "  <tbody>\n",
              "    <tr>\n",
              "      <th>0</th>\n",
              "      <td>PERATURAN WALI KOTA BANDUNG Nomor 21 Tahun 202...</td>\n",
              "      <td>SALINAN\\n\\n\\n\\n\\n\\n\\n\\n\\nPROVINSI JAWA BARAT\\n...</td>\n",
              "      <td>salinan provinsi jawa barat peraturan wali kot...</td>\n",
              "      <td>[salinan, provinsi, jawa, barat, peraturan, wa...</td>\n",
              "    </tr>\n",
              "    <tr>\n",
              "      <th>1</th>\n",
              "      <td>Peraturan Wali Kota Bandung Nomor 32 Tahun 202...</td>\n",
              "      <td>SALINAN\\n\\n\\n\\n\\n\\n\\n\\n\\n\\n\\n\\n\\n\\nPROVINSI JA...</td>\n",
              "      <td>salinan provinsi jawa barat peraturan wali kot...</td>\n",
              "      <td>[salinan, provinsi, jawa, barat, peraturan, wa...</td>\n",
              "    </tr>\n",
              "    <tr>\n",
              "      <th>2</th>\n",
              "      <td>Peraturan Wali Kota Bandung Nomor 42 Tahun 202...</td>\n",
              "      <td>SALINAN\\n\\n\\n\\n\\n\\n\\n\\n\\n\\n\\n\\n\\nPROVINSI JAWA...</td>\n",
              "      <td>salinan provinsi jawa barat peraturan wali kot...</td>\n",
              "      <td>[salinan, provinsi, jawa, barat, peraturan, wa...</td>\n",
              "    </tr>\n",
              "    <tr>\n",
              "      <th>3</th>\n",
              "      <td>Keputusan Wali Kota Bandung Nomor 503 Tahun 20...</td>\n",
              "      <td>\\nPEMERINTAH KOTA BANDUNG\\n\\nSEKRETARIAT DAERA...</td>\n",
              "      <td>pemerintah kota bandung sekretariat daerah jal...</td>\n",
              "      <td>[pemerintah, kota, bandung, sekretariat, daera...</td>\n",
              "    </tr>\n",
              "    <tr>\n",
              "      <th>4</th>\n",
              "      <td>Peraturan Gubernur NTT Nomor 118 Tahun 2022 te...</td>\n",
              "      <td>\\n\\n\\n\\n\\n\\nGUBERNUR\\tNUSA\\tTENGGARA\\tTIMUR\\n\\...</td>\n",
              "      <td>gubernur nusa tenggara timur peraturan gubernu...</td>\n",
              "      <td>[gubernur, nusa, tenggara, timur, peraturan, g...</td>\n",
              "    </tr>\n",
              "  </tbody>\n",
              "</table>\n",
              "</div>\n",
              "    <div class=\"colab-df-buttons\">\n",
              "\n",
              "  <div class=\"colab-df-container\">\n",
              "    <button class=\"colab-df-convert\" onclick=\"convertToInteractive('df-29994de3-554c-41c7-991f-8b931a3cf17b')\"\n",
              "            title=\"Convert this dataframe to an interactive table.\"\n",
              "            style=\"display:none;\">\n",
              "\n",
              "  <svg xmlns=\"http://www.w3.org/2000/svg\" height=\"24px\" viewBox=\"0 -960 960 960\">\n",
              "    <path d=\"M120-120v-720h720v720H120Zm60-500h600v-160H180v160Zm220 220h160v-160H400v160Zm0 220h160v-160H400v160ZM180-400h160v-160H180v160Zm440 0h160v-160H620v160ZM180-180h160v-160H180v160Zm440 0h160v-160H620v160Z\"/>\n",
              "  </svg>\n",
              "    </button>\n",
              "\n",
              "  <style>\n",
              "    .colab-df-container {\n",
              "      display:flex;\n",
              "      gap: 12px;\n",
              "    }\n",
              "\n",
              "    .colab-df-convert {\n",
              "      background-color: #E8F0FE;\n",
              "      border: none;\n",
              "      border-radius: 50%;\n",
              "      cursor: pointer;\n",
              "      display: none;\n",
              "      fill: #1967D2;\n",
              "      height: 32px;\n",
              "      padding: 0 0 0 0;\n",
              "      width: 32px;\n",
              "    }\n",
              "\n",
              "    .colab-df-convert:hover {\n",
              "      background-color: #E2EBFA;\n",
              "      box-shadow: 0px 1px 2px rgba(60, 64, 67, 0.3), 0px 1px 3px 1px rgba(60, 64, 67, 0.15);\n",
              "      fill: #174EA6;\n",
              "    }\n",
              "\n",
              "    .colab-df-buttons div {\n",
              "      margin-bottom: 4px;\n",
              "    }\n",
              "\n",
              "    [theme=dark] .colab-df-convert {\n",
              "      background-color: #3B4455;\n",
              "      fill: #D2E3FC;\n",
              "    }\n",
              "\n",
              "    [theme=dark] .colab-df-convert:hover {\n",
              "      background-color: #434B5C;\n",
              "      box-shadow: 0px 1px 3px 1px rgba(0, 0, 0, 0.15);\n",
              "      filter: drop-shadow(0px 1px 2px rgba(0, 0, 0, 0.3));\n",
              "      fill: #FFFFFF;\n",
              "    }\n",
              "  </style>\n",
              "\n",
              "    <script>\n",
              "      const buttonEl =\n",
              "        document.querySelector('#df-29994de3-554c-41c7-991f-8b931a3cf17b button.colab-df-convert');\n",
              "      buttonEl.style.display =\n",
              "        google.colab.kernel.accessAllowed ? 'block' : 'none';\n",
              "\n",
              "      async function convertToInteractive(key) {\n",
              "        const element = document.querySelector('#df-29994de3-554c-41c7-991f-8b931a3cf17b');\n",
              "        const dataTable =\n",
              "          await google.colab.kernel.invokeFunction('convertToInteractive',\n",
              "                                                    [key], {});\n",
              "        if (!dataTable) return;\n",
              "\n",
              "        const docLinkHtml = 'Like what you see? Visit the ' +\n",
              "          '<a target=\"_blank\" href=https://colab.research.google.com/notebooks/data_table.ipynb>data table notebook</a>'\n",
              "          + ' to learn more about interactive tables.';\n",
              "        element.innerHTML = '';\n",
              "        dataTable['output_type'] = 'display_data';\n",
              "        await google.colab.output.renderOutput(dataTable, element);\n",
              "        const docLink = document.createElement('div');\n",
              "        docLink.innerHTML = docLinkHtml;\n",
              "        element.appendChild(docLink);\n",
              "      }\n",
              "    </script>\n",
              "  </div>\n",
              "\n",
              "\n",
              "<div id=\"df-3ed195c6-3a0c-426e-ac5c-3dc85183b770\">\n",
              "  <button class=\"colab-df-quickchart\" onclick=\"quickchart('df-3ed195c6-3a0c-426e-ac5c-3dc85183b770')\"\n",
              "            title=\"Suggest charts\"\n",
              "            style=\"display:none;\">\n",
              "\n",
              "<svg xmlns=\"http://www.w3.org/2000/svg\" height=\"24px\"viewBox=\"0 0 24 24\"\n",
              "     width=\"24px\">\n",
              "    <g>\n",
              "        <path d=\"M19 3H5c-1.1 0-2 .9-2 2v14c0 1.1.9 2 2 2h14c1.1 0 2-.9 2-2V5c0-1.1-.9-2-2-2zM9 17H7v-7h2v7zm4 0h-2V7h2v10zm4 0h-2v-4h2v4z\"/>\n",
              "    </g>\n",
              "</svg>\n",
              "  </button>\n",
              "\n",
              "<style>\n",
              "  .colab-df-quickchart {\n",
              "      --bg-color: #E8F0FE;\n",
              "      --fill-color: #1967D2;\n",
              "      --hover-bg-color: #E2EBFA;\n",
              "      --hover-fill-color: #174EA6;\n",
              "      --disabled-fill-color: #AAA;\n",
              "      --disabled-bg-color: #DDD;\n",
              "  }\n",
              "\n",
              "  [theme=dark] .colab-df-quickchart {\n",
              "      --bg-color: #3B4455;\n",
              "      --fill-color: #D2E3FC;\n",
              "      --hover-bg-color: #434B5C;\n",
              "      --hover-fill-color: #FFFFFF;\n",
              "      --disabled-bg-color: #3B4455;\n",
              "      --disabled-fill-color: #666;\n",
              "  }\n",
              "\n",
              "  .colab-df-quickchart {\n",
              "    background-color: var(--bg-color);\n",
              "    border: none;\n",
              "    border-radius: 50%;\n",
              "    cursor: pointer;\n",
              "    display: none;\n",
              "    fill: var(--fill-color);\n",
              "    height: 32px;\n",
              "    padding: 0;\n",
              "    width: 32px;\n",
              "  }\n",
              "\n",
              "  .colab-df-quickchart:hover {\n",
              "    background-color: var(--hover-bg-color);\n",
              "    box-shadow: 0 1px 2px rgba(60, 64, 67, 0.3), 0 1px 3px 1px rgba(60, 64, 67, 0.15);\n",
              "    fill: var(--button-hover-fill-color);\n",
              "  }\n",
              "\n",
              "  .colab-df-quickchart-complete:disabled,\n",
              "  .colab-df-quickchart-complete:disabled:hover {\n",
              "    background-color: var(--disabled-bg-color);\n",
              "    fill: var(--disabled-fill-color);\n",
              "    box-shadow: none;\n",
              "  }\n",
              "\n",
              "  .colab-df-spinner {\n",
              "    border: 2px solid var(--fill-color);\n",
              "    border-color: transparent;\n",
              "    border-bottom-color: var(--fill-color);\n",
              "    animation:\n",
              "      spin 1s steps(1) infinite;\n",
              "  }\n",
              "\n",
              "  @keyframes spin {\n",
              "    0% {\n",
              "      border-color: transparent;\n",
              "      border-bottom-color: var(--fill-color);\n",
              "      border-left-color: var(--fill-color);\n",
              "    }\n",
              "    20% {\n",
              "      border-color: transparent;\n",
              "      border-left-color: var(--fill-color);\n",
              "      border-top-color: var(--fill-color);\n",
              "    }\n",
              "    30% {\n",
              "      border-color: transparent;\n",
              "      border-left-color: var(--fill-color);\n",
              "      border-top-color: var(--fill-color);\n",
              "      border-right-color: var(--fill-color);\n",
              "    }\n",
              "    40% {\n",
              "      border-color: transparent;\n",
              "      border-right-color: var(--fill-color);\n",
              "      border-top-color: var(--fill-color);\n",
              "    }\n",
              "    60% {\n",
              "      border-color: transparent;\n",
              "      border-right-color: var(--fill-color);\n",
              "    }\n",
              "    80% {\n",
              "      border-color: transparent;\n",
              "      border-right-color: var(--fill-color);\n",
              "      border-bottom-color: var(--fill-color);\n",
              "    }\n",
              "    90% {\n",
              "      border-color: transparent;\n",
              "      border-bottom-color: var(--fill-color);\n",
              "    }\n",
              "  }\n",
              "</style>\n",
              "\n",
              "  <script>\n",
              "    async function quickchart(key) {\n",
              "      const quickchartButtonEl =\n",
              "        document.querySelector('#' + key + ' button');\n",
              "      quickchartButtonEl.disabled = true;  // To prevent multiple clicks.\n",
              "      quickchartButtonEl.classList.add('colab-df-spinner');\n",
              "      try {\n",
              "        const charts = await google.colab.kernel.invokeFunction(\n",
              "            'suggestCharts', [key], {});\n",
              "      } catch (error) {\n",
              "        console.error('Error during call to suggestCharts:', error);\n",
              "      }\n",
              "      quickchartButtonEl.classList.remove('colab-df-spinner');\n",
              "      quickchartButtonEl.classList.add('colab-df-quickchart-complete');\n",
              "    }\n",
              "    (() => {\n",
              "      let quickchartButtonEl =\n",
              "        document.querySelector('#df-3ed195c6-3a0c-426e-ac5c-3dc85183b770 button');\n",
              "      quickchartButtonEl.style.display =\n",
              "        google.colab.kernel.accessAllowed ? 'block' : 'none';\n",
              "    })();\n",
              "  </script>\n",
              "</div>\n",
              "    </div>\n",
              "  </div>\n"
            ]
          },
          "metadata": {},
          "execution_count": 6
        }
      ],
      "source": [
        "# tokenisasi kata\n",
        "def tokenize_text(kalimat):\n",
        "    tokens = nltk.tokenize.word_tokenize(kalimat)\n",
        "    return tokens\n",
        "\n",
        "df['token'] = df['clean'].apply(tokenize_text)\n",
        "df.head()"
      ]
    },
    {
      "cell_type": "markdown",
      "metadata": {
        "id": "i75l3cTUmPml"
      },
      "source": [
        "# **Filter**"
      ]
    },
    {
      "cell_type": "code",
      "execution_count": null,
      "metadata": {
        "id": "kvEHIZmHFMEt"
      },
      "outputs": [],
      "source": [
        "!pip install Sastrawi"
      ]
    },
    {
      "cell_type": "code",
      "execution_count": null,
      "metadata": {
        "id": "9N1oGdFlmSz6"
      },
      "outputs": [],
      "source": [
        "from Sastrawi.StopWordRemover.StopWordRemoverFactory import StopWordRemoverFactory\n",
        "from nltk.corpus import stopwords"
      ]
    },
    {
      "cell_type": "code",
      "execution_count": null,
      "metadata": {
        "id": "6rzN7hL7mTyl"
      },
      "outputs": [],
      "source": [
        "# filter stopwords via nltk\n",
        "stopword = stopwords.words('indonesian')\n",
        "\n",
        "def filter_stopwords(text):\n",
        "    words = word_tokenize(text)\n",
        "    filtered_words = [word for word in words if word.lower() not in stopword]\n",
        "    return filtered_words\n",
        "\n",
        "# filter stopword via sastrawi dan tambahan\n",
        "factory = StopWordRemoverFactory()\n",
        "more_stopwords = ['yg', 'amp', 'ya', 'ga', 'ok', 'oke', 'sip', 'oke',\n",
        "                  'kl', 'klu', 'klau', 'yng', 'bs', 'gak', 'kalau',\n",
        "                  'sangat', 'sgt', 'trs', 'trus', 'terus',\n",
        "                  'wkwk', 'spt', 'kek', 'kyk', 'kayak', 'kalo', 'aja',\n",
        "                  'sip', 'haha', 'bgt', 'bngt', 'dgn', 'dngn', 'iyh',\n",
        "                  'yah', 'no',\n",
        "\n",
        "                  'nomor', 'atur', 'negara', 'ayat', 'pasal', 'huruf',\n",
        "                  'tahun', 'diatur', 'sebagaimana', 'republik',\n",
        "                  'menteri', 'dimaksud', 'termaksud', 'indonesia',\n",
        "                  'tingkat', 'perintah', 'pimpin', 'pemimpin', 'pimpinan',\n",
        "                  'diatur', 'mengatur', 'diselenggarakan', 'daerah',\n",
        "                  'organisasi', 'instansi', 'rumah', 'sakit', 'negara'\n",
        "                  'ditentukan', 'pendayagunaan', 'reformasi', 'tentang',\n",
        "                  'birokrasi', 'negeri', 'daerah', 'subspesialis', 'ruang',\n",
        "                  'dilakukan', 'medik', 'aparatur', 'kemenpanrb', 'wali',\n",
        "                  'kota', 'gubernur', 'presiden', 'pemerintah', 'keputusan',\n",
        "                  'peraturan', 'nota', 'kesepahaman', 'antara', 'kemenkes',\n",
        "                  'kemendagri', 'provinsi', 'panrb', 'kementerian', 'dasar',\n",
        "                  'dijelaskan', 'menjelaskan', 'lembar', 'ditetapkan',\n",
        "                  'ditentukan', 'menentukan', 'berlaku', 'aspek', 'huruf',\n",
        "                  'sesuai', 'jawa', 'barat', 'kupang', 'bandung', 'undangundang',\n",
        "                  'undang', 'menetapkan', 'timur', 'nusa', 'tenggara', 'ntt',\n",
        "                  'perundangundangan', 'lembaran', 'nota', 'ombudsman',\n",
        "                  'kesepahaman', 'layan', 'pelayanan', 'publik', 'menurut',\n",
        "                  'danatau', 'kabupatenkota', 'diundangkan', 'ditentukan',\n",
        "                  'menentukan', 'jelas', 'cukup', 'tentu', 'ttd', 'lembaga',\n",
        "                  'nip', 'ttd', 'tambahan', 'tambah', 'dinas', 'bab', 'diubah',\n",
        "                  'mengubah', 'ubah', 'desa', 'puluh', 'puluhan', 'daya',\n",
        "                  'pendayaan', 'pemberdayaan', ' masyarakat', 'pelayanan',\n",
        "                  'melayani', 'dilayani', 'melayankan', 'layan', 'layankan',\n",
        "                  'orang', 'ditentukan', 'menentukan', 'mengingat', 'walikota',\n",
        "                  'penyelenggara', 'pelaksana', 'melaksanakan', 'dilaksanakan',\n",
        "                  'laksana', 'kerja', 'kegiatan', 'dikerjakan', 'pengerjaan',\n",
        "                  'giat', 'digiatkan', 'ditentukan', 'atas', 'oleh', 'baik',\n",
        "                  'guna', 'perbaikan', 'memperbaiki', 'menggunakan', 'digunakan',\n",
        "                  'diperbaiki', 'kabupaten', 'ditentukan', 'menentukan', 'tentu',\n",
        "                  'pemberian', 'diberikan', 'memberikan', 'beri']\n",
        "\n",
        "\n",
        "stopwords = factory.get_stop_words()+more_stopwords\n",
        "\n",
        "stopword_remover = factory.create_stop_word_remover()"
      ]
    },
    {
      "cell_type": "code",
      "execution_count": null,
      "metadata": {
        "colab": {
          "base_uri": "https://localhost:8080/",
          "height": 1000
        },
        "id": "NiRiYMSnpot4",
        "outputId": "34db454e-8b38-44b6-bf8e-64589e6ddaf4"
      },
      "outputs": [
        {
          "output_type": "execute_result",
          "data": {
            "text/plain": [
              "                                             Dokumen  \\\n",
              "0  PERATURAN WALI KOTA BANDUNG Nomor 21 Tahun 202...   \n",
              "1  Peraturan Wali Kota Bandung Nomor 32 Tahun 202...   \n",
              "2  Peraturan Wali Kota Bandung Nomor 42 Tahun 202...   \n",
              "3  Keputusan Wali Kota Bandung Nomor 503 Tahun 20...   \n",
              "4  Peraturan Gubernur NTT Nomor 118 Tahun 2022 te...   \n",
              "5  Keputusan Gubernur NTT Nomor 409 Tahun 2022 te...   \n",
              "6  Keputusan Gubernur NTT Nomor 125 Tahun 2021 te...   \n",
              "7  1A_Peraturan Wali Kota Kupang Nomor 22 Tahun 2...   \n",
              "8  1B_Peraturan Wali Kota Kupang Nomor 22 Tahun 2...   \n",
              "9  Peraturan Wali Kota Bandung Nomor 60 Tahun 202...   \n",
              "\n",
              "                                                teks  \\\n",
              "0  SALINAN\\n\\n\\n\\n\\n\\n\\n\\n\\nPROVINSI JAWA BARAT\\n...   \n",
              "1  SALINAN\\n\\n\\n\\n\\n\\n\\n\\n\\n\\n\\n\\n\\n\\nPROVINSI JA...   \n",
              "2  SALINAN\\n\\n\\n\\n\\n\\n\\n\\n\\n\\n\\n\\n\\nPROVINSI JAWA...   \n",
              "3  \\nPEMERINTAH KOTA BANDUNG\\n\\nSEKRETARIAT DAERA...   \n",
              "4  \\n\\n\\n\\n\\n\\nGUBERNUR\\tNUSA\\tTENGGARA\\tTIMUR\\n\\...   \n",
              "5  \\n\\n\\n\\n\\nGUBERNUR\\tNUSA\\tTENGGARA\\tTIMUR\\n\\nK...   \n",
              "6  PEMERINTAH\\tPROVINSI\\tNUSA\\tTENGGARA\\tTIMUR\\n\\...   \n",
              "7  \\nâ¢\\n\\n\\n\\nW ALIKOTA KUPANG\\n\\nPROVl.11181 N...   \n",
              "8  Bagian Kedelapan\\n\\nAplikasl SPBE\\n\\nPasal 23\\...   \n",
              "9  PROVINSI JAWA BARAT\\nPERATURAN WALI KOTA BANDU...   \n",
              "\n",
              "                                               clean  \\\n",
              "0  salinan provinsi jawa barat peraturan wali kot...   \n",
              "1  salinan provinsi jawa barat peraturan wali kot...   \n",
              "2  salinan provinsi jawa barat peraturan wali kot...   \n",
              "3  pemerintah kota bandung sekretariat daerah jal...   \n",
              "4  gubernur nusa tenggara timur peraturan gubernu...   \n",
              "5  gubernur nusa tenggara timur keputusan gubernu...   \n",
              "6  pemerintah provinsi nusa tenggara timur sekret...   \n",
              "7  alikota kupang provl nusa tenggara timur perat...   \n",
              "8  bagian kedelapan aplikasl spbe pasal aplikasi ...   \n",
              "9  provinsi jawa barat peraturan wali kota bandun...   \n",
              "\n",
              "                                               token  \\\n",
              "0  [salinan, provinsi, jawa, barat, peraturan, wa...   \n",
              "1  [salinan, provinsi, jawa, barat, peraturan, wa...   \n",
              "2  [salinan, provinsi, jawa, barat, peraturan, wa...   \n",
              "3  [pemerintah, kota, bandung, sekretariat, daera...   \n",
              "4  [gubernur, nusa, tenggara, timur, peraturan, g...   \n",
              "5  [gubernur, nusa, tenggara, timur, keputusan, g...   \n",
              "6  [pemerintah, provinsi, nusa, tenggara, timur, ...   \n",
              "7  [alikota, kupang, provl, nusa, tenggara, timur...   \n",
              "8  [bagian, kedelapan, aplikasl, spbe, pasal, apl...   \n",
              "9  [provinsi, jawa, barat, peraturan, wali, kota,...   \n",
              "\n",
              "                                                stop  \n",
              "0  [salinan, perubahan, pedoman, pengelolaan, lay...  \n",
              "1  [salinan, penyelenggaraan, mal, gerai, rahmat,...  \n",
              "2  [salinan, pendelegasian, wewenang, penyelengga...  \n",
              "3  [sekretariat, jalan, wastukancana, telp, salin...  \n",
              "4  [pedoman, pelaksanaan, kompetisi, inovasi, rah...  \n",
              "5  [kephk, top, sepuluh, inovasi, inovasi, rintis...  \n",
              "6  [sekretariat, jl, raya, el, tari, telepon, fax...  \n",
              "7  [alikota, provl, alikota, ku, pang, tentano, p...  \n",
              "8  [bagian, kedelapan, aplikasl, spbe, aplikasi, ...  \n",
              "9  [sistem, pemerintahan, berbasis, elektronik, r...  "
            ],
            "text/html": [
              "\n",
              "  <div id=\"df-2bf6d1f0-9523-4aad-882b-7faa84fbc3dd\" class=\"colab-df-container\">\n",
              "    <div>\n",
              "<style scoped>\n",
              "    .dataframe tbody tr th:only-of-type {\n",
              "        vertical-align: middle;\n",
              "    }\n",
              "\n",
              "    .dataframe tbody tr th {\n",
              "        vertical-align: top;\n",
              "    }\n",
              "\n",
              "    .dataframe thead th {\n",
              "        text-align: right;\n",
              "    }\n",
              "</style>\n",
              "<table border=\"1\" class=\"dataframe\">\n",
              "  <thead>\n",
              "    <tr style=\"text-align: right;\">\n",
              "      <th></th>\n",
              "      <th>Dokumen</th>\n",
              "      <th>teks</th>\n",
              "      <th>clean</th>\n",
              "      <th>token</th>\n",
              "      <th>stop</th>\n",
              "    </tr>\n",
              "  </thead>\n",
              "  <tbody>\n",
              "    <tr>\n",
              "      <th>0</th>\n",
              "      <td>PERATURAN WALI KOTA BANDUNG Nomor 21 Tahun 202...</td>\n",
              "      <td>SALINAN\\n\\n\\n\\n\\n\\n\\n\\n\\nPROVINSI JAWA BARAT\\n...</td>\n",
              "      <td>salinan provinsi jawa barat peraturan wali kot...</td>\n",
              "      <td>[salinan, provinsi, jawa, barat, peraturan, wa...</td>\n",
              "      <td>[salinan, perubahan, pedoman, pengelolaan, lay...</td>\n",
              "    </tr>\n",
              "    <tr>\n",
              "      <th>1</th>\n",
              "      <td>Peraturan Wali Kota Bandung Nomor 32 Tahun 202...</td>\n",
              "      <td>SALINAN\\n\\n\\n\\n\\n\\n\\n\\n\\n\\n\\n\\n\\n\\nPROVINSI JA...</td>\n",
              "      <td>salinan provinsi jawa barat peraturan wali kot...</td>\n",
              "      <td>[salinan, provinsi, jawa, barat, peraturan, wa...</td>\n",
              "      <td>[salinan, penyelenggaraan, mal, gerai, rahmat,...</td>\n",
              "    </tr>\n",
              "    <tr>\n",
              "      <th>2</th>\n",
              "      <td>Peraturan Wali Kota Bandung Nomor 42 Tahun 202...</td>\n",
              "      <td>SALINAN\\n\\n\\n\\n\\n\\n\\n\\n\\n\\n\\n\\n\\nPROVINSI JAWA...</td>\n",
              "      <td>salinan provinsi jawa barat peraturan wali kot...</td>\n",
              "      <td>[salinan, provinsi, jawa, barat, peraturan, wa...</td>\n",
              "      <td>[salinan, pendelegasian, wewenang, penyelengga...</td>\n",
              "    </tr>\n",
              "    <tr>\n",
              "      <th>3</th>\n",
              "      <td>Keputusan Wali Kota Bandung Nomor 503 Tahun 20...</td>\n",
              "      <td>\\nPEMERINTAH KOTA BANDUNG\\n\\nSEKRETARIAT DAERA...</td>\n",
              "      <td>pemerintah kota bandung sekretariat daerah jal...</td>\n",
              "      <td>[pemerintah, kota, bandung, sekretariat, daera...</td>\n",
              "      <td>[sekretariat, jalan, wastukancana, telp, salin...</td>\n",
              "    </tr>\n",
              "    <tr>\n",
              "      <th>4</th>\n",
              "      <td>Peraturan Gubernur NTT Nomor 118 Tahun 2022 te...</td>\n",
              "      <td>\\n\\n\\n\\n\\n\\nGUBERNUR\\tNUSA\\tTENGGARA\\tTIMUR\\n\\...</td>\n",
              "      <td>gubernur nusa tenggara timur peraturan gubernu...</td>\n",
              "      <td>[gubernur, nusa, tenggara, timur, peraturan, g...</td>\n",
              "      <td>[pedoman, pelaksanaan, kompetisi, inovasi, rah...</td>\n",
              "    </tr>\n",
              "    <tr>\n",
              "      <th>5</th>\n",
              "      <td>Keputusan Gubernur NTT Nomor 409 Tahun 2022 te...</td>\n",
              "      <td>\\n\\n\\n\\n\\nGUBERNUR\\tNUSA\\tTENGGARA\\tTIMUR\\n\\nK...</td>\n",
              "      <td>gubernur nusa tenggara timur keputusan gubernu...</td>\n",
              "      <td>[gubernur, nusa, tenggara, timur, keputusan, g...</td>\n",
              "      <td>[kephk, top, sepuluh, inovasi, inovasi, rintis...</td>\n",
              "    </tr>\n",
              "    <tr>\n",
              "      <th>6</th>\n",
              "      <td>Keputusan Gubernur NTT Nomor 125 Tahun 2021 te...</td>\n",
              "      <td>PEMERINTAH\\tPROVINSI\\tNUSA\\tTENGGARA\\tTIMUR\\n\\...</td>\n",
              "      <td>pemerintah provinsi nusa tenggara timur sekret...</td>\n",
              "      <td>[pemerintah, provinsi, nusa, tenggara, timur, ...</td>\n",
              "      <td>[sekretariat, jl, raya, el, tari, telepon, fax...</td>\n",
              "    </tr>\n",
              "    <tr>\n",
              "      <th>7</th>\n",
              "      <td>1A_Peraturan Wali Kota Kupang Nomor 22 Tahun 2...</td>\n",
              "      <td>\\nâ¢\\n\\n\\n\\nW ALIKOTA KUPANG\\n\\nPROVl.11181 N...</td>\n",
              "      <td>alikota kupang provl nusa tenggara timur perat...</td>\n",
              "      <td>[alikota, kupang, provl, nusa, tenggara, timur...</td>\n",
              "      <td>[alikota, provl, alikota, ku, pang, tentano, p...</td>\n",
              "    </tr>\n",
              "    <tr>\n",
              "      <th>8</th>\n",
              "      <td>1B_Peraturan Wali Kota Kupang Nomor 22 Tahun 2...</td>\n",
              "      <td>Bagian Kedelapan\\n\\nAplikasl SPBE\\n\\nPasal 23\\...</td>\n",
              "      <td>bagian kedelapan aplikasl spbe pasal aplikasi ...</td>\n",
              "      <td>[bagian, kedelapan, aplikasl, spbe, pasal, apl...</td>\n",
              "      <td>[bagian, kedelapan, aplikasl, spbe, aplikasi, ...</td>\n",
              "    </tr>\n",
              "    <tr>\n",
              "      <th>9</th>\n",
              "      <td>Peraturan Wali Kota Bandung Nomor 60 Tahun 202...</td>\n",
              "      <td>PROVINSI JAWA BARAT\\nPERATURAN WALI KOTA BANDU...</td>\n",
              "      <td>provinsi jawa barat peraturan wali kota bandun...</td>\n",
              "      <td>[provinsi, jawa, barat, peraturan, wali, kota,...</td>\n",
              "      <td>[sistem, pemerintahan, berbasis, elektronik, r...</td>\n",
              "    </tr>\n",
              "  </tbody>\n",
              "</table>\n",
              "</div>\n",
              "    <div class=\"colab-df-buttons\">\n",
              "\n",
              "  <div class=\"colab-df-container\">\n",
              "    <button class=\"colab-df-convert\" onclick=\"convertToInteractive('df-2bf6d1f0-9523-4aad-882b-7faa84fbc3dd')\"\n",
              "            title=\"Convert this dataframe to an interactive table.\"\n",
              "            style=\"display:none;\">\n",
              "\n",
              "  <svg xmlns=\"http://www.w3.org/2000/svg\" height=\"24px\" viewBox=\"0 -960 960 960\">\n",
              "    <path d=\"M120-120v-720h720v720H120Zm60-500h600v-160H180v160Zm220 220h160v-160H400v160Zm0 220h160v-160H400v160ZM180-400h160v-160H180v160Zm440 0h160v-160H620v160ZM180-180h160v-160H180v160Zm440 0h160v-160H620v160Z\"/>\n",
              "  </svg>\n",
              "    </button>\n",
              "\n",
              "  <style>\n",
              "    .colab-df-container {\n",
              "      display:flex;\n",
              "      gap: 12px;\n",
              "    }\n",
              "\n",
              "    .colab-df-convert {\n",
              "      background-color: #E8F0FE;\n",
              "      border: none;\n",
              "      border-radius: 50%;\n",
              "      cursor: pointer;\n",
              "      display: none;\n",
              "      fill: #1967D2;\n",
              "      height: 32px;\n",
              "      padding: 0 0 0 0;\n",
              "      width: 32px;\n",
              "    }\n",
              "\n",
              "    .colab-df-convert:hover {\n",
              "      background-color: #E2EBFA;\n",
              "      box-shadow: 0px 1px 2px rgba(60, 64, 67, 0.3), 0px 1px 3px 1px rgba(60, 64, 67, 0.15);\n",
              "      fill: #174EA6;\n",
              "    }\n",
              "\n",
              "    .colab-df-buttons div {\n",
              "      margin-bottom: 4px;\n",
              "    }\n",
              "\n",
              "    [theme=dark] .colab-df-convert {\n",
              "      background-color: #3B4455;\n",
              "      fill: #D2E3FC;\n",
              "    }\n",
              "\n",
              "    [theme=dark] .colab-df-convert:hover {\n",
              "      background-color: #434B5C;\n",
              "      box-shadow: 0px 1px 3px 1px rgba(0, 0, 0, 0.15);\n",
              "      filter: drop-shadow(0px 1px 2px rgba(0, 0, 0, 0.3));\n",
              "      fill: #FFFFFF;\n",
              "    }\n",
              "  </style>\n",
              "\n",
              "    <script>\n",
              "      const buttonEl =\n",
              "        document.querySelector('#df-2bf6d1f0-9523-4aad-882b-7faa84fbc3dd button.colab-df-convert');\n",
              "      buttonEl.style.display =\n",
              "        google.colab.kernel.accessAllowed ? 'block' : 'none';\n",
              "\n",
              "      async function convertToInteractive(key) {\n",
              "        const element = document.querySelector('#df-2bf6d1f0-9523-4aad-882b-7faa84fbc3dd');\n",
              "        const dataTable =\n",
              "          await google.colab.kernel.invokeFunction('convertToInteractive',\n",
              "                                                    [key], {});\n",
              "        if (!dataTable) return;\n",
              "\n",
              "        const docLinkHtml = 'Like what you see? Visit the ' +\n",
              "          '<a target=\"_blank\" href=https://colab.research.google.com/notebooks/data_table.ipynb>data table notebook</a>'\n",
              "          + ' to learn more about interactive tables.';\n",
              "        element.innerHTML = '';\n",
              "        dataTable['output_type'] = 'display_data';\n",
              "        await google.colab.output.renderOutput(dataTable, element);\n",
              "        const docLink = document.createElement('div');\n",
              "        docLink.innerHTML = docLinkHtml;\n",
              "        element.appendChild(docLink);\n",
              "      }\n",
              "    </script>\n",
              "  </div>\n",
              "\n",
              "\n",
              "<div id=\"df-37e36322-49d5-4301-8c11-6694d63d0da9\">\n",
              "  <button class=\"colab-df-quickchart\" onclick=\"quickchart('df-37e36322-49d5-4301-8c11-6694d63d0da9')\"\n",
              "            title=\"Suggest charts\"\n",
              "            style=\"display:none;\">\n",
              "\n",
              "<svg xmlns=\"http://www.w3.org/2000/svg\" height=\"24px\"viewBox=\"0 0 24 24\"\n",
              "     width=\"24px\">\n",
              "    <g>\n",
              "        <path d=\"M19 3H5c-1.1 0-2 .9-2 2v14c0 1.1.9 2 2 2h14c1.1 0 2-.9 2-2V5c0-1.1-.9-2-2-2zM9 17H7v-7h2v7zm4 0h-2V7h2v10zm4 0h-2v-4h2v4z\"/>\n",
              "    </g>\n",
              "</svg>\n",
              "  </button>\n",
              "\n",
              "<style>\n",
              "  .colab-df-quickchart {\n",
              "      --bg-color: #E8F0FE;\n",
              "      --fill-color: #1967D2;\n",
              "      --hover-bg-color: #E2EBFA;\n",
              "      --hover-fill-color: #174EA6;\n",
              "      --disabled-fill-color: #AAA;\n",
              "      --disabled-bg-color: #DDD;\n",
              "  }\n",
              "\n",
              "  [theme=dark] .colab-df-quickchart {\n",
              "      --bg-color: #3B4455;\n",
              "      --fill-color: #D2E3FC;\n",
              "      --hover-bg-color: #434B5C;\n",
              "      --hover-fill-color: #FFFFFF;\n",
              "      --disabled-bg-color: #3B4455;\n",
              "      --disabled-fill-color: #666;\n",
              "  }\n",
              "\n",
              "  .colab-df-quickchart {\n",
              "    background-color: var(--bg-color);\n",
              "    border: none;\n",
              "    border-radius: 50%;\n",
              "    cursor: pointer;\n",
              "    display: none;\n",
              "    fill: var(--fill-color);\n",
              "    height: 32px;\n",
              "    padding: 0;\n",
              "    width: 32px;\n",
              "  }\n",
              "\n",
              "  .colab-df-quickchart:hover {\n",
              "    background-color: var(--hover-bg-color);\n",
              "    box-shadow: 0 1px 2px rgba(60, 64, 67, 0.3), 0 1px 3px 1px rgba(60, 64, 67, 0.15);\n",
              "    fill: var(--button-hover-fill-color);\n",
              "  }\n",
              "\n",
              "  .colab-df-quickchart-complete:disabled,\n",
              "  .colab-df-quickchart-complete:disabled:hover {\n",
              "    background-color: var(--disabled-bg-color);\n",
              "    fill: var(--disabled-fill-color);\n",
              "    box-shadow: none;\n",
              "  }\n",
              "\n",
              "  .colab-df-spinner {\n",
              "    border: 2px solid var(--fill-color);\n",
              "    border-color: transparent;\n",
              "    border-bottom-color: var(--fill-color);\n",
              "    animation:\n",
              "      spin 1s steps(1) infinite;\n",
              "  }\n",
              "\n",
              "  @keyframes spin {\n",
              "    0% {\n",
              "      border-color: transparent;\n",
              "      border-bottom-color: var(--fill-color);\n",
              "      border-left-color: var(--fill-color);\n",
              "    }\n",
              "    20% {\n",
              "      border-color: transparent;\n",
              "      border-left-color: var(--fill-color);\n",
              "      border-top-color: var(--fill-color);\n",
              "    }\n",
              "    30% {\n",
              "      border-color: transparent;\n",
              "      border-left-color: var(--fill-color);\n",
              "      border-top-color: var(--fill-color);\n",
              "      border-right-color: var(--fill-color);\n",
              "    }\n",
              "    40% {\n",
              "      border-color: transparent;\n",
              "      border-right-color: var(--fill-color);\n",
              "      border-top-color: var(--fill-color);\n",
              "    }\n",
              "    60% {\n",
              "      border-color: transparent;\n",
              "      border-right-color: var(--fill-color);\n",
              "    }\n",
              "    80% {\n",
              "      border-color: transparent;\n",
              "      border-right-color: var(--fill-color);\n",
              "      border-bottom-color: var(--fill-color);\n",
              "    }\n",
              "    90% {\n",
              "      border-color: transparent;\n",
              "      border-bottom-color: var(--fill-color);\n",
              "    }\n",
              "  }\n",
              "</style>\n",
              "\n",
              "  <script>\n",
              "    async function quickchart(key) {\n",
              "      const quickchartButtonEl =\n",
              "        document.querySelector('#' + key + ' button');\n",
              "      quickchartButtonEl.disabled = true;  // To prevent multiple clicks.\n",
              "      quickchartButtonEl.classList.add('colab-df-spinner');\n",
              "      try {\n",
              "        const charts = await google.colab.kernel.invokeFunction(\n",
              "            'suggestCharts', [key], {});\n",
              "      } catch (error) {\n",
              "        console.error('Error during call to suggestCharts:', error);\n",
              "      }\n",
              "      quickchartButtonEl.classList.remove('colab-df-spinner');\n",
              "      quickchartButtonEl.classList.add('colab-df-quickchart-complete');\n",
              "    }\n",
              "    (() => {\n",
              "      let quickchartButtonEl =\n",
              "        document.querySelector('#df-37e36322-49d5-4301-8c11-6694d63d0da9 button');\n",
              "      quickchartButtonEl.style.display =\n",
              "        google.colab.kernel.accessAllowed ? 'block' : 'none';\n",
              "    })();\n",
              "  </script>\n",
              "</div>\n",
              "    </div>\n",
              "  </div>\n"
            ]
          },
          "metadata": {},
          "execution_count": 9
        }
      ],
      "source": [
        "# filter stopword via sastrawi automated\n",
        "def stopword_text(tokens):\n",
        "    cleaned_tokens = []\n",
        "    for token in tokens:\n",
        "        if token not in stopwords:\n",
        "            cleaned_tokens.append(token)\n",
        "    return cleaned_tokens\n",
        "\n",
        "df['stop'] = df['token'].apply(stopword_text)\n",
        "df.head(10)"
      ]
    },
    {
      "cell_type": "markdown",
      "metadata": {
        "id": "WDv19hvhmx4v"
      },
      "source": [
        "# **Stem**"
      ]
    },
    {
      "cell_type": "code",
      "execution_count": null,
      "metadata": {
        "id": "VrSfwnUXmzrM"
      },
      "outputs": [],
      "source": [
        "from Sastrawi.Stemmer.StemmerFactory import StemmerFactory\n",
        "stem_factory = StemmerFactory()\n",
        "stemmer = stem_factory.create_stemmer()"
      ]
    },
    {
      "cell_type": "code",
      "execution_count": null,
      "metadata": {
        "id": "-884Jfa8m0tx"
      },
      "outputs": [],
      "source": [
        "def stemming_text(tokens):\n",
        "    hasil = [stemmer.stem(token) for token in tokens]\n",
        "    return hasil\n",
        "\n",
        "df['stemmed'] = df['stop'].apply(stemming_text)\n",
        "df.head(10)"
      ]
    },
    {
      "cell_type": "markdown",
      "metadata": {
        "id": "eUCSAfY8ly6f"
      },
      "source": [
        "# **Normalization (Optional)**"
      ]
    },
    {
      "cell_type": "code",
      "execution_count": null,
      "metadata": {
        "id": "wYBdidydU6w8"
      },
      "outputs": [],
      "source": [
        "import pandas as pd\n",
        "\n",
        "normalized_word = pd.read_excel(\"/content/drive/MyDrive/Normalization Rules Indo/normal.xlsx\")\n",
        "\n",
        "normalized_word_dict={}\n",
        "\n",
        "for index, row in normalized_word.iterrows():\n",
        "    if row[0] not in normalized_word_dict:\n",
        "        normalized_word_dict[row[0]] = row[1]\n",
        "\n",
        "def normalized_term(document):\n",
        "    return [normalized_word_dict[term] if term in normalized_word_dict else term for term in document]\n",
        "\n",
        "df['normalized'] = df['stemmed'].apply(normalized_term)\n",
        "df.head(10)"
      ]
    },
    {
      "cell_type": "markdown",
      "metadata": {
        "id": "UUwUvaC1PUgx"
      },
      "source": [
        "# **Save**"
      ]
    },
    {
      "cell_type": "code",
      "execution_count": null,
      "metadata": {
        "id": "K9kq1ur3PWCV"
      },
      "outputs": [],
      "source": [
        "data_to_save = \"preprocessed.xlsx\"\n",
        "df.to_excel(data_to_save, index=False)"
      ]
    },
    {
      "cell_type": "markdown",
      "metadata": {
        "id": "tID-Hnldm3no"
      },
      "source": [
        "# **Visualize Freq Dist**"
      ]
    },
    {
      "cell_type": "code",
      "execution_count": null,
      "metadata": {
        "id": "rdHSZU3DnCUW"
      },
      "outputs": [],
      "source": [
        "from nltk.probability import FreqDist\n",
        "import matplotlib.pyplot as plt"
      ]
    },
    {
      "cell_type": "code",
      "execution_count": null,
      "metadata": {
        "colab": {
          "base_uri": "https://localhost:8080/"
        },
        "id": "K_IjyNFOnDzR",
        "outputId": "4ecef6a0-8c6f-40e9-f170-139f301921ac"
      },
      "outputs": [
        {
          "output_type": "stream",
          "name": "stdout",
          "text": [
            "[('spbe', 452), ('layanan', 168), ('perangkat', 141), ('manajemen', 130), ('data', 128), ('aplikasi', 125), ('inovasi', 124), ('informasi', 114), ('pelaksanaan', 103), ('pengaduan', 96), ('penyelenggaraan', 92), ('arsitektur', 71), ('izin', 70), ('proses', 68), ('elektronik', 65), ('evaluasi', 55), ('komunikasi', 53), ('berbasis', 52), ('sistem', 52), ('pembangunan', 48), ('kompetisi', 44), ('pengelolaan', 43), ('pemantauan', 43), ('infrastruktur', 38), ('teknologi', 37), ('pengembangan', 36), ('urusan', 34), ('terpadu', 34), ('perizinan', 31), ('tik', 31), ('perencanaan', 31), ('jaringan', 30), ('bisnis', 30), ('nonperizinan', 29), ('mandiri', 29), ('menyelenggarakan', 28), ('peta', 28), ('berkoordinasi', 27), ('usaha', 26), ('masyarakat', 26), ('integrasi', 26), ('manusia', 25), ('kepala', 24), ('risiko', 24), ('konsultasi', 24), ('sekretaris', 23), ('berusaha', 23), ('terintegrasi', 23), ('meningkatkan', 23), ('antar', 23), ('nasional', 23), ('kali', 22), ('penggunaan', 22), ('penyusunan', 22), ('administrasi', 20), ('praktik', 20), ('proposal', 20), ('top', 20), ('serangkaian', 20), ('unsur', 19), ('kewenangan', 19), ('disingkat', 19), ('laporan', 19), ('pembentukan', 19), ('djawa', 19), ('pintu', 19), ('jangka', 19), ('barang', 18), ('penetapan', 18), ('menjamin', 18), ('aset', 18), ('kedua', 17), ('pengendalian', 17), ('mendukung', 17), ('kesatu', 17), ('clan', 17), ('paragraf', 17), ('penilaian', 16), ('mpp', 16), ('koordinasi', 16), ('kelola', 16), ('akuntabilitas', 16), ('penjaminan', 16), ('pertimbangan', 15), ('beberapa', 15), ('bumd', 15), ('jasa', 15), ('cara', 15), ('tujuan', 15), ('lingkup', 15), ('lokasi', 15), ('kearsipan', 15), ('penghubung', 15), ('berbunyi', 14), ('akses', 14), ('disusun', 14), ('mal', 14), ('terakhir', 14), ('gpp', 14), ('pakai', 14), ('tp', 14), ('bertujuan', 14), ('kepegawaian', 14), ('intra', 14), ('keterpaduan', 14), ('domain', 14), ('pengadaan', 14), ('korupsi', 14), ('pidana', 14), ('salinan', 13), ('rakyat', 13), ('berikut', 13), ('verifikasi', 13), ('penanaman', 13), ('modal', 13), ('dpmptsp', 13), ('disebut', 13), ('peserta', 13), ('pengguna', 13), ('pegawai', 13), ('internal', 13), ('penganggaran', 13), ('induk', 13), ('online', 12), ('pokok', 12), ('diperlukan', 12), ('mulai', 12), ('berkala', 12), ('memiliki', 12), ('dokter', 12), ('memenuhi', 12), ('desk', 12), ('tier', 12), ('dirnaksud', 12), ('pengetahuan', 12), ('pengawasan', 11), ('apabila', 11), ('diterapkan', 11), ('sipil', 11), ('kerahasiaan', 11), ('memutuskan', 10), ('mekanisme', 10), ('besar', 10), ('kotakota', 10), ('penandatanganan', 10), ('ketiga', 10), ('langsung', 10), ('menghasilkan', 10), ('memastikan', 10), ('permasalahan', 10), ('service', 10), ('ketersediaan', 10), ('berpedoman', 10), ('keberlangsungan', 10), ('berikutpasal', 10), ('tengah', 9), ('iv', 9), ('penyediaan', 9), ('pemeliharaan', 9), ('pembinaan', 9), ('berwenang', 9), ('bangunan', 9), ('gigi', 9), ('jalan', 9), ('sewaktuwaktu', 9), ('kep', 9), ('terjadi', 9), ('kategori', 9), ('menengah', 9), ('sedikit', 9), ('implementasi', 9), ('transaksi', 9), ('spee', 9), ('lan', 9), ('dalarn', 9), ('inspektorat', 9), ('aspirasi', 8), ('lima', 8), ('ii', 8), ('sekretariat', 8), ('maksud', 8), ('iii', 8), ('lampiran', 8), ('melaporkan', 8), ('cipta', 8), ('pelaporan', 8), ('menimbang', 8), ('penilai', 8), ('kriteria', 8), ('pernerintah', 8), ('prosedur', 8), ('sebagairnana', 8), ('pengoperasian', 8), ('reviu', 8), ('rahmat', 7), ('maha', 7), ('esa', 7), ('memimpin', 7), ('pengadu', 7), ('warga', 7), ('maupun', 7), ('cepat', 7), ('mudah', 7), ('relevan', 7), ('memerintahkan', 7), ('pengundangan', 7), ('dibentuk', 7), ('biaya', 7), ('bukti', 7), ('persetujuan', 7), ('pelaku', 7), ('wewenang', 7), ('teknis', 7), ('terapis', 7), ('pendidikan', 7), ('keempat', 7), ('gerakan', 7), ('dihasilkan', 7), ('percepatan', 7), ('efektif', 7), ('diajukan', 7), ('dikembangkan', 7), ('memperhatikan', 7), ('pengolahan', 7), ('menerapkan', 7), ('basis', 7), ('memanfaatkan', 7), ('kerangka', 7), ('pengaturan', 7), ('penyimpanan', 7), ('dibangun', 7), ('surnber', 7), ('keutuhan', 7), ('lnfrastruktur', 7), ('didasarkan', 7), ('server', 7), ('infrastrukrur', 7), ('tuhan', 6), ('angka', 6), ('dihapus', 6), ('otonom', 6), ('penanganan', 6), ('lapangan', 6), ('tahapan', 6), ('mengetahuinya', 6), ('penempatannya', 6), ('gerai', 6), ('daerahdaerah', 6), ('pengubahan', 6), ('kecil', 6), ('kesatuan', 6), ('non', 6), ('swasta', 6), ('menyediakan', 6), ('legalitas', 6), ('seseorang', 6), ('tertentu', 6), ('mengelola', 6), ('operasional', 6), ('pemanfaatan', 6), ('monitoring', 6), ('mendirikan', 6), ('spesialis', 6), ('tenaga', 6), ('fasilitas', 6), ('reklame', 6), ('manfaat', 6), ('one', 6), ('se', 6), ('berkelanjutan', 6), ('mencapai', 6), ('pertukaran', 6), ('maksimal', 6), ('semua', 6), ('sidang', 6), ('mendeskripsikan', 6), ('keras', 6), ('perangkar', 6), ('rnelakukan', 6), ('gubemur', 6), ('dewan', 5), ('media', 5), ('penduduk', 5), ('keluhan', 5), ('kewajiban', 5), ('berkualitas', 5), ('menerima', 5), ('menyusun', 5), ('akurat', 5), ('sepuluh', 5), ('istimewa', 5), ('jogjakarta', 5), ('tempat', 5), ('jumlah', 5), ('kemudahan', 5), ('gedung', 5), ('mendapatkan', 5), ('tercantum', 5), ('belanja', 5), ('tahap', 5), ('persyaratan', 5), ('usia', 5), ('surat', 5), ('dinyatakan', 5), ('kelima', 5), ('keenam', 5), ('kantor', 5), ('seleksi', 5), ('penghargaan', 5), ('viktor', 5), ('bungtilu', 5), ('laiskodat', 5), ('simpul', 5), ('upaya', 5), ('efisien', 5), ('sektor', 5), ('dampak', 5), ('berkesinambungan', 5), ('mencakup', 5), ('berisi', 5), ('kesesuaian', 5), ('adanya', 5), ('presentasi', 5), ('observasi', 5), ('uraian', 5), ('masalah', 5), ('keuangan', 5), ('optimalisasi', 5), ('sistern', 5), ('sekumpulan', 5), ('saling', 5), ('lunak', 5), ('pemulihan', 5), ('perlindungan', 5), ('efisiensi', 5), ('kenirsangkalan', 5), ('lnformasi', 5), ('sebagalmana', 5), ('kesembilan', 5), ('manajernen', 5), ('pendanaan', 5), ('sejenis', 5), ('fasilitasi', 5), ('pembantu', 4), ('system', 4), ('disediakan', 4), ('perseorangan', 4), ('menyampaikan', 4), ('disampaikan', 4), ('terjangkau', 4), ('kewenangannya', 4), ('hari', 4), ('substansi', 4), ('tanggapan', 4), ('penyelesaian', 4), ('ema', 4), ('sumarna', 4), ('aslinya', 4), ('sh', 4), ('satuan', 4), ('perjanjian', 4), ('vi', 4), ('terpisahkan', 4), ('dibebankan', 4), ('pendapatan', 4), ('penutup', 4), ('oded', 4), ('mohamad', 4), ('danial', 4), ('pendelegasian', 4), ('menjalankan', 4), ('permohonan', 4), ('sendiri', 4), ('naskah', 4), ('program', 4), ('ll', 4), ('tradisional', 4), ('permanen', 4), ('jembatan', 4), ('bulan', 4), ('dicabut', 4), ('innovation', 4), ('salah', 4), ('judul', 4), ('menggambarkan', 4), ('diimplementasikan', 4), ('singkat', 4), ('melampirkan', 4), ('disimpan', 4), ('format', 4), ('pertama', 4), ('berupa', 4), ('pendukung', 4), ('minimal', 4), ('anggota', 4), ('wawancara', 4), ('bobot', 4), ('kemajuan', 4), ('kephk', 4), ('rintisan', 4), ('selatan', 4), ('menginformasikan', 4), ('menyelaraskan', 4), ('inforrnasi', 4), ('pernerintahan', 4), ('aplikaai', 4), ('spb', 4), ('dacrah', 4), ('perangkal', 4), ('penempatan', 4), ('suatu', 4), ('kode', 4), ('seruice', 4), ('tlk', 4), ('panduan', 4), ('sp', 4), ('pasa', 4), ('strategis', 4), ('pembatasan', 4), ('menjaga', 4), ('ketujuh', 4), ('mengadakan', 4), ('beserta', 4), ('aplikas', 4), ('climaksud', 4), ('keaslian', 4), ('digital', 4), ('menyelesaikan', 4), ('rnelalui', 4), ('analisis', 4), ('tersendiri', 4), ('koordinator', 4), ('transparansi', 4), ('pemberantasan', 4), ('dugaan', 4), ('darurat', 4), ('lapor', 3), ('sosial', 3), ('sms', 3), ('rangkaian', 3), ('administratif', 3), ('kelompok', 3), ('penyampaian', 3), ('website', 3), ('penerimaan', 3), ('laporanlaporan', 3), ('lengkap', 3), ('lama', 3), ('sejak', 3), ('kurang', 3), ('tepat', 3), ('tertib', 3), ('mulyana', 3), ('penata', 3), ('susunan', 3), ('institusi', 3), ('sematamata', 3), ('perluasan', 3), ('negarabadan', 3), ('daerahswasta', 3), ('usahakegiatan', 3), ('sekelompok', 3), ('akuntabel', 3), ('membuat', 3), ('memuat', 3), ('termasuk', 3), ('tanggungjawab', 3), ('melibatkan', 3), ('vii', 3), ('pembiayaan', 3), ('sah', 3), ('bertugas', 3), ('maret', 3), ('pembina', 3), ('produk', 3), ('delegasi', 3), ('baru', 3), ('teknisi', 3), ('pendirian', 3), ('angkutan', 3), ('trayek', 3), ('sekali', 3), ('perkembangannya', 3), ('disesuaikan', 3), ('propinsi', 3), ('acara', 3), ('sekota', 3), ('agency', 3), ('jenis', 3), ('kompetensi', 3), ('rincian', 3), ('jadwal', 3), ('rpjmd', 3), ('mewujudkan', 3), ('ditetapkannya', 3), ('pengalaman', 3), ('kipp', 3), ('kebaruan', 3), ('keluaran', 3), ('mendapat', 3), ('dukungan', 3), ('perorangan', 3), ('sosialisasi', 3), ('publikasi', 3), ('bimbingan', 3), ('pengajuan', 3), ('dinilai', 3), ('finalis', 3), ('komponen', 3), ('lengkapi', 3), ('kata', 3), ('mengukur', 3), ('biro', 3), ('ketua', 3), ('mengevaluasi', 3), ('pengkajian', 3), ('an', 3), ('ku', 3), ('pang', 3), ('elektronlk', 3), ('arah', 3), ('dlmaksud', 3), ('lernbaran', 3), ('nornor', 3), ('keterbukaan', 3), ('apararur', 3), ('terlaksananya', 3), ('pengarahan', 3), ('menghubungkan', 3), ('spbr', 3), ('terstruktur', 3), ('tertutup', 3), ('spbi', 3), ('dirancang', 3), ('dikelola', 3), ('mampu', 3), ('bencana', 3), ('membangun', 3), ('interoperabilitas', 3), ('kemampuan', 3), ('kcamanan', 3), ('penghapusan', 3), ('gangguan', 3), ('repositori', 3), ('dokumentasi', 3), ('mengacu', 3), ('rnerupakan', 3), ('rnanajemen', 3), ('ill', 3), ('unruk', 3), ('pbe', 3), ('kekinian', 3), ('akurasi', 3), ('klasifikasi', 3), ('pendeteksian', 3), ('modifikasi', 3), ('internet', 3), ('pengernbangan', 3), ('kedelapan', 3), ('kelengkapannya', 3), ('cadangan', 3), ('validasi', 3), ('tanda', 3), ('tangan', 3), ('dao', 3), ('meminimalkan', 3), ('bertanggungjawab', 3), ('kelayakan', 3), ('panjang', 3), ('paruh', 3), ('mengutamakan', 3), ('siber', 3), ('berindikasi', 3), ('disisipkan', 3), ('pengabaian', 2), ('pelanggaran', 2), ('acuan', 2), ('membuka', 2), ('tiga', 2), ('kanal', 2), ('memerlukan', 2), ('konfirmasi', 2), ('arsip', 2), ('mengandung', 2), ('berhubungan', 2), ('berkewajiban', 2), ('terdisposisi', 2), ('bertanggung', 2), ('tuntas', 2), ('februari', 2), ('plt', 2), ('yana', 2), ('santosa', 2), ('lukman', 2), ('arief', 2), ('berada', 2), ('dilingkungan', 2), ('korporasi', 2), ('berlangsungnya', 2), ('aktivitas', 2), ('aman', 2), ('nyaman', 2), ('terbatas', 2), ('kelancaran', 2), ('sahnya', 2), ('dimaksudkan', 2), ('berbagai', 2), ('kecepatan', 2), ('transparan', 2), ('bebas', 2), ('usulan', 2), ('kesepakatan', 2), ('ditindaklanjuti', 2), ('ruangan', 2), ('prasaranafasilitas', 2), ('ix', 2), ('memulai', 2), ('komitmen', 2), ('sepenuhnya', 2), ('dibentuknya', 2), ('pencabutan', 2), ('revisi', 2), ('perawat', 2), ('okupasi', 2), ('bidan', 2), ('fisioterapis', 2), ('wicara', 2), ('gizi', 2), ('klinis', 2), ('sertifikat', 2), ('mulut', 2), ('interkontinental', 2), ('bengkel', 2), ('kartu', 2), ('mei', 2), ('uni', 2), ('nama', 2), ('kemudian', 2), ('diktum', 2), ('selama', 2), ('pinjam', 2), ('tembusan', 2), ('forum', 2), ('enam', 2), ('pendahuluan', 2), ('latar', 2), ('belakang', 2), ('misi', 2), ('pencapaian', 2), ('sebenarnya', 2), ('mengalami', 2), ('hub', 2), ('visi', 2), ('mendorong', 2), ('berjalan', 2), ('mendiseminasikan', 2), ('pembelajaran', 2), ('publiknya', 2), ('bersangkutan', 2), ('video', 2), ('tiap', 2), ('mengajukan', 2), ('ne', 2), ('disubmit', 2), ('memeriksa', 2), ('disyaratkan', 2), ('peer', 2), ('mengusulkan', 2), ('sejumlah', 2), ('dikonsolidasikan', 2), ('dihadiri', 2), ('nominasi', 2), ('keterwakilan', 2), ('komposisi', 2), ('berubah', 2), ('deskripsi', 2), ('jelaskan', 2), ('dipilih', 2), ('uraikan', 2), ('potensi', 2), ('kesamaan', 2), ('berpartisipasi', 2), ('hubungan', 2), ('buku', 2), ('bahan', 2), ('timor', 2), ('ib', 2), ('daftar', 2), ('cakupan', 2), ('setda', 2), ('bangkit', 2), ('imunisasi', 2), ('single', 2), ('umkm', 2), ('pangan', 2), ('raya', 2), ('bersih', 2), ('polo', 2), ('maing', 2), ('penyusunanpengkajian', 2), ('alikota', 2), ('peluang', 2), ('pengaksesan', 2), ('ber', 2), ('it', 2), ('tah', 2), ('ndonesia', 2), ('peraruran', 2), ('deogan', 2), ('rnemiliki', 2), ('menyatukan', 2), ('alur', 2), ('arsitekrur', 2), ('langkah', 2), ('penyiapan', 2), ('lnstansi', 2), ('penunjang', 2), ('ainnya', 2), ('keperluan', 2), ('rnenghubungkan', 2), ('komputer', 2), ('bukan', 2), ('memperoleh', 2), ('objektif', 2), ('tnformasi', 2), ('tulisan', 2), ('edi', 2), ('terjadinya', 2), ('pemilik', 2), ('level', 2), ('staf', 2), ('dl', 2), ('pcrangkat', 2), ('dihubungi', 2), ('diselesaikan', 2), ('efektivitas', 2), ('kesinambungan', 2), ('pad', 2), ('keaalian', 2), ('rcncana', 2), ('spde', 2), ('arsitcktur', 2), ('spoe', 2), ('spbb', 2), ('keadaan', 2), ('penyesuaian', 2), ('lj', 2), ('sebagairoana', 2), ('tahunan', 2), ('benujuan', 2), ('mformasi', 2), ('mernperhatikan', 2), ('rnenjadi', 2), ('kentuhan', 2), ('oleb', 2), ('prasarana', 2), ('khususnya', 2), ('jaminan', 2), ('konfigurasi', 2), ('perawatan', 2), ('backup', 2), ('dmas', 2), ('pengiriman', 2), ('oaerah', 2), ('situs', 2), ('web', 2), ('memudahkan', 2), ('membutuhkan', 2), ('keterhubungan', 2), ('kelaikan', 2), ('khusue', 2), ('dikoordinasikan', 2), ('pengujian', 2), ('dtmaksud', 2), ('diserahkan', 2), ('kentrsangkalan', 2), ('dilakuan', 2), ('kearnanan', 2), ('kesepuluh', 2), ('tara', 2), ('aya', 2), ('berbaais', 2), ('rneliputi', 2), ('mengkoordinir', 2), ('mclakukan', 2), ('identifikasi', 2), ('sebagaiman', 2), ('terwujudnya', 2), ('mutakhir', 2), ('diakses', 2), ('referensi', 2), ('dalamspbe', 2), ('pengambilan', 2), ('pengumpulan', 2), ('alih', 2), ('metodologi', 2), ('membenruk', 2), ('rnaka', 2), ('permintaan', 2), ('daerab', 2), ('peralihan', 2), ('berlakunya', 2), ('menyesuaikan', 2), ('pemindahan', 2), ('membidangi', 2), ('perundang', 2), ('undangan', 2), ('terbuka', 2), ('pemeriksaan', 2), ('nonkementerian', 2), ('sistematika', 2), ('agustus', 2), ('seri', 2), ('togas', 2), ('diserahi', 2), ('tindaklanjut', 2), ('whistleblowing', 2), ('berkaitan', 2), ('whistleblower', 2), ('mengalarni', 2), ('berjenjang', 2), ('superv', 2), ('muka', 2), ('selaku', 2), ('meliputia', 2), ('asasi', 2), ('minggu', 2), ('humaspro', 2), ('dimaksu', 1), ('interaktif', 1), ('short', 1), ('massages', 1), ('tolok', 1), ('dipergunakan', 1), ('janji', 1), ('terukur', 1), ('android', 1), ('ios', 1), ('memverifikasi', 1), ('mendisposisikan', 1), ('diterimanya', 1), ('pending', 1), ('merubah', 1), ('berulang', 1), ('sara', 1), ('memproses', 1), ('menindaklanjuti', 1), ('jawaban', 1), ('denganterlebihdahulu', 1), ('pengecekan', 1), ('bila', 1), ('dikirimkan', 1), ('didisposisikan', 1), ('menunjang', 1), ('menugaskan', 1), ('pegawainya', 1), ('menginformasikannya', 1), ('disertai', 1), ('saran', 1), ('pendisposisian', 1), ('dipertanggungjawabkan', 1), ('status', 1), ('tanggapanjawaban', 1), ('respon', 1), ('lanjutan', 1), ('si', 1), ('penulisan', 1), ('skpd', 1), ('dibaca', 1), ('dimaknai', 1), ('jalajalan', 1), ('wastukancanwastukancana', 1), ('nono', 1), ('bandunbandung', 1), ('teelp', 1), ('fafax', 1), ('banbandunung', 1), ('provinsprovinsi', 1), ('jawjawa', 1), ('barabarat', 1), ('penyelenggraan', 1), ('independent', 1), ('dikontrol', 1), ('manejemen', 1), ('mempermudah', 1), ('mempercepat', 1), ('mengurangi', 1), ('dprd', 1), ('bumn', 1), ('skala', 1), ('pelayanannya', 1), ('independen', 1), ('semakin', 1), ('mengintegrasikan', 1), ('keterjangkauan', 1), ('kenyamanan', 1), ('pungutan', 1), ('liar', 1), ('saing', 1), ('global', 1), ('pengendali', 1), ('sop', 1), ('dmptsp', 1), ('analisa', 1), ('bergabungnya', 1), ('kementrianlembagapemerintah', 1), ('dituangkan', 1), ('pengunaan', 1), ('sebagimana', 1), ('oieh', 1), ('kerjasamaantarawalikotadengan', 1), ('nonkementerianlembaga', 1), ('kementerianlembagaperangkat', 1), ('daerahbadan', 1), ('viii', 1), ('asep', 1), ('bank', 1), ('resiko', 1), ('kegiatannya', 1), ('wujud', 1), ('suratkeputusan', 1), ('ptsp', 1), ('dimulai', 1), ('pelimpahan', 1), ('tinggi', 1), ('rendah', 1), ('gugat', 1), ('beralih', 1), ('penerima', 1), ('kepastian', 1), ('dilimpahkan', 1), ('asas', 1), ('pembantuan', 1), ('penolakan', 1), ('berkas', 1), ('penerbitan', 1), ('penyerahan', 1), ('pembatalan', 1), ('perpanjangan', 1), ('legalisasi', 1), ('pembekuan', 1), ('splitzing', 1), ('perbelanjaan', 1), ('toko', 1), ('swalayan', 1), ('optometris', 1), ('kefarmasian', 1), ('kardiovaskuler', 1), ('anestesi', 1), ('ortotis', 1), ('prostetis', 1), ('refraksionis', 1), ('optisien', 1), ('hewan', 1), ('psikologi', 1), ('elektromedis', 1), ('psikolog', 1), ('apoteker', 1), ('radiografer', 1), ('laik', 1), ('hotel', 1), ('ahli', 1), ('laboratorium', 1), ('perekam', 1), ('internsip', 1), ('sanitarian', 1), ('akupunktur', 1), ('sipat', 1), ('tukang', 1), ('jamu', 1), ('anak', 1), ('dini', 1), ('paud', 1), ('formal', 1), ('informal', 1), ('halaman', 1), ('persil', 1), ('taman', 1), ('kendaraan', 1), ('parkir', 1), ('insidentil', 1), ('bahu', 1), ('jalanberm', 1), ('jalantrotoar', 1), ('layang', 1), ('tol', 1), ('kereta', 1), ('api', 1), ('shelter', 1), ('penyeberangan', 1), ('bando', 1), ('tertunjuk', 1), ('nnn', 1), ('terdaftar', 1), ('penyehat', 1), ('stpt', 1), ('hayu', 1), ('gampil', 1), ('didelegasikan', 1), ('manual', 1), ('sebagian', 1), ('wastukancana', 1), ('telp', 1), ('terhitung', 1), ('ditandatangani', 1), ('dana', 1), ('insentif', 1), ('tertuang', 1), ('november', 1), ('bambang', 1), ('suhari', 1), ('yth', 1), ('asisten', 1), ('inspektur', 1), ('direktur', 1), ('perusahaan', 1), ('camat', 1), ('lurah', 1), ('diikutsertakan', 1), ('petunjuk', 1), ('pelayananpublik', 1), ('pd', 1), ('terobosan', 1), ('gagasanide', 1), ('kreatif', 1), ('orisinal', 1), ('adaptasimodifikasi', 1), ('penjaringan', 1), ('akademisi', 1), ('inovator', 1), ('massa', 1), ('dibidang', 1), ('vipenutup', 1), ('tanggall', 1), ('vwoveueee', 1), ('timu', 1), ('pwengea', 1), ('pit', 1), ('nosa', 1), ('tr', 1), ('johanna', 1), ('lisapaly', 1), ('poveuser', 1), ('pendahulan', 1), ('grand', 1), ('design', 1), ('menyatakan', 1), ('dicapai', 1), ('kelas', 1), ('dunia', 1), ('bangsabangsa', 1), ('pbb', 1), ('sdgssustainable', 1), ('development', 1), ('goals', 1), ('diadopsi', 1), ('harapan', 1), ('luar', 1), ('biasa', 1), ('keluar', 1), ('rutinitas', 1), ('business', 1), ('as', 1), ('usual', 1), ('monoton', 1), ('menciptakan', 1), ('tradisi', 1), ('pola', 1), ('mewajibkan', 1), ('isatu', 1), ('menjadikan', 1), ('memunculkan', 1), ('inovasinya', 1), ('kompetitif', 1), ('pelaksanaannya', 1), ('persaingan', 1), ('positif', 1), ('kesejahteraan', 1), ('menjaring', 1), ('mendokumentasikan', 1), ('mempromosikan', 1), ('apresiasi', 1), ('memotivasi', 1), ('profesionalisme', 1), ('citra', 1), ('melaui', 1), ('inkubasi', 1), ('timurwy', 1), ('mengikutsertakan', 1), ('komunitas', 1), ('kebenaran', 1), ('keakuratan', 1), ('berhak', 1), ('mendiskualifikasi', 1), ('membatalkan', 1), ('mencabut', 1), ('dikemudian', 1), ('ditemukan', 1), ('palsu', 1), ('memperkenalkan', 1), ('pendekatan', 1), ('desain', 1), ('berbeda', 1), ('replikasi', 1), ('nyata', 1), ('bermanfaat', 1), ('disebarkan', 1), ('ditiru', 1), ('selaras', 1), ('tema', 1), ('norma', 1), ('kepantasan', 1), ('diprioritaskan', 1), ('dihitung', 1), ('mundur', 1), ('penutupan', 1), ('pendaftaran', 1), ('dimulainya', 1), ('valid', 1), ('menyertakan', 1), ('digagas', 1), ('berdurasi', 1), ('menit', 1), ('youtube', 1), ('link', 1), ('disertakan', 1), ('mengumumkan', 1), ('penyelenggaran', 1), ('bupatiwalikota', 1), ('cc', 1), ('masa', 1), ('alamat', 1), ('batas', 1), ('ditautkan', 1), ('mengecek', 1), ('kelengkapan', 1), ('terjawabnya', 1), ('pertanyaan', 1), ('tautan', 1), ('lolos', 1), ('umpan', 1), ('balik', 1), ('to', 1), ('review', 1), ('proporsional', 1), ('kertas', 1), ('penyajian', 1), ('disepakati', 1), ('mengetahui', 1), ('kemanfaatan', 1), ('penetuan', 1), ('menganalisis', 1), ('wawancaraserta', 1), ('poroporsioan', 1), ('piagama', 1), ('dilaksankanan', 1), ('ringkasan', 1), ('diusulkan', 1), ('relevansi', 1), ('ide', 1), ('inovatif', 1), ('diatasi', 1), ('sisi', 1), ('konteks', 1), ('wilayah', 1), ('signifikansi', 1), ('bagaimana', 1), ('dimplementasikan', 1), ('mengatasi', 1), ('dihadapi', 1), ('penilaianasesmen', 1), ('dampakkeberhasilan', 1), ('kondisi', 1), ('adaptabilitas', 1), ('diadaptasi', 1), ('direplikasidisesuaikan', 1), ('unitinstansi', 1), ('direplikasi', 1), ('luasan', 1), ('populasi', 1), ('karakter', 1), ('dialamiatau', 1), ('penting', 1), ('perhitungan', 1), ('perhatian', 1), ('me', 1), ('arernak', 1), ('nysa', 1), ('mus', 1), ('kreativitas', 1), ('seprovinsi', 1), ('terbaik', 1), ('deemrel', 1), ('lapbukit', 1), ('medis', 1), ('habis', 1), ('perbekalan', 1), ('kab', 1), ('mae', 1), ('nnsa', 1), ('mung', 1), ('eseusta', 1), ('cakes', 1), ('belu', 1), ('semesta', 1), ('kliksirb', 1), ('klinik', 1), ('telekonsultasi', 1), ('reformasibiro', 1), ('gesit', 1), ('digitalisasi', 1), ('koperasi', 1), ('koperasitenaga', 1), ('transmigrasi', 1), ('otomatis', 1), ('simadu', 1), ('tabungan', 1), ('bambuku', 1), ('bayar', 1), ('pajak', 1), ('bumi', 1), ('simpatik', 1), ('gebrakan', 1), ('peduli', 1), ('fpi', 1), ('keluarga', 1), ('berencana', 1), ('puskesmas', 1), ('eilogo', 1), ('sabu', 1), ('rajijua', 1), ('melek', 1), ('sejarah', 1), ('gemes', 1), ('labuan', 1), ('pariwisata', 1), ('ekonomi', 1), ('pengenceran', 1), ('semen', 1), ('ternak', 1), ('babi', 1), ('sekoper', 1), ('berasa', 1), ('sekolah', 1), ('perempuandinas', 1), ('self', 1), ('assessment', 1), ('eliminasi', 1), ('malaria', 1), ('berbasisdinas', 1), ('kependudukan', 1), ('pengusung', 1), ('sibang', 1), ('kodir', 1), ('sdm', 1), ('unggulan', 1), ('jemput', 1), ('bola', 1), ('submission', 1), ('riskbased', 1), ('approach', 1), ('inul', 1), ('jebol', 1), ('sistim', 1), ('bangsa', 1), ('perempuan', 1), ('pelopor', 1), ('wanatani', 1), ('bambudinas', 1), ('programdinas', 1), ('hibah', 1), ('mesin', 1), ('perontok', 1), ('padi', 1), ('merek', 1), ('makaas', 1), ('produksi', 1), ('puspem', 1), ('ttg', 1), ('noelbaki', 1), ('ketahanan', 1), ('menuju', 1), ('sejahtera', 1), ('wi', 1), ('nvsa', 1), ('nmusa', 1), ('jl', 1), ('el', 1), ('tari', 1), ('telepon', 1), ('fax', 1), ('nttprovgoid', 1), ('hutuf', 1), ('bali', 1), ('wx', 1), ('nar', 1), ('benedikitus', 1), ('empina', 1), ('xx', 1), ('membantu', 1), ('mengoordinir', 1), ('ir', 1), ('benhdiktus', 1), ('na', 1), ('provl', 1), ('tentano', 1), ('penyelenqoaraan', 1), ('sis', 1), ('em', 1), ('pfmerintahan', 1), ('elektronjk', 1), ('tueianyang', 1), ('wilikota', 1), ('menimbarig', 1), ('babwa', 1), ('komunikasl', 1), ('pesat', 1), ('pemanfaatannya', 1), ('luas', 1), ('terutama', 1), ('pablik', 1), ('pemerimahan', 1), ('uk', 1), ('reknologi', 1), ('datam', 1), ('pemcrintahan', 1), ('peraturarr', 1), ('tpangnomor', 1), ('gavemment', 1), ('ditinjau', 1), ('iruruf', 1), ('ten', 1), ('tang', 1), ('ijndangundang', 1), ('kotamadya', 1), ('tingkal', 1), ('un', 1), ('le', 1), ('bara', 1), ('tahua', 1), ('negera', 1), ('rn', 1), ('facmasi', 1), ('ciao', 1), ('repu', 1), ('blik', 1), ('repablik', 1), ('lcmbaran', 1), ('lndonesia', 1), ('terrtarig', 1), ('crpta', 1), ('repubhk', 1), ('presiclen', 1), ('lentang', 1), ('rcformasi', 1), ('berbasia', 1), ('elektrorrik', 1), ('siatem', 1), ('pemeriruahan', 1), ('elekuoruk', 1), ('repnblik', 1), ('penyelenggar', 1), ('slstem', 1), ('berbasfs', 1), ('ketftntuan', 1), ('daera', 1), ('lah', 1), ('kola', 1), ('pemerintab', 1), ('dinae', 1), ('lnformatika', 1), ('eelanjutnya', 1), ('rnenyelenggarakan', 1), ('kornunikasi', 1), ('rerangat', 1), ('vaeran', 1), ('auaian', 1), ('perangxat', 1), ('oaeran', 1), ('ungkungan', 1), ('femenntan', 1), ('pembanru', 1), ('penyelonggaraan', 1), ('informaai', 1), ('mernberikan', 1), ('yanan', 1), ('pcngguna', 1), ('proees', 1), ('berkesinambungen', 1), ('satuj', 1), ('bcberapa', 1), ('jntegrasi', 1), ('rnendeskripsikan', 1), ('intcgrasi', 1), ('terintcgrasi', 1), ('ditcrapkan', 1), ('dae', 1), ('rah', 1), ('pelaksauaan', 1), ('pelakaanaan', 1), ('rugas', 1), ('nfrastruktur', 1), ('monjadi', 1), ('inlegrasipenghubung', 1), ('fasllitas', 1), ('elcktronik', 1), ('lalnnya', 1), ('organlsasi', 1), ('layanaa', 1), ('integrasipenghubung', 1), ('adalahaplikasi', 1), ('danatat', 1), ('pemerintnh', 1), ('sfbe', 1), ('audir', 1), ('infbrmasl', 1), ('slstemaris', 1), ('kcimunikasi', 1), ('rnjuan', 1), ('rnenetapkan', 1), ('kriterladanatau', 1), ('itandar', 1), ('pernerinrah', 1), ('rnasyarakat', 1), ('dau', 1), ('layanen', 1), ('ctisebut', 1), ('termaauk', 1), ('suara', 1), ('gambar', 1), ('rancangan', 1), ('foto', 1), ('electronic', 1), ('interchange', 1), ('surel', 1), ('telegram', 1), ('teleks', 1), ('telecopy', 1), ('sejcnisnya', 1), ('ianda', 1), ('sirnbol', 1), ('perforasi', 1), ('diolah', 1), ('arti', 1), ('dipaharni', 1), ('memahaminya', 1), ('disaster', 1), ('recovery', 1), ('centre', 1), ('adaah', 1), ('memulihkan', 1), ('kembah', 1), ('fungsifungei', 1), ('pentirrg', 1), ('terganggu', 1), ('rusak', 1), ('akibat', 1), ('disebabkan', 1), ('alam', 1), ('marrusia', 1), ('kumpulan', 1), ('aktivitasaktivitas', 1), ('ierkait', 1), ('masukan', 1), ('mcnghasilkan', 1), ('luaran', 1), ('thadalah', 1), ('mengernbangkan', 1), ('rnengelola', 1), ('fungsinya', 1), ('penangungjawab', 1), ('sistc', 1), ('korrrponen', 1), ('berkomunikasi', 1), ('bertukar', 1), ('rnenggunakan', 1), ('dipertukarkan', 1), ('penggandaan', 1), ('penyebaran', 1), ('danarau', 1), ('penghancuran', 1), ('tempal', 1), ('sourcecode', 1), ('ap', 1), ('ikasi', 1), ('atan', 1), ('disebur', 1), ('merniliki', 1), ('tugaa', 1), ('satusatunya', 1), ('tu', 1), ('pofnt', 1), ('contac', 1), ('rneminta', 1), ('perrolongan', 1), ('pennaselahan', 1), ('tjr', 1), ('kormrntkasi', 1), ('tnlormattka', 1), ('erdapat', 1), ('rnampu', 1), ('dihu', 1), ('bungi', 1), ('peaggune', 1), ('merninta', 1), ('pertolongan', 1), ('lk', 1), ('lingklmgan', 1), ('joi', 1), ('uruuk', 1), ('pedornan', 1), ('pemerinlah', 1), ('prinaip', 1), ('inreroperabilitas', 1), ('gkeamanan', 1), ('berbasil', 1), ('pengintegrasian', 1), ('mcrupakan', 1), ('kcbcrlanjutan', 1), ('terenoana', 1), ('bertahap', 1), ('torus', 1), ('rnenerus', 1), ('eflsiensi', 1), ('huru', 1), ('optimalisaei', 1), ('pernanfaatan', 1), ('eumber', 1), ('kejelasan', 1), ('pertanggungjawaban', 1), ('irrteroperabilitas', 1), ('ayar', 1), ('kolaborasi', 1), ('sistemelektronik', 1), ('pertukarandata', 1), ('buruf', 1), ('lcerahasiaan', 1), ('nonrepudiatior', 1), ('babil', 1), ('agian', 1), ('berrujuan', 1), ('unsurunsur', 1), ('aristektur', 1), ('preses', 1), ('bisrria', 1), ('lavanan', 1), ('iprf', 1), ('spbh', 1), ('lingkungfm', 1), ('pemerin', 1), ('blsnia', 1), ('infermasi', 1), ('anieklurlayarum', 1), ('pelaksanaarr', 1), ('wajibmengacu', 1), ('ajangka', 1), ('apahila', 1), ('seauai', 1), ('wakru', 1), ('arsirektur', 1), ('sctiap', 1), ('arsitckturspb', 1), ('dilekukao', 1), ('perkernbangan', 1), ('bkebutuhan', 1), ('dhasil', 1), ('he', 1), ('pela', 1), ('rencanaspbe', 1), ('jima', 1), ('pcmantauan', 1), ('dilalrukan', 1), ('meperhatikan', 1), ('perkembangan', 1), ('keburuhan', 1), ('startegis', 1), ('pernerintahdaerah', 1), ('basil', 1), ('pt', 1), ('percncanaan', 1), ('pengganggaran', 1), ('reucarra', 1), ('infcrmasi', 1), ('pernilik', 1), ('sbe', 1), ('bisms', 1), ('cerkait', 1), ('dtsusun', 1), ('pengcmbangan', 1), ('bisnisaplikasi', 1), ('daetah', 1), ('lainpemerintah', 1), ('pemeriniah', 1), ('lnfermasi', 1), ('rnernenuhi', 1), ('informasinya', 1), ('struktill', 1), ('stander', 1), ('prinsip', 1), ('interoperabidtae', 1), ('kearoa', 1), ('nan', 1), ('eebagaimana', 1), ('io', 1), ('fungsl', 1), ('masing', 1), ('rnasing', 1), ('merretapkan', 1), ('lentikasi', 1), ('orisinalitas', 1), ('kerersediaan', 1), ('mformast', 1), ('anrara', 1), ('email', 1), ('resmi', 1), ('iu', 1), ('bpanduan', 1), ('membawa', 1), ('peralatan', 1), ('pribadi', 1), ('mcngbubungkannya', 1), ('aarana', 1), ('fk', 1), ('mengimplementaeikan', 1), ('cli', 1), ('terkoneksi', 1), ('dkewajibau', 1), ('menglmplementasikan', 1), ('iunak', 1), ('kea', 1), ('manan', 1), ('informas', 1), ('wanserta', 1), ('mcmonitor', 1), ('serana', 1), ('praearana', 1), ('mcnjalankan', 1), ('vital', 1), ('jalannya', 1), ('penyedia', 1), ('jnfrastrukrur', 1), ('apusat', 1), ('bjaringan', 1), ('csistem', 1), ('efisienei', 1), ('kesmanan', 1), ('bagl', 1), ('sating', 1), ('terhubung', 1), ('lntra', 1), ('interkoneksi', 1), ('terrurup', 1), ('aruar', 1), ('sebagaimanan', 1), ('cmerupakan', 1), ('pu', 1), ('sat', 1), ('pusatdata', 1), ('pusar', 1), ('apusar', 1), ('uasional', 1), ('bpusat', 1), ('scsuai', 1), ('yatigberlaku', 1), ('menempatkan', 1), ('servernya', 1), ('colocation', 1), ('uptime', 1), ('rnenyediakan', 1), ('virtual', 1), ('private', 1), ('seruer', 1), ('vps', 1), ('terpusat', 1), ('tcrintcgrasi', 1), ('persetujuen', 1), ('daerahpemilik', 1), ('pencadangan', 1), ('lee', 1), ('strperviai', 1), ('pencadnngan', 1), ('distmpan', 1), ('perneriruah', 1), ('sal', 1), ('daorah', 1), ('bcrtujuan', 1), ('dajam', 1), ('mcnggunakan', 1), ('darratau', 1), ('pernbangunan', 1), ('infrasrruktur', 1), ('fnngsi', 1), ('maalngmasing', 1), ('dilaksanakao', 1), ('lnfraetrukrur', 1), ('tnrra', 1), ('pemertntah', 1), ('harua', 1), ('diperiksa', 1), ('menyerahkan', 1), ('diagram', 1), ('terbangun', 1), ('detail', 1), ('terdapat', 1), ('rnengembangkan', 1), ('masingrnasing', 1), ('dirnakaud', 1), ('sub', 1), ('menginduk', 1), ('portal', 1), ('https', 1), ('pengbubung', 1), ('layanar', 1), ('spi', 1), ('dikclolanya', 1), ('ayai', 1), ('daeran', 1), ('haru', 1), ('amembuat', 1), ('perarrgkatdaerah', 1), ('bmemenuhi', 1), ('mteroperabilitas', 1), ('cmcndapatkan', 1), ('operasi', 1), ('aplikasl', 1), ('aaplikasi', 1), ('baplikasi', 1), ('rneltputi', 1), ('ulabilitas', 1), ('lcinerja', 1), ('kcterpaduan', 1), ('barus', 1), ('pcrenoanaan', 1), ('pcmellharaan', 1), ('pengembaugan', 1), ('aperencanaan', 1), ('danaiau', 1), ('dines', 1), ('resrni', 1), ('dioperasikan', 1), ('perundangperundangan', 1), ('porangkar', 1), ('melakkan', 1), ('pengujuan', 1), ('dilengkapi', 1), ('acoxumeu', 1), ('keoulumm', 1), ('pttdlllkdl', 1), ('tt', 1), ('bdokurnen', 1), ('perancangan', 1), ('didokumentasikan', 1), ('repositorl', 1), ('bak', 1), ('nyflt', 1), ('rnencakup', 1), ('penjarrrinan', 1), ('keuuihan', 1), ('rrortrepuiliation', 1), ('infonnasi', 1), ('penctapan', 1), ('klasiflkasi', 1), ('pcndeteksian', 1), ('keastian', 1), ('sebngaimana', 1), ('mekariisrne', 1), ('verillkasl', 1), ('penjaninan', 1), ('nonrepudiatiofl', 1), ('peda', 1), ('melali', 1), ('fungslnya', 1), ('apllkasi', 1), ('bcserta', 1), ('ketengkapannya', 1), ('dtdokumentaslknn', 1), ('mencalrup', 1), ('keuruhan', 1), ('ketersediaari', 1), ('onrepudiationl', 1), ('terkaii', 1), ('sphe', 1), ('aebagairnana', 1), ('pcnjaminan', 1), ('modiflkasl', 1), ('danpemulihan', 1), ('roelalui', 1), ('mekan', 1), ('isme', 1), ('nonrepudiatjon', 1), ('dilaku', 1), ('kan', 1), ('roelali', 1), ('dcngan', 1), ('atandar', 1), ('reknis', 1), ('fayanan', 1), ('alayanan', 1), ('admintstrasi', 1), ('blayanan', 1), ('layanao', 1), ('mcningkatkan', 1), ('rnendukung', 1), ('peaksauaan', 1), ('pemihk', 1), ('administrast', 1), ('mcndukung', 1), ('kcgiatan', 1), ('perrganggaran', 1), ('kepcgawaian', 1), ('rnilik', 1), ('organisaei', 1), ('sasaran', 1), ('emerintah', 1), ('birokrast', 1), ('daa', 1), ('melipu', 1), ('ti', 1), ('puhlik', 1), ('layanansatu', 1), ('jarlngan', 1), ('jdlll', 1), ('sector', 1), ('pendidikanjpengajaran', 1), ('pekerjaan', 1), ('komunikast', 1), ('hidu', 1), ('jarninan', 1), ('perhubungan', 1), ('berbasls', 1), ('pcrundangundangan', 1), ('pemerlntahan', 1), ('mcnerapkan', 1), ('layaoan', 1), ('lntegrasi', 1), ('dikccrdinasikan', 1), ('ajelfiln', 1), ('rnelaksanakan', 1), ('win', 1), ('berpedornan', 1), ('inrernaaional', 1), ('tersedia', 1), ('memlnimalkan', 1), ('darnpak', 1), ('manajcmcn', 1), ('risikc', 1), ('pcngendalian', 1), ('manajemeu', 1), ('dandapat', 1), ('manajemcn', 1), ('scbagaimanan', 1), ('penanggungjawab', 1), ('berkoordinasidan', 1), ('keernpat', 1), ('daper', 1), ('pcngelolaan', 1), ('kellina', 1), ('asetteknologi', 1), ('ieknologi', 1), ('informasl', 1), ('dart', 1), ('teknologl', 1), ('manajcmen', 1), ('unluk', 1), ('pei', 1), ('gembengan', 1), ('manusta', 1), ('disemua', 1), ('perangkatdaerah', 1), ('baglao', 1), ('perrgetahuan', 1), ('easal', 1), ('rnerringkarkan', 1), ('penyirnpanan', 1), ('jan', 1), ('pcngetahuan', 1), ('sebagaimane', 1), ('pengetahun', 1), ('manaiernen', 1), ('peruhahan', 1), ('uncuk', 1), ('rneningkatkan', 1), ('manajemeo', 1), ('pengcperasian', 1), ('ayac', 1), ('pcrmintaan', 1), ('pbf', 1), ('dimakeud', 1), ('pombangunan', 1), ('menunjuk', 1), ('ljk', 1), ('sekaligus', 1), ('desktier', 1), ('uniuk', 1), ('berhagai', 1), ('bal', 1), ('rnenyelesaikan', 1), ('jayanan', 1), ('spdj', 1), ('rnenyampaikan', 1), ('solusi', 1), ('lier', 1), ('yalg', 1), ('ridak', 1), ('marrrpu', 1), ('supervtsi', 1), ('dest', 1), ('rnanajernen', 1), ('teknologr', 1), ('lnformasj', 1), ('komunlkasf', 1), ('evalljast', 1), ('tcrdiri', 1), ('aaudit', 1), ('baudilaplikasl', 1), ('caudit', 1), ('perneriksaan', 1), ('tekrris', 1), ('apenerapan', 1), ('informesi', 1), ('bfungsionalitas', 1), ('den', 1), ('kornurrikasi', 1), ('ckinerja', 1), ('in', 1), ('ormasi', 1), ('pelaksaria', 1), ('teknclogl', 1), ('lnfonnasi', 1), ('pemerinrab', 1), ('ierakrcditasi', 1), ('kctentuan', 1), ('audft', 1), ('spre', 1), ('pasel', 1), ('jnfrastrukti', 1), ('dlnas', 1), ('tnfrastrukius', 1), ('lniormatika', 1), ('aplikasikhusus', 1), ('aebagaimana', 1), ('aytt', 1), ('dual', 1), ('mclaksanakan', 1), ('apbkas', 1), ('dinaa', 1), ('kemencerian', 1), ('lerkail', 1), ('khuaus', 1), ('kernanan', 1), ('kh', 1), ('usu', 1), ('audie', 1), ('tnfrastruktur', 1), ('sebagaillanadirnaksud', 1), ('ayal', 1), ('sam', 1), ('don', 1), ('berkoordinaei', 1), ('kententerian', 1), ('cvaluasi', 1), ('khus', 1), ('petnerintah', 1), ('rnengidentifikasi', 1), ('spbf', 1), ('evaluaei', 1), ('ij', 1), ('pl', 1), ('dilaporkan', 1), ('wa', 1), ('ikota', 1), ('melalur', 1), ('vj', 1), ('penyelnggara', 1), ('bagiap', 1), ('untnk', 1), ('keterpad', 1), ('uan', 1), ('kelota', 1), ('scrta', 1), ('perncrintah', 1), ('memberrtuk', 1), ('bawah', 1), ('koordinatorspbe', 1), ('selretans', 1), ('ktidua', 1), ('mcwujudkan', 1), ('kapasitas', 1), ('mengantisipast', 1), ('tuntutan', 1), ('th', 1), ('penetapari', 1), ('ttk', 1), ('eebagairnana', 1), ('mclalui', 1), ('dllaksanakan', 1), ('mendaearkan', 1), ('amemiliki', 1), ('som', 1), ('mcngetnbangkan', 1), ('spj', 1), ('bcrdasarkan', 1), ('wal', 1), ('vn', 1), ('eealuast', 1), ('penyclenggaraan', 1), ('evaluasl', 1), ('rnenyeluruh', 1), ('terbadap', 1), ('rnutu', 1), ('penyelenggeraan', 1), ('vlll', 1), ('iingkungan', 1), ('bersumber', 1), ('pcndapatan', 1), ('perundangunclangan', 1), ('ketentifan', 1), ('pemerirrtahan', 1), ('iarna', 1), ('sejakperaturan', 1), ('babx', 1), ('ketentuanpenutup', 1), ('egouemment', 1), ('norncr', 1), ('walikotaini', 1), ('mengctahuinya', 1), ('walikora', 1), ('menempatkannya', 1), ('scptem', 1), ('ter', 1), ('qwallkot', 1), ('tjefir', 1), ('rlwu', 1), ('kore', 1), ('diundangkao', 1), ('september', 1), ('flahrensy', 1), ('prjestley', 1), ('fiuna', 1), ('tadaenai', 1), ('tatlun', 1), ('sinkronisasi', 1), ('peningkatkan', 1), ('segala', 1), ('pemrosesan', 1), ('manipulasi', 1), ('sistematis', 1), ('landasan', 1), ('strategi', 1), ('cetak', 1), ('biru', 1), ('mengoordinasikan', 1), ('direviu', 1), ('target', 1), ('perbedaan', 1), ('signifikan', 1), ('lnduk', 1), ('dimiliki', 1), ('diperoleh', 1), ('mengembangkan', 1), ('mengoperasikan', 1), ('kajian', 1), ('sumbernya', 1), ('didaftarkan', 1), ('terpercaya', 1), ('kesebelas', 1), ('akuntabillitas', 1), ('dinamis', 1), ('penanggung', 1), ('fungsionalitas', 1), ('terakreditasi', 1), ('dijabat', 1), ('personalia', 1), ('ditujukan', 1), ('konsolidasi', 1), ('mempunyai', 1), ('sewaktu', 1), ('for', 1), ('bertempat', 1), ('komplek', 1), ('perkantoran', 1), ('cianjur', 1), ('kelurahan', 1), ('kacapiring', 1), ('kecamatan', 1), ('batununggal', 1), ('baratnomor', 1), ('baratdengan', 1), ('baratb', 1), ('penataan', 1), ('kelembagaan', 1), ('diselaraskanc', 1), ('juli', 1), ('jo', 1), ('lbukota', 1), ('ibukota', 1), ('banten', 1), ('kolusi', 1), ('nepotisme', 1), ('tentangpelaksanaan', 1), ('granddesign', 1), ('partisipasi', 1), ('kedudukan', 1), ('memutuskanperubahan', 1), ('provins', 1), ('ibeberapa', 1), ('provisi', 1), ('asn', 1), ('diangkat', 1), ('jabatan', 1), ('digaji', 1), ('dang', 1), ('larangan', 1), ('pencatatan', 1), ('penyaluran', 1), ('klarifikasi', 1), ('pendokumentasian', 1), ('sedang', 1), ('perbuatan', 1), ('tempatnya', 1), ('bekerja', 1), ('memadai', 1), ('indikasi', 1), ('penyandang', 1), ('disabilitas', 1), ('keterbatasan', 1), ('fisik', 1), ('intelektual', 1), ('mental', 1), ('sensorik', 1), ('berinteraksi', 1), ('hambatan', 1), ('kesulitan', 1), ('ditugaskan', 1), ('tindakan', 1), ('pencegahan', 1), ('penindakan', 1), ('penyelidikan', 1), ('penyidikan', 1), ('penuntutan', 1), ('pengadilan', 1), ('unjuk', 1), ('rasa', 1), ('demonstrasi', 1), ('seorang', 1), ('mengeluarkan', 1), ('pikiran', 1), ('lisan', 1), ('sebagainya', 1), ('demonstratif', 1), ('hadapan', 1), ('banyak', 1), ('didatangi', 1), ('dilihat', 1), ('diberi', 1), ('sehubungan', 1), ('perlakuan', 1), ('pertemuan', 1), ('mendatangi', 1), ('berikutbagian', 1), ('langsungb', 1), ('danc', 1), ('diantara', 1), ('meneruskan', 1), ('aparat', 1), ('penegak', 1), ('rekapitulasi', 1), ('juni', 1), ('desember', 1), ('membentuk', 1), ('lingkungannya', 1), ('via', 1), ('berikutbab', 1), ('viakoordinasipasal', 1), ('dengana', 1), ('terkaitb', 1), ('atauc', 1), ('adhoc', 1), ('kemanusiaan', 1), ('bersifat', 1), ('kesehatanb', 1), ('rawan', 1), ('gizic', 1), ('roboh', 1), ('mengancam', 1), ('jiwad', 1), ('putus', 1), ('pendidikane', 1), ('listrik', 1), ('isolirf', 1), ('daruratg', 1), ('kebencanaan', 1), ('danh', 1), ('pengurusan', 1), ('jenazah', 1), ('miskin', 1), ('supervisi', 1), ('pelatihan', 1), ('penatausahaan', 1), ('diumumkan', 1), ('dikenakan', 1), ('aketentuan', 1), ('bpada', 1), ('berlakua', 1), ('danb', 1), ('inspt', 1), ('baratdicabut', 1), ('berlakupasal', 1), ('iiperaturan', 1), ('diundangkanagar', 1), ('baratditetapkan', 1), ('april', 1)]\n"
          ]
        }
      ],
      "source": [
        "all_tokens = [token for sublist in df['stop'] for token in sublist]\n",
        "freq_dist = FreqDist(all_tokens)\n",
        "print(freq_dist.most_common())"
      ]
    },
    {
      "cell_type": "code",
      "execution_count": null,
      "metadata": {
        "colab": {
          "base_uri": "https://localhost:8080/",
          "height": 158
        },
        "id": "MC6QTaFpnFX3",
        "outputId": "1b39b48c-7f21-4985-adca-b200029681cc"
      },
      "outputs": [
        {
          "output_type": "error",
          "ename": "NameError",
          "evalue": "name 'freq_dist' is not defined",
          "traceback": [
            "\u001b[0;31m---------------------------------------------------------------------------\u001b[0m",
            "\u001b[0;31mNameError\u001b[0m                                 Traceback (most recent call last)",
            "\u001b[0;32m<ipython-input-1-e2a8b0fe2332>\u001b[0m in \u001b[0;36m<cell line: 1>\u001b[0;34m()\u001b[0m\n\u001b[0;32m----> 1\u001b[0;31m \u001b[0mfreq_dist\u001b[0m\u001b[0;34m.\u001b[0m\u001b[0mplot\u001b[0m\u001b[0;34m(\u001b[0m\u001b[0;36m30\u001b[0m\u001b[0;34m,\u001b[0m\u001b[0mcumulative\u001b[0m\u001b[0;34m=\u001b[0m\u001b[0;32mFalse\u001b[0m\u001b[0;34m)\u001b[0m\u001b[0;34m\u001b[0m\u001b[0;34m\u001b[0m\u001b[0m\n\u001b[0m\u001b[1;32m      2\u001b[0m \u001b[0mplt\u001b[0m\u001b[0;34m.\u001b[0m\u001b[0mshow\u001b[0m\u001b[0;34m(\u001b[0m\u001b[0;34m)\u001b[0m\u001b[0;34m\u001b[0m\u001b[0;34m\u001b[0m\u001b[0m\n",
            "\u001b[0;31mNameError\u001b[0m: name 'freq_dist' is not defined"
          ]
        }
      ],
      "source": [
        "freq_dist.plot(30,cumulative=False)\n",
        "plt.show()"
      ]
    },
    {
      "cell_type": "markdown",
      "source": [
        "# **Stopwords Again**"
      ],
      "metadata": {
        "id": "TsQruw1jjLeV"
      }
    },
    {
      "cell_type": "code",
      "source": [
        "tambah_stopwords = ['tentu', 'laku', 'pihak', 'lalu', 'wajib', 'perubahan',\n",
        "                  'milik', 'badan', 'layan', 'rupa', 'sebut', 'audit',\n",
        "                  'peran', 'rumus', 'masuk', 'rangka', 'harga', 'keamanan',\n",
        "                  'mutu', 'sehat', 'ppid', 'standar', 'unit', 'pusat',\n",
        "                  'informatika', 'kena', 'dapat', 'merupakan', 'terdiri',\n",
        "                  'ketentuan', 'melakukan', 'berdasarkan', 'lingkungan',\n",
        "                  'kesehatan', 'bagian', 'kinerja', 'melalui', 'tersebut',\n",
        "                  'ketentuan', 'kebutuhan', 'kebijakan', 'penerapan',\n",
        "                  'terkait', 'nilai', 'input', 'meliputi', 'pemerintahan',\n",
        "                  'tata', 'anggaran', 'lainnya', 'pemenuhan',\n",
        "                  'mengenai', 'perwakilan', 'peningkatan', 'menjadi',\n",
        "                  'kerja', 'sama', 'terap', 'kembang', 'bina',\n",
        "                  'laksana', 'minta', 'bagi', 'dasar', 'perlu',\n",
        "                  'bentuk', 'tingkat', 'kait', 'lingkung', 'manajemen'\n",
        "                  'sedia', 'bijak', 'penuh', 'perintah', 'tugas',\n",
        "                  'khusus', 'butuh', 'selesai', 'hukum', 'jadi',\n",
        "                  'capai', 'awas', 'satu', 'tuju', 'wakil',\n",
        "                  'jawab', 'berita', 'seluruh', 'tanggung',\n",
        "                  'lajut', 'hasil', 'rencana', 'anggar', 'hak',\n",
        "                  'sampai', 'diri', 'susun', 'terima', 'bangun',\n",
        "                  'tanggal', 'liput', 'fungsi', 'sumber', 'waktu',\n",
        "                  'kementerianlembaga', 'jakarta', 'paling', 'utama',\n",
        "                  'lain', 'tim', 'kualitas', 'lebih', 'undang',\n",
        "                  'timbang', 'umum', 'pedoman', 'dukung', 'bidang',\n",
        "                  'lanjut', 'ikut', 'pejabat', 'dokumen', 'sarana',\n",
        "                  'tindak', 'jabat', 'masingmasing', 'ukur', 'indeks',\n",
        "                  'selanjutnya', 'kinerja', 'pengelola']\n",
        "\n",
        "# filter stopword via sastrawi automated\n",
        "def stopword_text(tokens):\n",
        "    cleaned_tokens = []\n",
        "    for token in tokens:\n",
        "        if token not in tambah_stopwords:\n",
        "            cleaned_tokens.append(token)\n",
        "    return cleaned_tokens\n",
        "\n",
        "df['stop'] = df['stop'].apply(stopword_text)\n",
        "df"
      ],
      "metadata": {
        "colab": {
          "base_uri": "https://localhost:8080/",
          "height": 1000
        },
        "id": "30JibLOJjHaw",
        "outputId": "3792cfbe-7102-43cd-8d14-a5de2b86a1ad"
      },
      "execution_count": null,
      "outputs": [
        {
          "output_type": "execute_result",
          "data": {
            "text/plain": [
              "                                              Dokumen  \\\n",
              "0   PERATURAN WALI KOTA BANDUNG Nomor 21 Tahun 202...   \n",
              "1   Peraturan Wali Kota Bandung Nomor 32 Tahun 202...   \n",
              "2   Peraturan Wali Kota Bandung Nomor 42 Tahun 202...   \n",
              "3   Keputusan Wali Kota Bandung Nomor 503 Tahun 20...   \n",
              "4   Peraturan Gubernur NTT Nomor 118 Tahun 2022 te...   \n",
              "5   Keputusan Gubernur NTT Nomor 409 Tahun 2022 te...   \n",
              "6   Keputusan Gubernur NTT Nomor 125 Tahun 2021 te...   \n",
              "7   1A_Peraturan Wali Kota Kupang Nomor 22 Tahun 2...   \n",
              "8   1B_Peraturan Wali Kota Kupang Nomor 22 Tahun 2...   \n",
              "9   Peraturan Wali Kota Bandung Nomor 60 Tahun 202...   \n",
              "10  Peraturan Wali Kota Bandung Nomor 85 Tahun 202...   \n",
              "11  Keputusan Wali Kota Bandung Nomor 503 Tahun 20...   \n",
              "12  Peraturan Gubernur Jawa Barat Nomor 43 Tahun 2...   \n",
              "\n",
              "                                                 teks  \\\n",
              "0   SALINAN\\n\\n\\n\\n\\n\\n\\n\\n\\nPROVINSI JAWA BARAT\\n...   \n",
              "1   SALINAN\\n\\n\\n\\n\\n\\n\\n\\n\\n\\n\\n\\n\\n\\nPROVINSI JA...   \n",
              "2   SALINAN\\n\\n\\n\\n\\n\\n\\n\\n\\n\\n\\n\\n\\nPROVINSI JAWA...   \n",
              "3   \\nPEMERINTAH KOTA BANDUNG\\n\\nSEKRETARIAT DAERA...   \n",
              "4   \\n\\n\\n\\n\\n\\nGUBERNUR\\tNUSA\\tTENGGARA\\tTIMUR\\n\\...   \n",
              "5   \\n\\n\\n\\n\\nGUBERNUR\\tNUSA\\tTENGGARA\\tTIMUR\\n\\nK...   \n",
              "6   PEMERINTAH\\tPROVINSI\\tNUSA\\tTENGGARA\\tTIMUR\\n\\...   \n",
              "7   \\nâ¢\\n\\n\\n\\nW ALIKOTA KUPANG\\n\\nPROVl.11181 N...   \n",
              "8   Bagian Kedelapan\\n\\nAplikasl SPBE\\n\\nPasal 23\\...   \n",
              "9   PROVINSI JAWA BARAT\\nPERATURAN WALI KOTA BANDU...   \n",
              "10   \\t \\nPROVINSI JAWA BARAT PERATURAN WALI KOTA ...   \n",
              "11  SALINAN\\nKEPUTUSAN WALIKOTA BANDUNG \\nNOMOR: 5...   \n",
              "12  GUBERNUR JAWA BARAT PERATURAN GUBERNUR JAWA BA...   \n",
              "\n",
              "                                                clean  \\\n",
              "0   salinan provinsi jawa barat peraturan wali kot...   \n",
              "1   salinan provinsi jawa barat peraturan wali kot...   \n",
              "2   salinan provinsi jawa barat peraturan wali kot...   \n",
              "3   pemerintah kota bandung sekretariat daerah jal...   \n",
              "4   gubernur nusa tenggara timur peraturan gubernu...   \n",
              "5   gubernur nusa tenggara timur keputusan gubernu...   \n",
              "6   pemerintah provinsi nusa tenggara timur sekret...   \n",
              "7   alikota kupang provl nusa tenggara timur perat...   \n",
              "8   bagian kedelapan aplikasl spbe pasal aplikasi ...   \n",
              "9   provinsi jawa barat peraturan wali kota bandun...   \n",
              "10  provinsi jawa barat peraturan wali kota bandun...   \n",
              "11  salinan keputusan walikota bandung nomor kep d...   \n",
              "12  gubernur jawa barat peraturan gubernur jawa ba...   \n",
              "\n",
              "                                                token  \\\n",
              "0   [salinan, provinsi, jawa, barat, peraturan, wa...   \n",
              "1   [salinan, provinsi, jawa, barat, peraturan, wa...   \n",
              "2   [salinan, provinsi, jawa, barat, peraturan, wa...   \n",
              "3   [pemerintah, kota, bandung, sekretariat, daera...   \n",
              "4   [gubernur, nusa, tenggara, timur, peraturan, g...   \n",
              "5   [gubernur, nusa, tenggara, timur, keputusan, g...   \n",
              "6   [pemerintah, provinsi, nusa, tenggara, timur, ...   \n",
              "7   [alikota, kupang, provl, nusa, tenggara, timur...   \n",
              "8   [bagian, kedelapan, aplikasl, spbe, pasal, apl...   \n",
              "9   [provinsi, jawa, barat, peraturan, wali, kota,...   \n",
              "10  [provinsi, jawa, barat, peraturan, wali, kota,...   \n",
              "11  [salinan, keputusan, walikota, bandung, nomor,...   \n",
              "12  [gubernur, jawa, barat, peraturan, gubernur, j...   \n",
              "\n",
              "                                                 stop  \n",
              "0   [salinan, pengelolaan, layanan, aspirasi, peng...  \n",
              "1   [salinan, penyelenggaraan, mal, gerai, rahmat,...  \n",
              "2   [salinan, pendelegasian, wewenang, penyelengga...  \n",
              "3   [sekretariat, jalan, wastukancana, telp, salin...  \n",
              "4   [pelaksanaan, kompetisi, inovasi, rahmat, tuha...  \n",
              "5   [kephk, top, sepuluh, inovasi, inovasi, rintis...  \n",
              "6   [sekretariat, jl, raya, el, tari, telepon, fax...  \n",
              "7   [alikota, provl, alikota, ku, pang, tentano, p...  \n",
              "8   [kedelapan, aplikasl, spbe, aplikasi, spbe, pe...  \n",
              "9   [sistem, berbasis, elektronik, rahmat, tuhan, ...  \n",
              "10  [arsitektur, sistem, berbasis, elektronik, rah...  \n",
              "11  [salinan, kep, dpmptsp, penetapan, lokasi, mal...  \n",
              "12  [baratnomor, pelaksanaan, pengaduan, baratdeng...  "
            ],
            "text/html": [
              "\n",
              "  <div id=\"df-0845046a-a357-4dbf-87df-4e2862beb46f\" class=\"colab-df-container\">\n",
              "    <div>\n",
              "<style scoped>\n",
              "    .dataframe tbody tr th:only-of-type {\n",
              "        vertical-align: middle;\n",
              "    }\n",
              "\n",
              "    .dataframe tbody tr th {\n",
              "        vertical-align: top;\n",
              "    }\n",
              "\n",
              "    .dataframe thead th {\n",
              "        text-align: right;\n",
              "    }\n",
              "</style>\n",
              "<table border=\"1\" class=\"dataframe\">\n",
              "  <thead>\n",
              "    <tr style=\"text-align: right;\">\n",
              "      <th></th>\n",
              "      <th>Dokumen</th>\n",
              "      <th>teks</th>\n",
              "      <th>clean</th>\n",
              "      <th>token</th>\n",
              "      <th>stop</th>\n",
              "    </tr>\n",
              "  </thead>\n",
              "  <tbody>\n",
              "    <tr>\n",
              "      <th>0</th>\n",
              "      <td>PERATURAN WALI KOTA BANDUNG Nomor 21 Tahun 202...</td>\n",
              "      <td>SALINAN\\n\\n\\n\\n\\n\\n\\n\\n\\nPROVINSI JAWA BARAT\\n...</td>\n",
              "      <td>salinan provinsi jawa barat peraturan wali kot...</td>\n",
              "      <td>[salinan, provinsi, jawa, barat, peraturan, wa...</td>\n",
              "      <td>[salinan, pengelolaan, layanan, aspirasi, peng...</td>\n",
              "    </tr>\n",
              "    <tr>\n",
              "      <th>1</th>\n",
              "      <td>Peraturan Wali Kota Bandung Nomor 32 Tahun 202...</td>\n",
              "      <td>SALINAN\\n\\n\\n\\n\\n\\n\\n\\n\\n\\n\\n\\n\\n\\nPROVINSI JA...</td>\n",
              "      <td>salinan provinsi jawa barat peraturan wali kot...</td>\n",
              "      <td>[salinan, provinsi, jawa, barat, peraturan, wa...</td>\n",
              "      <td>[salinan, penyelenggaraan, mal, gerai, rahmat,...</td>\n",
              "    </tr>\n",
              "    <tr>\n",
              "      <th>2</th>\n",
              "      <td>Peraturan Wali Kota Bandung Nomor 42 Tahun 202...</td>\n",
              "      <td>SALINAN\\n\\n\\n\\n\\n\\n\\n\\n\\n\\n\\n\\n\\nPROVINSI JAWA...</td>\n",
              "      <td>salinan provinsi jawa barat peraturan wali kot...</td>\n",
              "      <td>[salinan, provinsi, jawa, barat, peraturan, wa...</td>\n",
              "      <td>[salinan, pendelegasian, wewenang, penyelengga...</td>\n",
              "    </tr>\n",
              "    <tr>\n",
              "      <th>3</th>\n",
              "      <td>Keputusan Wali Kota Bandung Nomor 503 Tahun 20...</td>\n",
              "      <td>\\nPEMERINTAH KOTA BANDUNG\\n\\nSEKRETARIAT DAERA...</td>\n",
              "      <td>pemerintah kota bandung sekretariat daerah jal...</td>\n",
              "      <td>[pemerintah, kota, bandung, sekretariat, daera...</td>\n",
              "      <td>[sekretariat, jalan, wastukancana, telp, salin...</td>\n",
              "    </tr>\n",
              "    <tr>\n",
              "      <th>4</th>\n",
              "      <td>Peraturan Gubernur NTT Nomor 118 Tahun 2022 te...</td>\n",
              "      <td>\\n\\n\\n\\n\\n\\nGUBERNUR\\tNUSA\\tTENGGARA\\tTIMUR\\n\\...</td>\n",
              "      <td>gubernur nusa tenggara timur peraturan gubernu...</td>\n",
              "      <td>[gubernur, nusa, tenggara, timur, peraturan, g...</td>\n",
              "      <td>[pelaksanaan, kompetisi, inovasi, rahmat, tuha...</td>\n",
              "    </tr>\n",
              "    <tr>\n",
              "      <th>5</th>\n",
              "      <td>Keputusan Gubernur NTT Nomor 409 Tahun 2022 te...</td>\n",
              "      <td>\\n\\n\\n\\n\\nGUBERNUR\\tNUSA\\tTENGGARA\\tTIMUR\\n\\nK...</td>\n",
              "      <td>gubernur nusa tenggara timur keputusan gubernu...</td>\n",
              "      <td>[gubernur, nusa, tenggara, timur, keputusan, g...</td>\n",
              "      <td>[kephk, top, sepuluh, inovasi, inovasi, rintis...</td>\n",
              "    </tr>\n",
              "    <tr>\n",
              "      <th>6</th>\n",
              "      <td>Keputusan Gubernur NTT Nomor 125 Tahun 2021 te...</td>\n",
              "      <td>PEMERINTAH\\tPROVINSI\\tNUSA\\tTENGGARA\\tTIMUR\\n\\...</td>\n",
              "      <td>pemerintah provinsi nusa tenggara timur sekret...</td>\n",
              "      <td>[pemerintah, provinsi, nusa, tenggara, timur, ...</td>\n",
              "      <td>[sekretariat, jl, raya, el, tari, telepon, fax...</td>\n",
              "    </tr>\n",
              "    <tr>\n",
              "      <th>7</th>\n",
              "      <td>1A_Peraturan Wali Kota Kupang Nomor 22 Tahun 2...</td>\n",
              "      <td>\\nâ¢\\n\\n\\n\\nW ALIKOTA KUPANG\\n\\nPROVl.11181 N...</td>\n",
              "      <td>alikota kupang provl nusa tenggara timur perat...</td>\n",
              "      <td>[alikota, kupang, provl, nusa, tenggara, timur...</td>\n",
              "      <td>[alikota, provl, alikota, ku, pang, tentano, p...</td>\n",
              "    </tr>\n",
              "    <tr>\n",
              "      <th>8</th>\n",
              "      <td>1B_Peraturan Wali Kota Kupang Nomor 22 Tahun 2...</td>\n",
              "      <td>Bagian Kedelapan\\n\\nAplikasl SPBE\\n\\nPasal 23\\...</td>\n",
              "      <td>bagian kedelapan aplikasl spbe pasal aplikasi ...</td>\n",
              "      <td>[bagian, kedelapan, aplikasl, spbe, pasal, apl...</td>\n",
              "      <td>[kedelapan, aplikasl, spbe, aplikasi, spbe, pe...</td>\n",
              "    </tr>\n",
              "    <tr>\n",
              "      <th>9</th>\n",
              "      <td>Peraturan Wali Kota Bandung Nomor 60 Tahun 202...</td>\n",
              "      <td>PROVINSI JAWA BARAT\\nPERATURAN WALI KOTA BANDU...</td>\n",
              "      <td>provinsi jawa barat peraturan wali kota bandun...</td>\n",
              "      <td>[provinsi, jawa, barat, peraturan, wali, kota,...</td>\n",
              "      <td>[sistem, berbasis, elektronik, rahmat, tuhan, ...</td>\n",
              "    </tr>\n",
              "    <tr>\n",
              "      <th>10</th>\n",
              "      <td>Peraturan Wali Kota Bandung Nomor 85 Tahun 202...</td>\n",
              "      <td>\\t \\nPROVINSI JAWA BARAT PERATURAN WALI KOTA ...</td>\n",
              "      <td>provinsi jawa barat peraturan wali kota bandun...</td>\n",
              "      <td>[provinsi, jawa, barat, peraturan, wali, kota,...</td>\n",
              "      <td>[arsitektur, sistem, berbasis, elektronik, rah...</td>\n",
              "    </tr>\n",
              "    <tr>\n",
              "      <th>11</th>\n",
              "      <td>Keputusan Wali Kota Bandung Nomor 503 Tahun 20...</td>\n",
              "      <td>SALINAN\\nKEPUTUSAN WALIKOTA BANDUNG \\nNOMOR: 5...</td>\n",
              "      <td>salinan keputusan walikota bandung nomor kep d...</td>\n",
              "      <td>[salinan, keputusan, walikota, bandung, nomor,...</td>\n",
              "      <td>[salinan, kep, dpmptsp, penetapan, lokasi, mal...</td>\n",
              "    </tr>\n",
              "    <tr>\n",
              "      <th>12</th>\n",
              "      <td>Peraturan Gubernur Jawa Barat Nomor 43 Tahun 2...</td>\n",
              "      <td>GUBERNUR JAWA BARAT PERATURAN GUBERNUR JAWA BA...</td>\n",
              "      <td>gubernur jawa barat peraturan gubernur jawa ba...</td>\n",
              "      <td>[gubernur, jawa, barat, peraturan, gubernur, j...</td>\n",
              "      <td>[baratnomor, pelaksanaan, pengaduan, baratdeng...</td>\n",
              "    </tr>\n",
              "  </tbody>\n",
              "</table>\n",
              "</div>\n",
              "    <div class=\"colab-df-buttons\">\n",
              "\n",
              "  <div class=\"colab-df-container\">\n",
              "    <button class=\"colab-df-convert\" onclick=\"convertToInteractive('df-0845046a-a357-4dbf-87df-4e2862beb46f')\"\n",
              "            title=\"Convert this dataframe to an interactive table.\"\n",
              "            style=\"display:none;\">\n",
              "\n",
              "  <svg xmlns=\"http://www.w3.org/2000/svg\" height=\"24px\" viewBox=\"0 -960 960 960\">\n",
              "    <path d=\"M120-120v-720h720v720H120Zm60-500h600v-160H180v160Zm220 220h160v-160H400v160Zm0 220h160v-160H400v160ZM180-400h160v-160H180v160Zm440 0h160v-160H620v160ZM180-180h160v-160H180v160Zm440 0h160v-160H620v160Z\"/>\n",
              "  </svg>\n",
              "    </button>\n",
              "\n",
              "  <style>\n",
              "    .colab-df-container {\n",
              "      display:flex;\n",
              "      gap: 12px;\n",
              "    }\n",
              "\n",
              "    .colab-df-convert {\n",
              "      background-color: #E8F0FE;\n",
              "      border: none;\n",
              "      border-radius: 50%;\n",
              "      cursor: pointer;\n",
              "      display: none;\n",
              "      fill: #1967D2;\n",
              "      height: 32px;\n",
              "      padding: 0 0 0 0;\n",
              "      width: 32px;\n",
              "    }\n",
              "\n",
              "    .colab-df-convert:hover {\n",
              "      background-color: #E2EBFA;\n",
              "      box-shadow: 0px 1px 2px rgba(60, 64, 67, 0.3), 0px 1px 3px 1px rgba(60, 64, 67, 0.15);\n",
              "      fill: #174EA6;\n",
              "    }\n",
              "\n",
              "    .colab-df-buttons div {\n",
              "      margin-bottom: 4px;\n",
              "    }\n",
              "\n",
              "    [theme=dark] .colab-df-convert {\n",
              "      background-color: #3B4455;\n",
              "      fill: #D2E3FC;\n",
              "    }\n",
              "\n",
              "    [theme=dark] .colab-df-convert:hover {\n",
              "      background-color: #434B5C;\n",
              "      box-shadow: 0px 1px 3px 1px rgba(0, 0, 0, 0.15);\n",
              "      filter: drop-shadow(0px 1px 2px rgba(0, 0, 0, 0.3));\n",
              "      fill: #FFFFFF;\n",
              "    }\n",
              "  </style>\n",
              "\n",
              "    <script>\n",
              "      const buttonEl =\n",
              "        document.querySelector('#df-0845046a-a357-4dbf-87df-4e2862beb46f button.colab-df-convert');\n",
              "      buttonEl.style.display =\n",
              "        google.colab.kernel.accessAllowed ? 'block' : 'none';\n",
              "\n",
              "      async function convertToInteractive(key) {\n",
              "        const element = document.querySelector('#df-0845046a-a357-4dbf-87df-4e2862beb46f');\n",
              "        const dataTable =\n",
              "          await google.colab.kernel.invokeFunction('convertToInteractive',\n",
              "                                                    [key], {});\n",
              "        if (!dataTable) return;\n",
              "\n",
              "        const docLinkHtml = 'Like what you see? Visit the ' +\n",
              "          '<a target=\"_blank\" href=https://colab.research.google.com/notebooks/data_table.ipynb>data table notebook</a>'\n",
              "          + ' to learn more about interactive tables.';\n",
              "        element.innerHTML = '';\n",
              "        dataTable['output_type'] = 'display_data';\n",
              "        await google.colab.output.renderOutput(dataTable, element);\n",
              "        const docLink = document.createElement('div');\n",
              "        docLink.innerHTML = docLinkHtml;\n",
              "        element.appendChild(docLink);\n",
              "      }\n",
              "    </script>\n",
              "  </div>\n",
              "\n",
              "\n",
              "<div id=\"df-9b3c7c8b-6817-4802-bf48-711e022e1634\">\n",
              "  <button class=\"colab-df-quickchart\" onclick=\"quickchart('df-9b3c7c8b-6817-4802-bf48-711e022e1634')\"\n",
              "            title=\"Suggest charts\"\n",
              "            style=\"display:none;\">\n",
              "\n",
              "<svg xmlns=\"http://www.w3.org/2000/svg\" height=\"24px\"viewBox=\"0 0 24 24\"\n",
              "     width=\"24px\">\n",
              "    <g>\n",
              "        <path d=\"M19 3H5c-1.1 0-2 .9-2 2v14c0 1.1.9 2 2 2h14c1.1 0 2-.9 2-2V5c0-1.1-.9-2-2-2zM9 17H7v-7h2v7zm4 0h-2V7h2v10zm4 0h-2v-4h2v4z\"/>\n",
              "    </g>\n",
              "</svg>\n",
              "  </button>\n",
              "\n",
              "<style>\n",
              "  .colab-df-quickchart {\n",
              "      --bg-color: #E8F0FE;\n",
              "      --fill-color: #1967D2;\n",
              "      --hover-bg-color: #E2EBFA;\n",
              "      --hover-fill-color: #174EA6;\n",
              "      --disabled-fill-color: #AAA;\n",
              "      --disabled-bg-color: #DDD;\n",
              "  }\n",
              "\n",
              "  [theme=dark] .colab-df-quickchart {\n",
              "      --bg-color: #3B4455;\n",
              "      --fill-color: #D2E3FC;\n",
              "      --hover-bg-color: #434B5C;\n",
              "      --hover-fill-color: #FFFFFF;\n",
              "      --disabled-bg-color: #3B4455;\n",
              "      --disabled-fill-color: #666;\n",
              "  }\n",
              "\n",
              "  .colab-df-quickchart {\n",
              "    background-color: var(--bg-color);\n",
              "    border: none;\n",
              "    border-radius: 50%;\n",
              "    cursor: pointer;\n",
              "    display: none;\n",
              "    fill: var(--fill-color);\n",
              "    height: 32px;\n",
              "    padding: 0;\n",
              "    width: 32px;\n",
              "  }\n",
              "\n",
              "  .colab-df-quickchart:hover {\n",
              "    background-color: var(--hover-bg-color);\n",
              "    box-shadow: 0 1px 2px rgba(60, 64, 67, 0.3), 0 1px 3px 1px rgba(60, 64, 67, 0.15);\n",
              "    fill: var(--button-hover-fill-color);\n",
              "  }\n",
              "\n",
              "  .colab-df-quickchart-complete:disabled,\n",
              "  .colab-df-quickchart-complete:disabled:hover {\n",
              "    background-color: var(--disabled-bg-color);\n",
              "    fill: var(--disabled-fill-color);\n",
              "    box-shadow: none;\n",
              "  }\n",
              "\n",
              "  .colab-df-spinner {\n",
              "    border: 2px solid var(--fill-color);\n",
              "    border-color: transparent;\n",
              "    border-bottom-color: var(--fill-color);\n",
              "    animation:\n",
              "      spin 1s steps(1) infinite;\n",
              "  }\n",
              "\n",
              "  @keyframes spin {\n",
              "    0% {\n",
              "      border-color: transparent;\n",
              "      border-bottom-color: var(--fill-color);\n",
              "      border-left-color: var(--fill-color);\n",
              "    }\n",
              "    20% {\n",
              "      border-color: transparent;\n",
              "      border-left-color: var(--fill-color);\n",
              "      border-top-color: var(--fill-color);\n",
              "    }\n",
              "    30% {\n",
              "      border-color: transparent;\n",
              "      border-left-color: var(--fill-color);\n",
              "      border-top-color: var(--fill-color);\n",
              "      border-right-color: var(--fill-color);\n",
              "    }\n",
              "    40% {\n",
              "      border-color: transparent;\n",
              "      border-right-color: var(--fill-color);\n",
              "      border-top-color: var(--fill-color);\n",
              "    }\n",
              "    60% {\n",
              "      border-color: transparent;\n",
              "      border-right-color: var(--fill-color);\n",
              "    }\n",
              "    80% {\n",
              "      border-color: transparent;\n",
              "      border-right-color: var(--fill-color);\n",
              "      border-bottom-color: var(--fill-color);\n",
              "    }\n",
              "    90% {\n",
              "      border-color: transparent;\n",
              "      border-bottom-color: var(--fill-color);\n",
              "    }\n",
              "  }\n",
              "</style>\n",
              "\n",
              "  <script>\n",
              "    async function quickchart(key) {\n",
              "      const quickchartButtonEl =\n",
              "        document.querySelector('#' + key + ' button');\n",
              "      quickchartButtonEl.disabled = true;  // To prevent multiple clicks.\n",
              "      quickchartButtonEl.classList.add('colab-df-spinner');\n",
              "      try {\n",
              "        const charts = await google.colab.kernel.invokeFunction(\n",
              "            'suggestCharts', [key], {});\n",
              "      } catch (error) {\n",
              "        console.error('Error during call to suggestCharts:', error);\n",
              "      }\n",
              "      quickchartButtonEl.classList.remove('colab-df-spinner');\n",
              "      quickchartButtonEl.classList.add('colab-df-quickchart-complete');\n",
              "    }\n",
              "    (() => {\n",
              "      let quickchartButtonEl =\n",
              "        document.querySelector('#df-9b3c7c8b-6817-4802-bf48-711e022e1634 button');\n",
              "      quickchartButtonEl.style.display =\n",
              "        google.colab.kernel.accessAllowed ? 'block' : 'none';\n",
              "    })();\n",
              "  </script>\n",
              "</div>\n",
              "    </div>\n",
              "  </div>\n"
            ]
          },
          "metadata": {},
          "execution_count": 16
        }
      ]
    },
    {
      "cell_type": "markdown",
      "source": [
        "# **Wordcloud**"
      ],
      "metadata": {
        "id": "erlOGrel_0Km"
      }
    },
    {
      "cell_type": "code",
      "source": [
        "from wordcloud import WordCloud\n",
        "import matplotlib.pyplot as plt"
      ],
      "metadata": {
        "id": "wR02lFT6_4-V"
      },
      "execution_count": null,
      "outputs": []
    },
    {
      "cell_type": "code",
      "source": [
        "tokenized_words = df['stop'].tolist()\n",
        "\n",
        "# Join the tokenized words into a single string with a space delimiter\n",
        "joined_text = ' '.join(map(str, tokenized_words))"
      ],
      "metadata": {
        "id": "Uy5gM7sz_3QV"
      },
      "execution_count": null,
      "outputs": []
    },
    {
      "cell_type": "code",
      "source": [
        "# Konfigurasi WordCloud\n",
        "wordcloud = WordCloud(width = 800,\n",
        "                      height = 800,\n",
        "                      background_color ='white',\n",
        "                      min_font_size = 10).generate(joined_text)\n",
        "\n",
        "# Tampilkan WordCloud\n",
        "plt.figure(figsize = (8, 8), facecolor = None)\n",
        "plt.imshow(wordcloud)\n",
        "plt.axis(\"off\")\n",
        "plt.tight_layout(pad = 0)\n",
        "plt.show()"
      ],
      "metadata": {
        "id": "juj06R0SDPhO"
      },
      "execution_count": null,
      "outputs": []
    },
    {
      "cell_type": "markdown",
      "source": [
        "# **Show Data**"
      ],
      "metadata": {
        "id": "er4En9E7LAt1"
      }
    },
    {
      "cell_type": "code",
      "source": [
        "df"
      ],
      "metadata": {
        "id": "rkgdAsNmLCuY"
      },
      "execution_count": null,
      "outputs": []
    },
    {
      "cell_type": "markdown",
      "metadata": {
        "id": "LvPORQoTL-6W"
      },
      "source": [
        "# **Join Text**"
      ]
    },
    {
      "cell_type": "code",
      "execution_count": null,
      "metadata": {
        "colab": {
          "base_uri": "https://localhost:8080/"
        },
        "id": "TUy-fLhEMA4g",
        "outputId": "6d30eb0a-05ef-49a4-f9ea-0ca23abe7eb5"
      },
      "outputs": [
        {
          "output_type": "stream",
          "name": "stdout",
          "text": [
            "                                              Dokumen  \\\n",
            "0   PERATURAN WALI KOTA BANDUNG Nomor 21 Tahun 202...   \n",
            "1   Peraturan Wali Kota Bandung Nomor 32 Tahun 202...   \n",
            "2   Peraturan Wali Kota Bandung Nomor 42 Tahun 202...   \n",
            "3   Keputusan Wali Kota Bandung Nomor 503 Tahun 20...   \n",
            "4   Peraturan Gubernur NTT Nomor 118 Tahun 2022 te...   \n",
            "5   Keputusan Gubernur NTT Nomor 409 Tahun 2022 te...   \n",
            "6   Keputusan Gubernur NTT Nomor 125 Tahun 2021 te...   \n",
            "7   1A_Peraturan Wali Kota Kupang Nomor 22 Tahun 2...   \n",
            "8   1B_Peraturan Wali Kota Kupang Nomor 22 Tahun 2...   \n",
            "9   Peraturan Wali Kota Bandung Nomor 60 Tahun 202...   \n",
            "10  Peraturan Wali Kota Bandung Nomor 85 Tahun 202...   \n",
            "11  Keputusan Wali Kota Bandung Nomor 503 Tahun 20...   \n",
            "12  Peraturan Gubernur Jawa Barat Nomor 43 Tahun 2...   \n",
            "\n",
            "                                                 teks  \\\n",
            "0   SALINAN\\n\\n\\n\\n\\n\\n\\n\\n\\nPROVINSI JAWA BARAT\\n...   \n",
            "1   SALINAN\\n\\n\\n\\n\\n\\n\\n\\n\\n\\n\\n\\n\\n\\nPROVINSI JA...   \n",
            "2   SALINAN\\n\\n\\n\\n\\n\\n\\n\\n\\n\\n\\n\\n\\nPROVINSI JAWA...   \n",
            "3   \\nPEMERINTAH KOTA BANDUNG\\n\\nSEKRETARIAT DAERA...   \n",
            "4   \\n\\n\\n\\n\\n\\nGUBERNUR\\tNUSA\\tTENGGARA\\tTIMUR\\n\\...   \n",
            "5   \\n\\n\\n\\n\\nGUBERNUR\\tNUSA\\tTENGGARA\\tTIMUR\\n\\nK...   \n",
            "6   PEMERINTAH\\tPROVINSI\\tNUSA\\tTENGGARA\\tTIMUR\\n\\...   \n",
            "7   \\nâ¢\\n\\n\\n\\nW ALIKOTA KUPANG\\n\\nPROVl.11181 N...   \n",
            "8   Bagian Kedelapan\\n\\nAplikasl SPBE\\n\\nPasal 23\\...   \n",
            "9   PROVINSI JAWA BARAT\\nPERATURAN WALI KOTA BANDU...   \n",
            "10   \\t \\nPROVINSI JAWA BARAT PERATURAN WALI KOTA ...   \n",
            "11  SALINAN\\nKEPUTUSAN WALIKOTA BANDUNG \\nNOMOR: 5...   \n",
            "12  GUBERNUR JAWA BARAT PERATURAN GUBERNUR JAWA BA...   \n",
            "\n",
            "                                                clean  \\\n",
            "0   salinan provinsi jawa barat peraturan wali kot...   \n",
            "1   salinan provinsi jawa barat peraturan wali kot...   \n",
            "2   salinan provinsi jawa barat peraturan wali kot...   \n",
            "3   pemerintah kota bandung sekretariat daerah jal...   \n",
            "4   gubernur nusa tenggara timur peraturan gubernu...   \n",
            "5   gubernur nusa tenggara timur keputusan gubernu...   \n",
            "6   pemerintah provinsi nusa tenggara timur sekret...   \n",
            "7   alikota kupang provl nusa tenggara timur perat...   \n",
            "8   bagian kedelapan aplikasl spbe pasal aplikasi ...   \n",
            "9   provinsi jawa barat peraturan wali kota bandun...   \n",
            "10  provinsi jawa barat peraturan wali kota bandun...   \n",
            "11  salinan keputusan walikota bandung nomor kep d...   \n",
            "12  gubernur jawa barat peraturan gubernur jawa ba...   \n",
            "\n",
            "                                                token  \\\n",
            "0   [salinan, provinsi, jawa, barat, peraturan, wa...   \n",
            "1   [salinan, provinsi, jawa, barat, peraturan, wa...   \n",
            "2   [salinan, provinsi, jawa, barat, peraturan, wa...   \n",
            "3   [pemerintah, kota, bandung, sekretariat, daera...   \n",
            "4   [gubernur, nusa, tenggara, timur, peraturan, g...   \n",
            "5   [gubernur, nusa, tenggara, timur, keputusan, g...   \n",
            "6   [pemerintah, provinsi, nusa, tenggara, timur, ...   \n",
            "7   [alikota, kupang, provl, nusa, tenggara, timur...   \n",
            "8   [bagian, kedelapan, aplikasl, spbe, pasal, apl...   \n",
            "9   [provinsi, jawa, barat, peraturan, wali, kota,...   \n",
            "10  [provinsi, jawa, barat, peraturan, wali, kota,...   \n",
            "11  [salinan, keputusan, walikota, bandung, nomor,...   \n",
            "12  [gubernur, jawa, barat, peraturan, gubernur, j...   \n",
            "\n",
            "                                                 stop  \n",
            "0   [salinan, pengelolaan, layanan, aspirasi, peng...  \n",
            "1   [salinan, penyelenggaraan, mal, gerai, rahmat,...  \n",
            "2   [salinan, pendelegasian, wewenang, penyelengga...  \n",
            "3   [sekretariat, jalan, wastukancana, telp, salin...  \n",
            "4   [pelaksanaan, kompetisi, inovasi, rahmat, tuha...  \n",
            "5   [kephk, top, sepuluh, inovasi, inovasi, rintis...  \n",
            "6   [sekretariat, jl, raya, el, tari, telepon, fax...  \n",
            "7   [alikota, provl, alikota, ku, pang, tentano, p...  \n",
            "8   [kedelapan, aplikasl, spbe, aplikasi, spbe, pe...  \n",
            "9   [sistem, berbasis, elektronik, rahmat, tuhan, ...  \n",
            "10  [arsitektur, sistem, berbasis, elektronik, rah...  \n",
            "11  [salinan, kep, dpmptsp, penetapan, lokasi, mal...  \n",
            "12  [baratnomor, pelaksanaan, pengaduan, baratdeng...  \n",
            "(13, 5)\n"
          ]
        }
      ],
      "source": [
        "# Extract the tokenized words from the 'tokenized_text' column\n",
        "tokenized_words = df['stop'].tolist()\n",
        "\n",
        "# Join the tokenized words into a single string with a space delimiter\n",
        "joined_text = ' '.join(map(str, tokenized_words))\n",
        "\n",
        "print(df)\n",
        "print(df.shape)"
      ]
    },
    {
      "cell_type": "markdown",
      "metadata": {
        "id": "NJgNfH8ctw_w"
      },
      "source": [
        "# **LDA**"
      ]
    },
    {
      "cell_type": "code",
      "source": [
        "!pip install pandas\n",
        "import pandas as pd"
      ],
      "metadata": {
        "id": "V0Hc3nAIn9Vt"
      },
      "execution_count": null,
      "outputs": []
    },
    {
      "cell_type": "code",
      "execution_count": null,
      "metadata": {
        "colab": {
          "base_uri": "https://localhost:8080/"
        },
        "id": "YLtdQ1J3t2VO",
        "outputId": "a7c3489e-10f1-48f0-8373-9f82c5c143aa"
      },
      "outputs": [
        {
          "output_type": "execute_result",
          "data": {
            "text/plain": [
              "0     [salinan, pengelolaan, layanan, aspirasi, peng...\n",
              "1     [salinan, penyelenggaraan, mal, gerai, rahmat,...\n",
              "2     [salinan, pendelegasian, wewenang, penyelengga...\n",
              "3     [sekretariat, jalan, wastukancana, telp, salin...\n",
              "4     [pelaksanaan, kompetisi, inovasi, rahmat, tuha...\n",
              "5     [kephk, top, sepuluh, inovasi, inovasi, rintis...\n",
              "6     [sekretariat, jl, raya, el, tari, telepon, fax...\n",
              "7     [alikota, provl, alikota, ku, pang, tentano, p...\n",
              "8     [kedelapan, aplikasl, spbe, aplikasi, spbe, pe...\n",
              "9     [sistem, berbasis, elektronik, rahmat, tuhan, ...\n",
              "10    [arsitektur, sistem, berbasis, elektronik, rah...\n",
              "11    [salinan, kep, dpmptsp, penetapan, lokasi, mal...\n",
              "12    [baratnomor, pelaksanaan, pengaduan, baratdeng...\n",
              "Name: stop, dtype: object"
            ]
          },
          "metadata": {},
          "execution_count": 20
        }
      ],
      "source": [
        "doc_clean = df['stop']\n",
        "doc_clean"
      ]
    },
    {
      "cell_type": "code",
      "execution_count": null,
      "metadata": {
        "id": "aEVX-uZaBE2u"
      },
      "outputs": [],
      "source": [
        "import gensim\n",
        "from gensim import corpora"
      ]
    },
    {
      "cell_type": "code",
      "execution_count": null,
      "metadata": {
        "colab": {
          "base_uri": "https://localhost:8080/"
        },
        "id": "yhsLCsCvt0Pz",
        "outputId": "e257f6bf-a3dc-42a7-acc9-7d532ff8a86f"
      },
      "outputs": [
        {
          "output_type": "stream",
          "name": "stdout",
          "text": [
            "Dictionary<2212 unique tokens: ['acuan', 'administratif', 'akses', 'akurat', 'android']...>\n"
          ]
        }
      ],
      "source": [
        "dictionary = corpora.Dictionary(doc_clean)\n",
        "print(dictionary)\n",
        "\n",
        "doc_term_matrix = [dictionary.doc2bow(doc) for doc in doc_clean]"
      ]
    },
    {
      "cell_type": "code",
      "execution_count": null,
      "metadata": {
        "id": "x9V4be_auL0D"
      },
      "outputs": [],
      "source": [
        "# Melakukan Parameters Tuning LDA Model\n",
        "LDA = gensim.models.ldamodel.LdaModel\n",
        "\n",
        "total_topics = 4 # Jumlah topik yang akan dimunculkan\n",
        "number_words = 20 # Jumlah kata per topik\n",
        "\n",
        "# HyperParameters\n",
        "pass_number = 500 # Jumlah pass, semakin banyak semakin akurat (membaca berkali-kali)\n",
        "total_random = 100 # Random state, jangan diubah agar konsisten\n",
        "chunk_size = 500 # Jumlah chunk, semakin banyak data semakin besar chunk (potongan)\n",
        "iterations_number = 1000 # Jumlah iterasi, semakin banyak semakin akurat (pembaruan estimasi)"
      ]
    },
    {
      "cell_type": "code",
      "execution_count": null,
      "metadata": {
        "colab": {
          "base_uri": "https://localhost:8080/"
        },
        "id": "GLmel1uouPwK",
        "outputId": "01d92762-3424-486a-c893-140cc004ca1b"
      },
      "outputs": [
        {
          "output_type": "execute_result",
          "data": {
            "text/plain": [
              "[(0,\n",
              "  '0.016*\"penyelenggaraan\" + 0.016*\"mpp\" + 0.014*\"gpp\" + 0.012*\"usaha\" + 0.010*\"terpadu\" + 0.006*\"pintu\" + 0.006*\"kepala\" + 0.006*\"pelaksanaan\" + 0.005*\"dibentuk\" + 0.005*\"dpmptsp\" + 0.005*\"swasta\" + 0.005*\"perizinan\" + 0.004*\"penanaman\" + 0.004*\"modal\" + 0.004*\"djawa\" + 0.004*\"biaya\" + 0.004*\"cepat\" + 0.004*\"disingkat\" + 0.004*\"mudah\" + 0.004*\"mekanisme\"'),\n",
              " (1,\n",
              "  '0.014*\"lokasi\" + 0.012*\"mal\" + 0.011*\"penetapan\" + 0.010*\"penyusunan\" + 0.009*\"djawa\" + 0.007*\"kep\" + 0.007*\"dpmptsp\" + 0.007*\"perangkat\" + 0.006*\"verifikasi\" + 0.006*\"pembentukan\" + 0.006*\"penyelenggaraan\" + 0.005*\"kotakota\" + 0.005*\"besar\" + 0.005*\"salinan\" + 0.005*\"menginformasikan\" + 0.005*\"kepala\" + 0.004*\"sekretariat\" + 0.004*\"daerahdaerah\" + 0.004*\"menimbang\" + 0.004*\"sekretaris\"'),\n",
              " (2,\n",
              "  '0.056*\"spbe\" + 0.020*\"layanan\" + 0.020*\"inovasi\" + 0.018*\"data\" + 0.016*\"perangkat\" + 0.015*\"aplikasi\" + 0.015*\"pengaduan\" + 0.014*\"informasi\" + 0.013*\"manajemen\" + 0.011*\"pelaksanaan\" + 0.011*\"arsitektur\" + 0.009*\"proses\" + 0.008*\"elektronik\" + 0.008*\"sistem\" + 0.007*\"kompetisi\" + 0.007*\"penyelenggaraan\" + 0.006*\"pembangunan\" + 0.006*\"berbasis\" + 0.006*\"pengelolaan\" + 0.006*\"evaluasi\"'),\n",
              " (3,\n",
              "  '0.039*\"spbe\" + 0.027*\"izin\" + 0.019*\"manajemen\" + 0.015*\"layanan\" + 0.012*\"aplikasi\" + 0.011*\"perangkat\" + 0.011*\"penyelenggaraan\" + 0.011*\"nonperizinan\" + 0.010*\"pelaksanaan\" + 0.010*\"perizinan\" + 0.010*\"informasi\" + 0.009*\"komunikasi\" + 0.008*\"mandiri\" + 0.008*\"berusaha\" + 0.008*\"praktik\" + 0.007*\"teknologi\" + 0.006*\"evaluasi\" + 0.006*\"data\" + 0.006*\"pemantauan\" + 0.005*\"proses\"')]"
            ]
          },
          "metadata": {},
          "execution_count": 24
        }
      ],
      "source": [
        "# LDA Model\n",
        "lda_model = LDA(doc_term_matrix,\n",
        "                id2word=dictionary,\n",
        "                num_topics=total_topics,\n",
        "                passes=pass_number,\n",
        "                iterations=iterations_number)\n",
        "\n",
        "lda_model.show_topics(num_topics=total_topics, num_words=number_words)"
      ]
    },
    {
      "cell_type": "code",
      "execution_count": null,
      "metadata": {
        "colab": {
          "base_uri": "https://localhost:8080/"
        },
        "id": "H8aM4Wv8uRj7",
        "outputId": "441b5dd9-cc76-48b8-e02d-462c30fba606"
      },
      "outputs": [
        {
          "output_type": "stream",
          "name": "stdout",
          "text": [
            "               word  topic_id  importance  word_count\n",
            "0   penyelenggaraan         0    0.016401          92\n",
            "1               mpp         0    0.016397          16\n",
            "2               gpp         0    0.014379          14\n",
            "3             usaha         0    0.012363          26\n",
            "4           terpadu         0    0.010346          34\n",
            "5             pintu         0    0.006311          19\n",
            "6            kepala         0    0.006308          24\n",
            "7       pelaksanaan         0    0.006307         103\n",
            "8          dibentuk         0    0.005299           7\n",
            "9           dpmptsp         0    0.005298          13\n",
            "10           lokasi         1    0.014480          15\n",
            "11              mal         1    0.012116          14\n",
            "12        penetapan         1    0.010935          18\n",
            "13       penyusunan         1    0.009752          22\n",
            "14            djawa         1    0.008572          19\n",
            "15              kep         1    0.007389           9\n",
            "16          dpmptsp         1    0.007388          13\n",
            "17        perangkat         1    0.007383         141\n",
            "18       verifikasi         1    0.006206          13\n",
            "19      pembentukan         1    0.006206          19\n",
            "20             spbe         2    0.055941         452\n",
            "21          layanan         2    0.020353         168\n",
            "22          inovasi         2    0.019566         124\n",
            "23             data         2    0.017676         128\n",
            "24        perangkat         2    0.016259         141\n",
            "25         aplikasi         2    0.015156         125\n",
            "26        pengaduan         2    0.014999          96\n",
            "27        informasi         2    0.014054         114\n",
            "28        manajemen         2    0.012794         130\n",
            "29      pelaksanaan         2    0.010905         103\n",
            "30             spbe         3    0.038534         452\n",
            "31             izin         3    0.027449          70\n",
            "32        manajemen         3    0.018722         130\n",
            "33          layanan         3    0.015156         168\n",
            "34         aplikasi         3    0.011590         125\n",
            "35        perangkat         3    0.011195         141\n",
            "36  penyelenggaraan         3    0.011194          92\n",
            "37     nonperizinan         3    0.010797          29\n",
            "38      pelaksanaan         3    0.010006         103\n",
            "39        perizinan         3    0.009609          31\n"
          ]
        }
      ],
      "source": [
        "# Word Count of Topic Keywords\n",
        "\n",
        "from collections import Counter\n",
        "topics = lda_model.show_topics(formatted=False)\n",
        "data_flat = [w for w_list in doc_clean for w in w_list]\n",
        "counter = Counter(data_flat)\n",
        "\n",
        "out = []\n",
        "for i, topic in topics:\n",
        "    for word, weight in topic:\n",
        "        out.append([word, i , weight, counter[word]])\n",
        "\n",
        "df_imp_wcount = pd.DataFrame(out, columns=['word', 'topic_id', 'importance', 'word_count']) # Importance adalah bobot tiap kata\n",
        "print(df_imp_wcount)"
      ]
    },
    {
      "cell_type": "code",
      "execution_count": null,
      "metadata": {
        "id": "fMGAo8-xxaS1"
      },
      "outputs": [],
      "source": [
        "# save word importance excel\n",
        "filesimpan= \"words_daerah.xlsx\"\n",
        "df_imp_wcount.to_excel(filesimpan, index = False, header=True)"
      ]
    },
    {
      "cell_type": "code",
      "execution_count": null,
      "metadata": {
        "id": "Crjpy9uxyaNP"
      },
      "outputs": [],
      "source": [
        "def format_topics_sentences(ldamodel=None, corpus=doc_term_matrix, texts=None):\n",
        "    if texts is None:\n",
        "        document = []  # Atau definisikan nilai default yang sesuai\n",
        "    else:\n",
        "        document = texts\n",
        "\n",
        "    # Init output\n",
        "    data = []\n",
        "\n",
        "    # Get main topic in each document\n",
        "    for i, row_list in enumerate(ldamodel[corpus]):\n",
        "        row = row_list[0] if ldamodel.per_word_topics else row_list\n",
        "        # print(row)\n",
        "        row = sorted(row, key=lambda x: (x[1]), reverse=True)\n",
        "        # Get the Dominant topic, Perc Contribution and Keywords for each document\n",
        "        for j, (topic_num, prop_topic) in enumerate(row):\n",
        "            if j == 0:  # => dominant topic\n",
        "                wp = ldamodel.show_topic(topic_num)\n",
        "                topic_keywords = \", \".join([word for word, prop in wp])\n",
        "                data.append([int(topic_num), round(prop_topic, 4), topic_keywords, document[i]])\n",
        "\n",
        "    # Create DataFrame from the collected data\n",
        "    sent_topics_df = pd.DataFrame(data, columns=['Dominant_Topic', 'Perc_Contribution', 'Topic_Keywords', 'Text'])\n",
        "\n",
        "    return sent_topics_df"
      ]
    },
    {
      "cell_type": "code",
      "execution_count": null,
      "metadata": {
        "id": "jmv-2XQryciv",
        "colab": {
          "base_uri": "https://localhost:8080/"
        },
        "outputId": "360ecd81-70d3-4b33-99fe-48589ef8b5b2"
      },
      "outputs": [
        {
          "output_type": "stream",
          "name": "stdout",
          "text": [
            "   Document_No  Dominant_Topic  Topic_Perc_Contrib  \\\n",
            "0            0               2              0.9978   \n",
            "1            1               0              0.9982   \n",
            "2            2               3              0.9988   \n",
            "3            3               1              0.9942   \n",
            "4            4               2              0.9992   \n",
            "5            5               2              0.9966   \n",
            "6            6               1              0.9916   \n",
            "7            7               2              0.9995   \n",
            "8            8               3              0.9994   \n",
            "9            9               2              0.9996   \n",
            "\n",
            "                                            Keywords  \\\n",
            "0  spbe, layanan, inovasi, data, perangkat, aplik...   \n",
            "1  penyelenggaraan, mpp, gpp, usaha, terpadu, pin...   \n",
            "2  spbe, izin, manajemen, layanan, aplikasi, pera...   \n",
            "3  lokasi, mal, penetapan, penyusunan, djawa, kep...   \n",
            "4  spbe, layanan, inovasi, data, perangkat, aplik...   \n",
            "5  spbe, layanan, inovasi, data, perangkat, aplik...   \n",
            "6  lokasi, mal, penetapan, penyusunan, djawa, kep...   \n",
            "7  spbe, layanan, inovasi, data, perangkat, aplik...   \n",
            "8  spbe, izin, manajemen, layanan, aplikasi, pera...   \n",
            "9  spbe, layanan, inovasi, data, perangkat, aplik...   \n",
            "\n",
            "                                                Text  \n",
            "0  [salinan, pengelolaan, layanan, aspirasi, peng...  \n",
            "1  [salinan, penyelenggaraan, mal, gerai, rahmat,...  \n",
            "2  [salinan, pendelegasian, wewenang, penyelengga...  \n",
            "3  [sekretariat, jalan, wastukancana, telp, salin...  \n",
            "4  [pelaksanaan, kompetisi, inovasi, rahmat, tuha...  \n",
            "5  [kephk, top, sepuluh, inovasi, inovasi, rintis...  \n",
            "6  [sekretariat, jl, raya, el, tari, telepon, fax...  \n",
            "7  [alikota, provl, alikota, ku, pang, tentano, p...  \n",
            "8  [kedelapan, aplikasl, spbe, aplikasi, spbe, pe...  \n",
            "9  [sistem, berbasis, elektronik, rahmat, tuhan, ...  \n"
          ]
        }
      ],
      "source": [
        "df_topic_sents_keywords = format_topics_sentences(ldamodel=lda_model, corpus=doc_term_matrix, texts=doc_clean)\n",
        "\n",
        "# Format\n",
        "df_dominant_topic = df_topic_sents_keywords.reset_index()\n",
        "df_dominant_topic.columns = ['Document_No', 'Dominant_Topic', 'Topic_Perc_Contrib', 'Keywords', 'Text']\n",
        "print(df_dominant_topic.head(10))"
      ]
    },
    {
      "cell_type": "code",
      "execution_count": null,
      "metadata": {
        "id": "k6jN9xLqyfL_"
      },
      "outputs": [],
      "source": [
        "# save 2 excel\n",
        "filedisimpan = \"dominants_daerah.xlsx\"\n",
        "df_dominant_topic.to_excel(filedisimpan, index = False, header=True)"
      ]
    },
    {
      "cell_type": "code",
      "execution_count": null,
      "metadata": {
        "id": "EOIOnGLeyhJF"
      },
      "outputs": [],
      "source": [
        "# save 2 csv\n",
        "df.to_csv(\"1.csv\", index = False)\n",
        "data = pd.read_csv(\"1.csv\")\n",
        "data.head(30)"
      ]
    },
    {
      "cell_type": "markdown",
      "metadata": {
        "id": "0bPW6cubDBu1"
      },
      "source": [
        "# **Visualize**"
      ]
    },
    {
      "cell_type": "code",
      "execution_count": null,
      "metadata": {
        "id": "9hkDskNiDBca"
      },
      "outputs": [],
      "source": [
        "!pip install pyLDAvis==2.1.2"
      ]
    },
    {
      "cell_type": "code",
      "execution_count": null,
      "metadata": {
        "id": "63Q-RrEsTGUw",
        "colab": {
          "base_uri": "https://localhost:8080/"
        },
        "outputId": "932f80e1-6942-4dbc-d97d-6a13c2cad428"
      },
      "outputs": [
        {
          "output_type": "stream",
          "name": "stdout",
          "text": [
            "Requirement already satisfied: pandas==1.5.3 in /usr/local/lib/python3.10/dist-packages (1.5.3)\n",
            "Requirement already satisfied: python-dateutil>=2.8.1 in /usr/local/lib/python3.10/dist-packages (from pandas==1.5.3) (2.8.2)\n",
            "Requirement already satisfied: pytz>=2020.1 in /usr/local/lib/python3.10/dist-packages (from pandas==1.5.3) (2023.3.post1)\n",
            "Requirement already satisfied: numpy>=1.21.0 in /usr/local/lib/python3.10/dist-packages (from pandas==1.5.3) (1.23.5)\n",
            "Requirement already satisfied: six>=1.5 in /usr/local/lib/python3.10/dist-packages (from python-dateutil>=2.8.1->pandas==1.5.3) (1.16.0)\n"
          ]
        }
      ],
      "source": [
        "!pip install pandas==1.5.3"
      ]
    },
    {
      "cell_type": "code",
      "execution_count": null,
      "metadata": {
        "id": "McvcAoyHDUdZ"
      },
      "outputs": [],
      "source": [
        "import pandas as pd\n",
        "import numpy as np\n",
        "\n",
        "import re\n",
        "import string\n",
        "\n",
        "import gensim\n",
        "from gensim import corpora\n",
        "\n",
        "# libraries for visualization\n",
        "import pyLDAvis\n",
        "import pyLDAvis.gensim\n",
        "import matplotlib.pyplot as plt\n",
        "import seaborn as sns\n",
        "%matplotlib inline\n",
        "\n",
        "import gensim\n",
        "import gensim.corpora as corpora\n",
        "from gensim.corpora import Dictionary\n",
        "from gensim.models.ldamodel import LdaModel\n",
        "from pprint import pprint\n",
        "import pickle"
      ]
    },
    {
      "cell_type": "code",
      "execution_count": null,
      "metadata": {
        "colab": {
          "base_uri": "https://localhost:8080/"
        },
        "id": "2N1f2tQTMCYp",
        "outputId": "b1f7ac96-4787-4b44-df72-18e677bb8a67"
      },
      "outputs": [
        {
          "output_type": "stream",
          "name": "stderr",
          "text": [
            "/usr/local/lib/python3.10/dist-packages/ipykernel/ipkernel.py:283: DeprecationWarning: `should_run_async` will not call `transform_cell` automatically in the future. Please pass the result to `transformed_cell` argument and any exception that happen during thetransform in `preprocessing_exc_tuple` in IPython 7.17 and above.\n",
            "  and should_run_async(code)\n"
          ]
        }
      ],
      "source": [
        "doc_clean = df['stop']\n",
        "\n",
        "dictionary = corpora.Dictionary(doc_clean)\n",
        "doc_term_matrix = [dictionary.doc2bow(doc) for doc in doc_clean]"
      ]
    },
    {
      "cell_type": "code",
      "execution_count": null,
      "metadata": {
        "colab": {
          "base_uri": "https://localhost:8080/",
          "height": 951
        },
        "id": "NPYLRDAJDc0W",
        "outputId": "15ac7ae2-a5f9-46c4-b570-1456339904be"
      },
      "outputs": [
        {
          "output_type": "stream",
          "name": "stderr",
          "text": [
            "/usr/local/lib/python3.10/dist-packages/ipykernel/ipkernel.py:283: DeprecationWarning: `should_run_async` will not call `transform_cell` automatically in the future. Please pass the result to `transformed_cell` argument and any exception that happen during thetransform in `preprocessing_exc_tuple` in IPython 7.17 and above.\n",
            "  and should_run_async(code)\n",
            "/usr/local/lib/python3.10/dist-packages/pyLDAvis/_prepare.py:232: FutureWarning: In a future version of pandas all arguments of DataFrame.drop except for the argument 'labels' will be keyword-only.\n",
            "  head(R).drop('saliency', 1)\n"
          ]
        },
        {
          "output_type": "execute_result",
          "data": {
            "text/plain": [
              "PreparedData(topic_coordinates=              x         y  topics  cluster       Freq\n",
              "topic                                                \n",
              "2      0.112038 -0.091523       1        1  68.169810\n",
              "3      0.079700  0.107396       2        1  23.200926\n",
              "0     -0.089471  0.005577       3        1   5.179388\n",
              "1     -0.102267 -0.021450       4        1   3.449876, topic_info=                 Term        Freq       Total Category  logprob  loglift\n",
              "394              izin   55.000000   55.000000  Default  30.0000  30.0000\n",
              "127   penyelenggaraan   70.000000   70.000000  Default  29.0000  29.0000\n",
              "1538             spbe  400.000000  400.000000  Default  28.0000  28.0000\n",
              "778        penyusunan   16.000000   16.000000  Default  27.0000  27.0000\n",
              "640           inovasi  113.000000  113.000000  Default  26.0000  26.0000\n",
              "...               ...         ...         ...      ...      ...      ...\n",
              "237             kedua    1.126632   12.975017   Topic4  -5.5619   0.9230\n",
              "244            kesatu    1.126652   13.312283   Topic4  -5.5619   0.8974\n",
              "145        sekretaris    1.126701   18.656520   Topic4  -5.5618   0.5599\n",
              "339           terpadu    1.126285   24.086240   Topic4  -5.5622   0.3041\n",
              "106       pelaksanaan    1.125453   86.830973   Topic4  -5.5629  -0.9789\n",
              "\n",
              "[313 rows x 6 columns], token_table=      Topic      Freq                     Term\n",
              "term                                          \n",
              "178       3  0.662355                aktivitas\n",
              "180       3  0.662355                     aman\n",
              "181       3  0.938552                  analisa\n",
              "354       2  1.011644                 angkutan\n",
              "550       1  0.931184                    antar\n",
              "...     ...       ...                      ...\n",
              "173       1  0.735096               verifikasi\n",
              "173       2  0.105014               verifikasi\n",
              "173       4  0.210028               verifikasi\n",
              "348       3  0.938552                     viii\n",
              "349       3  0.938552  wastukancanwastukancana\n",
              "\n",
              "[378 rows x 3 columns], R=30, lambda_step=0.01, plot_opts={'xlab': 'PC1', 'ylab': 'PC2'}, topic_order=[3, 4, 1, 2])"
            ],
            "text/html": [
              "\n",
              "<link rel=\"stylesheet\" type=\"text/css\" href=\"https://cdn.rawgit.com/bmabey/pyLDAvis/files/ldavis.v1.0.0.css\">\n",
              "\n",
              "\n",
              "<div id=\"ldavis_el486361391278472406406163253017\"></div>\n",
              "<script type=\"text/javascript\">\n",
              "\n",
              "var ldavis_el486361391278472406406163253017_data = {\"mdsDat\": {\"x\": [0.11203826066961908, 0.07970020930985616, -0.08947097560932389, -0.10226749437015134], \"y\": [-0.09152298042279096, 0.10739561401857205, 0.005577153917112959, -0.02144978751289411], \"topics\": [1, 2, 3, 4], \"cluster\": [1, 1, 1, 1], \"Freq\": [68.16980968529622, 23.200926126675913, 5.179388123823939, 3.449876064203931]}, \"tinfo\": {\"Term\": [\"izin\", \"penyelenggaraan\", \"spbe\", \"penyusunan\", \"inovasi\", \"usaha\", \"terpadu\", \"perangkat\", \"manajemen\", \"perizinan\", \"pelaksanaan\", \"nonperizinan\", \"djawa\", \"pembentukan\", \"penetapan\", \"kepala\", \"mpp\", \"praktik\", \"berusaha\", \"verifikasi\", \"pertimbangan\", \"gpp\", \"mandiri\", \"pintu\", \"pengaduan\", \"evaluasi\", \"lokasi\", \"komunikasi\", \"disingkat\", \"disebut\", \"inovasi\", \"kompetisi\", \"pengaduan\", \"bisnis\", \"proposal\", \"top\", \"penghubung\", \"keterpaduan\", \"intra\", \"tp\", \"disusun\", \"korupsi\", \"pidana\", \"berbunyi\", \"domain\", \"peserta\", \"sipil\", \"menghasilkan\", \"berikutpasal\", \"langsung\", \"jaringan\", \"lan\", \"kategori\", \"inspektorat\", \"transaksi\", \"menengah\", \"peta\", \"penilai\", \"reviu\", \"aspirasi\", \"sistem\", \"arsitektur\", \"antar\", \"tik\", \"data\", \"jangka\", \"pakai\", \"bumd\", \"spbe\", \"integrasi\", \"infrastruktur\", \"masyarakat\", \"layanan\", \"informasi\", \"aplikasi\", \"perangkat\", \"proses\", \"pembangunan\", \"elektronik\", \"menyelenggarakan\", \"pengelolaan\", \"pelaksanaan\", \"berbasis\", \"manajemen\", \"urusan\", \"pengembangan\", \"evaluasi\", \"penyelenggaraan\", \"pemantauan\", \"komunikasi\", \"izin\", \"praktik\", \"dokter\", \"penandatanganan\", \"gigi\", \"nonperizinan\", \"terapis\", \"tenaga\", \"spesialis\", \"mendirikan\", \"reklame\", \"manajernen\", \"berusaha\", \"rnelalui\", \"aplikas\", \"climaksud\", \"naskah\", \"tradisional\", \"pendelegasian\", \"permohonan\", \"permanen\", \"kelengkapannya\", \"dao\", \"kelayakan\", \"bertanggungjawab\", \"teknisi\", \"angkutan\", \"pendirian\", \"trayek\", \"perizinan\", \"persetujuan\", \"bangunan\", \"mandiri\", \"pintu\", \"jalan\", \"sebagairnana\", \"manajemen\", \"bertujuan\", \"teknologi\", \"spbe\", \"komunikasi\", \"penyelenggaraan\", \"tier\", \"desk\", \"service\", \"modal\", \"penanaman\", \"layanan\", \"penjaminan\", \"aplikasi\", \"pelaksanaan\", \"perangkat\", \"informasi\", \"evaluasi\", \"risiko\", \"pemantauan\", \"data\", \"proses\", \"berbasis\", \"elektronik\", \"perencanaan\", \"terpadu\", \"manusia\", \"mpp\", \"gpp\", \"sematamata\", \"negarabadan\", \"daerahswasta\", \"institusi\", \"aman\", \"ruangan\", \"aktivitas\", \"berlangsungnya\", \"korporasi\", \"nyaman\", \"prasaranafasilitas\", \"swasta\", \"gerai\", \"gedung\", \"dibentuk\", \"maret\", \"skala\", \"pelayanannya\", \"analisa\", \"kenyamanan\", \"kerjasamaantarawalikotadengan\", \"asep\", \"semakin\", \"keterjangkauan\", \"bandunbandung\", \"sop\", \"liar\", \"oieh\", \"nono\", \"viii\", \"bergabungnya\", \"wastukancanwastukancana\", \"barabarat\", \"bank\", \"banbandunung\", \"mempermudah\", \"mengintegrasikan\", \"mengurangi\", \"mempercepat\", \"nonkementerianlembaga\", \"bumn\", \"manejemen\", \"sebagimana\", \"teelp\", \"provinsprovinsi\", \"pungutan\", \"terjangkau\", \"perjanjian\", \"penyelenggraan\", \"pengendali\", \"pengunaan\", \"independen\", \"global\", \"fafax\", \"dprd\", \"dmptsp\", \"dituangkan\", \"dikontrol\", \"daerahbadan\", \"jawjawa\", \"non\", \"saing\", \"kementerianlembagaperangkat\", \"kementrianlembagapemerintah\", \"jalajalan\", \"biaya\", \"independent\", \"usaha\", \"dpmptsp\", \"cepat\", \"mudah\", \"tempat\", \"kemudahan\", \"perluasan\", \"sah\", \"mal\", \"terpadu\", \"penyelenggaraan\", \"pintu\", \"kepala\", \"mekanisme\", \"modal\", \"penanaman\", \"monitoring\", \"disebut\", \"perizinan\", \"djawa\", \"pelaksanaan\", \"disingkat\", \"manusia\", \"evaluasi\", \"perangkat\", \"menginformasikan\", \"lokasi\", \"sekota\", \"ketua\", \"mal\", \"tembusan\", \"diktum\", \"kemudian\", \"maing\", \"penyusunanpengkajian\", \"polo\", \"perusahaan\", \"inspektur\", \"ditandatangani\", \"direktur\", \"lurah\", \"dana\", \"camat\", \"november\", \"bambang\", \"asisten\", \"insentif\", \"yth\", \"wastukancana\", \"suhari\", \"telp\", \"tertuang\", \"terhitung\", \"el\", \"benhdiktus\", \"mengoordinir\", \"ir\", \"wx\", \"xx\", \"kep\", \"telepon\", \"nar\", \"empina\", \"fax\", \"dpmptsp\", \"penetapan\", \"perkembangannya\", \"pengkajian\", \"djawa\", \"daerahdaerah\", \"penyusunan\", \"kotakota\", \"besar\", \"verifikasi\", \"mohamad\", \"oded\", \"danial\", \"salinan\", \"sekretariat\", \"pembentukan\", \"dicabut\", \"menimbang\", \"kepala\", \"perangkat\", \"penyelenggaraan\", \"pertimbangan\", \"kedua\", \"kesatu\", \"sekretaris\", \"terpadu\", \"pelaksanaan\"], \"Freq\": [55.0, 70.0, 400.0, 16.0, 113.0, 18.0, 24.0, 120.0, 112.0, 22.0, 86.0, 22.0, 12.0, 13.0, 10.0, 16.0, 7.0, 16.0, 17.0, 9.0, 12.0, 6.0, 23.0, 12.0, 88.0, 46.0, 6.0, 45.0, 15.0, 10.0, 113.38461735301868, 40.37998505111703, 86.9209953626947, 27.604176894453175, 18.478593471553836, 18.478588074431826, 13.915801760104168, 13.003245576663037, 13.003245576663037, 13.003242878102032, 13.003242878102032, 13.003237480980024, 13.003237480980024, 13.003237480980024, 13.003237480980024, 12.090682646819396, 10.265565557455378, 9.353006000812993, 9.353002627611737, 9.353002627611737, 26.691779926111295, 8.440446444170606, 8.440446444170606, 8.440441047048598, 8.440441047048598, 8.440441047048598, 24.86666486066803, 7.527883514326965, 7.527882165046464, 7.5278760932842035, 44.94328948915751, 61.36893648536228, 20.303824575120284, 26.691747543379243, 102.4340618884093, 16.65355261653819, 12.090851306882161, 13.00310120364931, 324.183919155322, 22.128916702795014, 31.25446099655979, 21.216179715766597, 117.94746303568843, 81.44506997574899, 87.83267721237046, 94.22189818847245, 49.506931247323514, 36.7296874562054, 46.76862043948112, 23.041514713931708, 32.166785103754556, 63.19425934000287, 36.72925838500572, 74.14422112119132, 24.866470564275723, 25.778751494494422, 32.16658810880124, 39.465256526067485, 25.778948489447732, 27.604095937623047, 54.13779048667858, 15.824959380634823, 9.573027379029824, 8.010044378628574, 7.228551500784793, 21.295668522454626, 5.665567122740387, 4.8840737856822205, 4.8840737856822205, 4.8840737856822205, 4.8840737856822205, 4.102581826267211, 15.825923730844055, 3.3210871115658884, 3.3210871115658884, 3.3210871115658884, 3.3210864227443104, 3.321085963529925, 3.321085963529925, 3.321085963529925, 3.321085963529925, 2.53959101922141, 2.53959101922141, 2.53959101922141, 2.53959101922141, 2.539590330399832, 2.539590330399832, 2.539590330399832, 2.539590330399832, 18.951774009621445, 4.884116492620058, 6.449270658635236, 16.60785745449777, 8.012904365820525, 4.88438972517934, 4.884214305284138, 36.92652349297522, 7.228754932757502, 14.262553153501571, 76.00114166915868, 17.389333800623678, 22.077874101024467, 6.447226236191664, 6.447226236191664, 5.665720500345094, 5.667610167540803, 5.667610167540803, 29.893025139224786, 7.228690642743554, 22.85864693071202, 19.734190826808547, 22.079066221568834, 18.9517409461857, 12.699369017199539, 8.791709002652475, 11.13641632494772, 12.698878576235986, 10.355352353339857, 9.573447100978033, 9.57395774737454, 8.010138058363184, 7.228760902544511, 7.228739778682786, 7.219599518404262, 6.331026970100005, 1.443873136208236, 1.443873136208236, 1.443873136208236, 1.443873136208236, 0.9995845042045727, 0.9995845042045727, 0.9995845042045727, 0.9995845042045727, 0.9995845042045727, 0.9995845042045727, 0.9995845042045727, 2.332726678906271, 1.888339734745135, 1.8882991386926227, 2.3333198323401994, 0.9997547820914988, 0.5552914127860499, 0.5552914127860499, 0.5552914127860499, 0.5552914127860499, 0.5552914127860499, 0.5552914127860499, 0.5552914127860499, 0.5552914127860499, 0.5552914127860499, 0.5552914127860499, 0.5552914127860499, 0.5552914127860499, 0.5552914127860499, 0.5552914127860499, 0.5552914127860499, 0.5552914127860499, 0.5552914127860499, 0.5552914127860499, 0.5552914127860499, 0.5552914127860499, 0.5552914127860499, 0.5552914127860499, 0.5552914127860499, 0.5552914127860499, 0.5552914127860499, 0.5552914127860499, 0.5552914127860499, 0.5552914127860499, 0.5552914127860499, 0.5552914127860499, 1.4443620315982126, 1.4441595639120721, 0.5552914127860499, 0.5552914127860499, 0.5552914127860499, 0.5552914127860499, 0.5552914127860499, 0.5552914127860499, 0.5552914127860499, 0.5552914127860499, 0.5552914127860499, 0.5552914127860499, 0.5552914127860499, 0.5552914127860499, 1.8884088300466328, 0.5552914127860499, 0.5552914127860499, 0.5552914127860499, 0.5552914127860499, 1.8886056593921468, 0.5552914127860499, 5.443465632558325, 2.3328162772645933, 1.8885767500820243, 1.8884736197061978, 1.4442598238599433, 1.4440721183747163, 0.999646320920898, 0.9996071600823635, 1.8882448055920382, 4.555274851172136, 7.221303732487502, 2.778651967420938, 2.777385493600898, 1.8884689040031282, 1.8894409539271706, 1.8894409539271706, 1.4441869354929326, 1.8883095952516031, 2.332661069124433, 1.8886852112526251, 2.7770699515563715, 1.8885552218723587, 1.8882419351640827, 1.8881322438100725, 1.8880820113208527, 1.4732901781681191, 4.246656897570302, 1.1266246643298825, 1.126623913215044, 3.553221396648116, 0.7799568971471306, 0.779956624014462, 0.779956624014462, 0.779956624014462, 0.779956624014462, 0.779956624014462, 0.43328687661986315, 0.43328687661986315, 0.43328687661986315, 0.43328687661986315, 0.43328687661986315, 0.43328687661986315, 0.43328687661986315, 0.43328687661986315, 0.43328687661986315, 0.43328687661986315, 0.43328687661986315, 0.43328687661986315, 0.43328687661986315, 0.43328687661986315, 0.43328687661986315, 0.43328687661986315, 0.43328687661986315, 0.4332863644961097, 0.4332863644961097, 0.4332863644961097, 0.4332863644961097, 0.4332863644961097, 0.4332863644961097, 2.167046336843163, 0.4332863644961097, 0.4332863644961097, 0.4332863644961097, 0.4332863644961097, 2.1665822844393263, 3.2069435263496944, 0.7800082460888147, 0.779996637950402, 2.513864190427274, 1.1269494190727678, 2.8600415479036756, 1.4736523520865934, 1.4736523520865934, 1.8201935222774805, 0.7803641379559128, 0.7803641379559128, 0.7803641379559128, 1.4736343253304702, 1.1269557694073111, 1.8201311114627208, 0.779954575519448, 1.1268758098185983, 1.4731751893146667, 2.1653507292369123, 1.8190206905988011, 1.1266602398599588, 1.1266316974960973, 1.1266522507294043, 1.1267014828929074, 1.1262848190070607, 1.1254525154828745], \"Total\": [55.0, 70.0, 400.0, 16.0, 113.0, 18.0, 24.0, 120.0, 112.0, 22.0, 86.0, 22.0, 12.0, 13.0, 10.0, 16.0, 7.0, 16.0, 17.0, 9.0, 12.0, 6.0, 23.0, 12.0, 88.0, 46.0, 6.0, 45.0, 15.0, 10.0, 113.77773097571792, 40.77309832109271, 88.09481922748527, 27.99728937783892, 18.871706107482936, 18.871702174026154, 14.308913644685394, 13.396357389843752, 13.396357474058673, 13.396355514031134, 13.396355517103213, 13.396351416200883, 13.396351416200883, 13.396351722801002, 13.39635221478859, 12.483795282748497, 10.658678683445732, 9.746119033326924, 9.746116575647006, 9.746117153698728, 27.865948398960246, 8.8335584657378, 8.833559080099707, 8.833555003619264, 8.833555119187528, 8.833555207658831, 26.04083780136018, 7.920997108325291, 7.920996492527868, 7.920992190524479, 47.342983657247984, 64.88766381525065, 21.478034551837915, 28.64746563977028, 115.33067976938192, 17.827793409957156, 12.830521958493748, 13.84050338429, 400.3828003640425, 24.08467111222574, 34.7732392005699, 23.27893196896074, 148.4817293833722, 101.03831358699993, 110.8890634264693, 120.35439715059904, 60.40575697824509, 43.37454075431973, 57.33043089530079, 25.7787337946474, 38.13725968713809, 86.83097263385066, 46.5004460118252, 112.15646202363862, 30.05531405876673, 32.42381306866661, 46.840756695699355, 70.58345505017826, 37.55714799564595, 45.53720507653631, 55.45228465116502, 16.25083780119108, 9.99890579958608, 8.435922820534637, 7.654429942690854, 22.60990894923221, 6.091445564646448, 5.309952227588282, 5.309952227588282, 5.309952227588282, 5.309952227588282, 4.528459743788038, 17.48650887396468, 3.7469650376221106, 3.7469650376221106, 3.7469650376221106, 3.7469647707157505, 3.7469644267857927, 3.7469644267857927, 3.7469644267857927, 3.7469644267857927, 2.9654689580920426, 2.9654689580920426, 2.9654689580920426, 2.9654689580920426, 2.9654686570214657, 2.965468815005506, 2.965468815005506, 2.965468815005506, 22.29199176628409, 5.754190959433278, 7.784244109717498, 23.863642161239305, 12.703989272266519, 6.91494943618524, 7.134264903038068, 112.15646202363862, 12.216458260953141, 32.02565409839362, 400.3828003640425, 45.53720507653631, 70.58345505017826, 10.52240060994172, 10.52240060994172, 8.828342422525205, 9.125325661672985, 9.125325661672985, 148.4817293833722, 14.04159445096127, 110.8890634264693, 86.83097263385066, 120.35439715059904, 101.03831358699993, 46.840756695699355, 21.0799339208346, 37.55714799564595, 115.33067976938192, 60.40575697824509, 46.5004460118252, 57.33043089530079, 27.598920168760074, 24.08624028784075, 20.381387542292295, 7.729778733659554, 6.841206185355297, 1.9540523599989237, 1.9540523599989237, 1.9540523599989237, 1.9540523599989237, 1.5097637365306564, 1.5097637365306564, 1.5097637365306564, 1.5097637365306564, 1.5097637365306564, 1.5097637365306564, 1.5097637365306564, 3.7540198708762063, 3.091671461666843, 3.1794299624078683, 4.100396826643164, 1.8564232778922936, 1.0654707357691824, 1.0654707357691824, 1.0654707357691824, 1.0654707357691824, 1.0654707357691824, 1.0654707357691824, 1.0654707357691824, 1.0654707357691824, 1.0654707357691824, 1.0654707357691824, 1.0654707357691824, 1.0654707357691824, 1.0654707357691824, 1.0654707357691824, 1.0654707357691824, 1.0654707357691824, 1.0654707357691824, 1.0654707357691824, 1.0654707357691824, 1.0654707357691824, 1.0654707357691824, 1.0654707357691824, 1.0654707357691824, 1.0654707357691824, 1.0654707357691824, 1.0654707357691824, 1.0654707357691824, 1.0654707357691824, 1.0654707357691824, 1.0654707357691824, 2.865221896030684, 2.8654374453346665, 1.0654707357691824, 1.0654707357691824, 1.0654707357691824, 1.0654707357691824, 1.0654707357691824, 1.0654707357691824, 1.0654707357691824, 1.0654707357691824, 1.0654707357691824, 1.0654707357691824, 1.0654707357691824, 1.0654707357691824, 4.091002548647861, 1.0654707357691824, 1.0654707357691824, 1.0654707357691824, 1.0654707357691824, 4.569065540375224, 1.0654707357691824, 18.07115097366068, 6.485074504443421, 5.134821508993492, 5.134931656924118, 3.64654918791277, 3.6467545249578315, 2.2909119536761473, 2.2909422826501813, 5.864979841828329, 24.08624028784075, 70.58345505017826, 12.703989272266519, 16.399347137311622, 7.872638691406351, 9.125325661672985, 9.125325661672985, 4.4281145265157535, 10.610491843218156, 22.29199176628409, 12.123222535626537, 86.83097263385066, 15.823221273787198, 20.381387542292295, 46.840756695699355, 120.35439715059904, 2.0078761533757024, 6.113993493609371, 1.6612101297241035, 1.661209984917363, 5.864979841828329, 1.3145427026334953, 1.3145426678404109, 1.3145426678404109, 1.314542748510462, 1.314542748510462, 1.314542748510462, 0.9678725645289841, 0.9678725645289841, 0.9678725645289841, 0.9678725645289841, 0.9678725645289841, 0.9678725645289841, 0.9678725645289841, 0.9678725645289841, 0.9678725645289841, 0.9678725645289841, 0.9678725645289841, 0.9678725645289841, 0.9678725645289841, 0.9678725645289841, 0.9678725645289841, 0.9678725645289841, 0.9678725645289841, 0.9678727469399668, 0.9678727469399668, 0.9678727469399668, 0.9678727469399668, 0.9678727469399668, 0.9678727469399668, 5.437437844229052, 0.9678727469399668, 0.9678727469399668, 0.9678727469399668, 0.9678727469399668, 6.485074504443421, 10.622939902718905, 2.226148498929034, 2.226166276621461, 12.123222535626537, 3.929150850614573, 16.169504628678947, 6.545049730275224, 6.545049730275224, 9.52256061010689, 2.6695708886437313, 2.6695708886437313, 2.6695708886437313, 8.758187854607781, 5.622951291489215, 13.724204080718003, 2.8772624676491363, 6.222859016804768, 16.399347137311622, 120.35439715059904, 70.58345505017826, 12.611137312785443, 12.975016964103576, 13.312283227282027, 18.656520185741105, 24.08624028784075, 86.83097263385066], \"Category\": [\"Default\", \"Default\", \"Default\", \"Default\", \"Default\", \"Default\", \"Default\", \"Default\", \"Default\", \"Default\", \"Default\", \"Default\", \"Default\", \"Default\", \"Default\", \"Default\", \"Default\", \"Default\", \"Default\", \"Default\", \"Default\", \"Default\", \"Default\", \"Default\", \"Default\", \"Default\", \"Default\", \"Default\", \"Default\", \"Default\", \"Topic1\", \"Topic1\", \"Topic1\", \"Topic1\", \"Topic1\", \"Topic1\", \"Topic1\", \"Topic1\", \"Topic1\", \"Topic1\", \"Topic1\", \"Topic1\", \"Topic1\", \"Topic1\", \"Topic1\", \"Topic1\", \"Topic1\", \"Topic1\", \"Topic1\", \"Topic1\", \"Topic1\", \"Topic1\", \"Topic1\", \"Topic1\", \"Topic1\", \"Topic1\", \"Topic1\", \"Topic1\", \"Topic1\", \"Topic1\", \"Topic1\", \"Topic1\", \"Topic1\", \"Topic1\", \"Topic1\", \"Topic1\", \"Topic1\", \"Topic1\", \"Topic1\", \"Topic1\", \"Topic1\", \"Topic1\", \"Topic1\", \"Topic1\", \"Topic1\", \"Topic1\", \"Topic1\", \"Topic1\", \"Topic1\", \"Topic1\", \"Topic1\", \"Topic1\", \"Topic1\", \"Topic1\", \"Topic1\", \"Topic1\", \"Topic1\", \"Topic1\", \"Topic1\", \"Topic1\", \"Topic2\", \"Topic2\", \"Topic2\", \"Topic2\", \"Topic2\", \"Topic2\", \"Topic2\", \"Topic2\", \"Topic2\", \"Topic2\", \"Topic2\", \"Topic2\", \"Topic2\", \"Topic2\", \"Topic2\", \"Topic2\", \"Topic2\", \"Topic2\", \"Topic2\", \"Topic2\", \"Topic2\", \"Topic2\", \"Topic2\", \"Topic2\", \"Topic2\", \"Topic2\", \"Topic2\", \"Topic2\", \"Topic2\", \"Topic2\", \"Topic2\", \"Topic2\", \"Topic2\", \"Topic2\", \"Topic2\", \"Topic2\", \"Topic2\", \"Topic2\", \"Topic2\", \"Topic2\", \"Topic2\", \"Topic2\", \"Topic2\", \"Topic2\", \"Topic2\", \"Topic2\", \"Topic2\", \"Topic2\", \"Topic2\", \"Topic2\", \"Topic2\", \"Topic2\", \"Topic2\", \"Topic2\", \"Topic2\", \"Topic2\", \"Topic2\", \"Topic2\", \"Topic2\", \"Topic2\", \"Topic2\", \"Topic2\", \"Topic2\", \"Topic3\", \"Topic3\", \"Topic3\", \"Topic3\", \"Topic3\", \"Topic3\", \"Topic3\", \"Topic3\", \"Topic3\", \"Topic3\", \"Topic3\", \"Topic3\", \"Topic3\", \"Topic3\", \"Topic3\", \"Topic3\", \"Topic3\", \"Topic3\", \"Topic3\", \"Topic3\", \"Topic3\", \"Topic3\", \"Topic3\", \"Topic3\", \"Topic3\", \"Topic3\", \"Topic3\", \"Topic3\", \"Topic3\", \"Topic3\", \"Topic3\", \"Topic3\", \"Topic3\", \"Topic3\", \"Topic3\", \"Topic3\", \"Topic3\", \"Topic3\", \"Topic3\", \"Topic3\", \"Topic3\", \"Topic3\", \"Topic3\", \"Topic3\", \"Topic3\", \"Topic3\", \"Topic3\", \"Topic3\", \"Topic3\", \"Topic3\", \"Topic3\", \"Topic3\", \"Topic3\", \"Topic3\", \"Topic3\", \"Topic3\", \"Topic3\", \"Topic3\", \"Topic3\", \"Topic3\", \"Topic3\", \"Topic3\", \"Topic3\", \"Topic3\", \"Topic3\", \"Topic3\", \"Topic3\", \"Topic3\", \"Topic3\", \"Topic3\", \"Topic3\", \"Topic3\", \"Topic3\", \"Topic3\", \"Topic3\", \"Topic3\", \"Topic3\", \"Topic3\", \"Topic3\", \"Topic3\", \"Topic3\", \"Topic3\", \"Topic3\", \"Topic3\", \"Topic3\", \"Topic3\", \"Topic3\", \"Topic3\", \"Topic3\", \"Topic3\", \"Topic3\", \"Topic3\", \"Topic3\", \"Topic3\", \"Topic4\", \"Topic4\", \"Topic4\", \"Topic4\", \"Topic4\", \"Topic4\", \"Topic4\", \"Topic4\", \"Topic4\", \"Topic4\", \"Topic4\", \"Topic4\", \"Topic4\", \"Topic4\", \"Topic4\", \"Topic4\", \"Topic4\", \"Topic4\", \"Topic4\", \"Topic4\", \"Topic4\", \"Topic4\", \"Topic4\", \"Topic4\", \"Topic4\", \"Topic4\", \"Topic4\", \"Topic4\", \"Topic4\", \"Topic4\", \"Topic4\", \"Topic4\", \"Topic4\", \"Topic4\", \"Topic4\", \"Topic4\", \"Topic4\", \"Topic4\", \"Topic4\", \"Topic4\", \"Topic4\", \"Topic4\", \"Topic4\", \"Topic4\", \"Topic4\", \"Topic4\", \"Topic4\", \"Topic4\", \"Topic4\", \"Topic4\", \"Topic4\", \"Topic4\", \"Topic4\", \"Topic4\", \"Topic4\", \"Topic4\", \"Topic4\", \"Topic4\", \"Topic4\", \"Topic4\", \"Topic4\", \"Topic4\", \"Topic4\", \"Topic4\", \"Topic4\", \"Topic4\"], \"logprob\": [30.0, 29.0, 28.0, 27.0, 26.0, 25.0, 24.0, 23.0, 22.0, 21.0, 20.0, 19.0, 18.0, 17.0, 16.0, 15.0, 14.0, 13.0, 12.0, 11.0, 10.0, 9.0, 8.0, 7.0, 6.0, 5.0, 4.0, 3.0, 2.0, 1.0, -3.934000015258789, -4.966400146484375, -4.19980001449585, -5.346799850463867, -5.748199939727783, -5.748199939727783, -6.031700134277344, -6.099599838256836, -6.099599838256836, -6.099599838256836, -6.099599838256836, -6.099599838256836, -6.099599838256836, -6.099599838256836, -6.099599838256836, -6.172299861907959, -6.335999965667725, -6.429100036621094, -6.429100036621094, -6.429100036621094, -5.38040018081665, -6.531700134277344, -6.531700134277344, -6.531700134277344, -6.531700134277344, -6.531700134277344, -5.451200008392334, -6.646200180053711, -6.646200180053711, -6.646200180053711, -4.859399795532227, -4.547900199890137, -5.6539998054504395, -5.38040018081665, -4.035600185394287, -5.852099895477295, -6.172299861907959, -6.099599838256836, -2.883500099182129, -5.56790018081665, -5.222599983215332, -5.610000133514404, -3.8945000171661377, -4.264800071716309, -4.189300060272217, -4.119100093841553, -4.762700080871582, -5.061200141906738, -4.8196001052856445, -5.527500152587891, -5.19379997253418, -4.518599987030029, -5.061200141906738, -4.358799934387207, -5.451300144195557, -5.415200233459473, -5.19379997253418, -4.9893999099731445, -5.415200233459473, -5.346799850463867, -3.595400094985962, -4.825399875640869, -5.328000068664551, -5.50629997253418, -5.60890007019043, -4.528500080108643, -5.85260009765625, -6.000999927520752, -6.000999927520752, -6.000999927520752, -6.000999927520752, -6.175300121307373, -4.825300216674805, -6.38670015335083, -6.38670015335083, -6.38670015335083, -6.38670015335083, -6.38670015335083, -6.38670015335083, -6.38670015335083, -6.38670015335083, -6.65500020980835, -6.65500020980835, -6.65500020980835, -6.65500020980835, -6.65500020980835, -6.65500020980835, -6.65500020980835, -6.65500020980835, -4.645100116729736, -6.000999927520752, -5.7230000495910645, -4.777100086212158, -5.505899906158447, -6.000899791717529, -6.000999927520752, -3.9779999256134033, -5.60890007019043, -4.929299831390381, -3.256200075149536, -4.731100082397461, -4.492400169372559, -5.723299980163574, -5.723299980163574, -5.852499961853027, -5.852200031280518, -5.852200031280518, -4.189300060272217, -5.60890007019043, -4.457600116729736, -4.604599952697754, -4.492300033569336, -4.645100116729736, -5.045400142669678, -5.4131999015808105, -5.176700115203857, -5.045400142669678, -5.249499797821045, -5.328000068664551, -5.327899932861328, -5.50629997253418, -5.60890007019043, -5.60890007019043, -4.1107001304626465, -4.242000102996826, -5.720099925994873, -5.720099925994873, -5.720099925994873, -5.720099925994873, -6.087900161743164, -6.087900161743164, -6.087900161743164, -6.087900161743164, -6.087900161743164, -6.087900161743164, -6.087900161743164, -5.2403998374938965, -5.4517998695373535, -5.4517998695373535, -5.240200042724609, -6.087699890136719, -6.6757001876831055, -6.6757001876831055, -6.6757001876831055, -6.6757001876831055, -6.6757001876831055, -6.6757001876831055, -6.6757001876831055, -6.6757001876831055, -6.6757001876831055, -6.6757001876831055, -6.6757001876831055, -6.6757001876831055, -6.6757001876831055, -6.6757001876831055, -6.6757001876831055, -6.6757001876831055, -6.6757001876831055, -6.6757001876831055, -6.6757001876831055, -6.6757001876831055, -6.6757001876831055, -6.6757001876831055, -6.6757001876831055, -6.6757001876831055, -6.6757001876831055, -6.6757001876831055, -6.6757001876831055, -6.6757001876831055, -6.6757001876831055, -6.6757001876831055, -5.719799995422363, -5.719900131225586, -6.6757001876831055, -6.6757001876831055, -6.6757001876831055, -6.6757001876831055, -6.6757001876831055, -6.6757001876831055, -6.6757001876831055, -6.6757001876831055, -6.6757001876831055, -6.6757001876831055, -6.6757001876831055, -6.6757001876831055, -5.451700210571289, -6.6757001876831055, -6.6757001876831055, -6.6757001876831055, -6.6757001876831055, -5.451600074768066, -6.6757001876831055, -4.39300012588501, -5.2403998374938965, -5.451600074768066, -5.451700210571289, -5.719900131225586, -5.71999979019165, -6.087800025939941, -6.087800025939941, -5.4517998695373535, -4.571199893951416, -4.110400199890137, -5.065499782562256, -5.065899848937988, -5.451700210571289, -5.451200008392334, -5.451200008392334, -5.719900131225586, -5.4517998695373535, -5.2403998374938965, -5.451600074768066, -5.066100120544434, -5.451600074768066, -5.4517998695373535, -5.451900005340576, -5.451900005340576, -5.293600082397461, -4.235000133514404, -5.5619001388549805, -5.5619001388549805, -4.413300037384033, -5.929599761962891, -5.929599761962891, -5.929599761962891, -5.929599761962891, -5.929599761962891, -5.929599761962891, -6.517499923706055, -6.517499923706055, -6.517499923706055, -6.517499923706055, -6.517499923706055, -6.517499923706055, -6.517499923706055, -6.517499923706055, -6.517499923706055, -6.517499923706055, -6.517499923706055, -6.517499923706055, -6.517499923706055, -6.517499923706055, -6.517499923706055, -6.517499923706055, -6.517499923706055, -6.517499923706055, -6.517499923706055, -6.517499923706055, -6.517499923706055, -6.517499923706055, -6.517499923706055, -4.907700061798096, -6.517499923706055, -6.517499923706055, -6.517499923706055, -6.517499923706055, -4.9079999923706055, -4.5157999992370605, -5.929599761962891, -5.929599761962891, -4.759300231933594, -5.561600208282471, -4.630300045013428, -5.293399810791016, -5.293399810791016, -5.082200050354004, -5.929100036621094, -5.929100036621094, -5.929100036621094, -5.293399810791016, -5.561600208282471, -5.082200050354004, -5.929599761962891, -5.561699867248535, -5.293700218200684, -4.9085001945495605, -5.082799911499023, -5.561800003051758, -5.5619001388549805, -5.5619001388549805, -5.561800003051758, -5.56220006942749, -5.562900066375732], \"loglift\": [30.0, 29.0, 28.0, 27.0, 26.0, 25.0, 24.0, 23.0, 22.0, 21.0, 20.0, 19.0, 18.0, 17.0, 16.0, 15.0, 14.0, 13.0, 12.0, 11.0, 10.0, 9.0, 8.0, 7.0, 6.0, 5.0, 4.0, 3.0, 2.0, 1.0, 0.3797, 0.3735, 0.3698, 0.369, 0.3621, 0.3621, 0.3553, 0.3534, 0.3534, 0.3534, 0.3534, 0.3534, 0.3534, 0.3534, 0.3534, 0.3512, 0.3456, 0.342, 0.342, 0.342, 0.3401, 0.3376, 0.3376, 0.3376, 0.3376, 0.3376, 0.337, 0.3323, 0.3323, 0.3323, 0.3312, 0.3274, 0.3269, 0.3125, 0.2646, 0.315, 0.3238, 0.3208, 0.1721, 0.2985, 0.2765, 0.2904, 0.1529, 0.1676, 0.1501, 0.1384, 0.1842, 0.2169, 0.1795, 0.2709, 0.2129, 0.0654, 0.1473, -0.0307, 0.1936, 0.1538, 0.0073, -0.1982, 0.0069, -0.1174, 1.437, 1.4344, 1.4175, 1.4092, 1.4037, 1.4011, 1.3885, 1.3774, 1.3774, 1.3774, 1.3774, 1.3622, 1.3612, 1.3403, 1.3403, 1.3403, 1.3403, 1.3403, 1.3403, 1.3403, 1.3403, 1.3059, 1.3059, 1.3059, 1.3059, 1.3059, 1.3059, 1.3059, 1.3059, 1.2986, 1.297, 1.2728, 1.0985, 1.0001, 1.1133, 1.0821, 0.35, 0.9363, 0.6521, -0.2007, 0.4983, 0.2988, 0.9711, 0.9711, 1.0174, 0.9847, 0.9847, -0.1419, 0.797, -0.1182, -0.0206, -0.2348, -0.2126, 0.1558, 0.5865, 0.2453, -0.7453, -0.3026, -0.1195, -0.3288, 0.2239, 0.2574, 0.4244, 2.8922, 2.883, 2.6579, 2.6579, 2.6579, 2.6579, 2.5481, 2.5481, 2.5481, 2.5481, 2.5481, 2.5481, 2.5481, 2.4847, 2.4675, 2.4395, 2.3967, 2.3416, 2.3088, 2.3088, 2.3088, 2.3088, 2.3088, 2.3088, 2.3088, 2.3088, 2.3088, 2.3088, 2.3088, 2.3088, 2.3088, 2.3088, 2.3088, 2.3088, 2.3088, 2.3088, 2.3088, 2.3088, 2.3088, 2.3088, 2.3088, 2.3088, 2.3088, 2.3088, 2.3088, 2.3088, 2.3088, 2.3088, 2.2755, 2.2753, 2.3088, 2.3088, 2.3088, 2.3088, 2.3088, 2.3088, 2.3088, 2.3088, 2.3088, 2.3088, 2.3088, 2.3088, 2.1874, 2.3088, 2.3088, 2.3088, 2.3088, 2.077, 2.3088, 1.7606, 1.9381, 1.9603, 1.9602, 2.0343, 2.0341, 2.1312, 2.1311, 1.8271, 1.2951, 0.6807, 1.4405, 1.1848, 1.5329, 1.3857, 1.3857, 1.8401, 1.2343, 0.7033, 1.1012, -0.4821, 0.8348, 0.5815, -0.2507, -1.1944, 3.0573, 3.0024, 2.9785, 2.9785, 2.8657, 2.8448, 2.8448, 2.8448, 2.8448, 2.8448, 2.8448, 2.5631, 2.5631, 2.5631, 2.5631, 2.5631, 2.5631, 2.5631, 2.5631, 2.5631, 2.5631, 2.5631, 2.5631, 2.5631, 2.5631, 2.5631, 2.5631, 2.5631, 2.5631, 2.5631, 2.5631, 2.5631, 2.5631, 2.5631, 2.4469, 2.5631, 2.5631, 2.5631, 2.5631, 2.2705, 2.1691, 2.3181, 2.3181, 1.7935, 2.1179, 1.6345, 1.8759, 1.8759, 1.7121, 2.1369, 2.1369, 2.1369, 1.5846, 1.7595, 1.3466, 2.0615, 1.6581, 0.957, -0.651, -0.2917, 0.9515, 0.923, 0.8974, 0.5599, 0.3041, -0.9789]}, \"token.table\": {\"Topic\": [3, 3, 3, 2, 1, 2, 2, 1, 2, 1, 2, 3, 1, 3, 3, 1, 2, 3, 3, 1, 2, 1, 3, 1, 3, 2, 1, 2, 2, 3, 1, 3, 4, 1, 3, 1, 1, 3, 3, 1, 3, 2, 3, 1, 3, 4, 3, 1, 3, 4, 2, 1, 2, 1, 2, 1, 3, 2, 4, 3, 4, 1, 3, 1, 2, 3, 1, 3, 1, 3, 4, 3, 2, 1, 2, 3, 4, 3, 1, 2, 3, 1, 2, 3, 3, 2, 3, 3, 4, 2, 3, 3, 3, 3, 1, 2, 3, 1, 2, 1, 1, 3, 1, 2, 1, 1, 2, 3, 1, 2, 4, 1, 2, 1, 2, 3, 1, 1, 2, 3, 4, 2, 2, 3, 3, 1, 2, 3, 4, 3, 1, 4, 1, 2, 3, 4, 3, 1, 2, 3, 4, 3, 1, 4, 1, 1, 2, 3, 1, 1, 3, 4, 1, 1, 1, 2, 3, 3, 3, 4, 4, 3, 4, 1, 2, 3, 2, 1, 2, 3, 3, 1, 2, 3, 3, 1, 2, 3, 1, 3, 3, 3, 2, 1, 1, 4, 3, 3, 1, 4, 1, 2, 1, 2, 3, 1, 3, 4, 1, 2, 3, 3, 1, 3, 2, 3, 1, 2, 3, 3, 3, 2, 3, 3, 1, 3, 4, 3, 1, 1, 2, 3, 4, 3, 1, 2, 3, 1, 2, 1, 3, 4, 1, 2, 3, 2, 2, 2, 1, 2, 3, 4, 1, 2, 1, 2, 3, 1, 2, 3, 1, 1, 4, 3, 1, 1, 2, 1, 2, 3, 4, 3, 1, 4, 4, 1, 2, 3, 4, 1, 2, 2, 3, 4, 1, 3, 1, 4, 2, 3, 2, 2, 2, 3, 1, 4, 1, 1, 2, 1, 1, 2, 3, 4, 4, 2, 3, 1, 1, 2, 3, 3, 2, 1, 1, 2, 2, 3, 2, 3, 3, 1, 2, 3, 4, 1, 2, 3, 4, 1, 2, 3, 4, 1, 2, 3, 4, 3, 3, 1, 2, 1, 1, 2, 3, 3, 3, 1, 2, 2, 1, 3, 3, 2, 1, 2, 4, 1, 2, 3, 2, 2, 1, 3, 1, 2, 3, 4, 1, 2, 1, 2, 1, 1, 2, 1, 2, 1, 2, 3, 1, 2, 3, 1, 2, 4, 3, 3], \"Freq\": [0.6623552916285683, 0.6623552916285683, 0.9385522909534274, 1.0116444269519083, 0.9311839010096277, 0.04655919505048138, 0.8006479830684121, 0.7935859252554056, 0.20741450319175372, 0.9400862415648116, 0.046233749585154665, 0.9385522909534274, 1.0099744839503861, 0.9385522909534274, 0.9385522909534274, 0.1284646249404801, 0.7707877496428807, 0.9385522909534274, 0.9385522909534274, 0.7956912927370803, 0.21505170073975144, 0.970413458006899, 0.9385522909534274, 0.9234447310520216, 0.6623552916285683, 1.0116443781391575, 0.40928392609347763, 0.5729974965308687, 0.9149911005862402, 0.057186943786640014, 0.6111489086931349, 0.15278722717328372, 0.15278722717328372, 0.43772626641633916, 0.43772626641633916, 1.0000968173070077, 0.9392721954575702, 0.07225170734289002, 0.9385522909534274, 0.584246208898515, 0.38949747259901, 0.8006479830684121, 0.9385522909534274, 0.5090158347285578, 0.2545079173642789, 0.2545079173642789, 0.511757013512448, 0.37459203808895575, 0.37459203808895575, 0.37459203808895575, 1.0116443781391575, 0.884413411972961, 0.1127193564279264, 0.38014139057020324, 0.5702120858553048, 0.2438788347269943, 0.4877576694539886, 0.6951051641924407, 0.34755258209622036, 0.9385522909534274, 0.7607208381016984, 0.7539707035459728, 0.1884926758864932, 0.758379080489713, 0.12639651341495217, 0.12639651341495217, 0.9704131831528968, 0.9385522909534274, 0.6598905510882428, 0.1649726377720607, 0.24745895665809106, 0.9385522909534274, 1.0001094320154478, 0.9704134223679901, 0.3084004661210364, 0.3084004661210364, 0.3084004661210364, 0.9385522909534274, 0.8198089438021728, 0.17442743485152612, 0.017442743485152613, 0.6831657355129375, 0.2775360800521308, 0.04269785846955859, 0.9385522909534274, 0.3145217890702247, 0.6290435781404494, 0.6468992662375971, 0.32344963311879854, 0.9145031115849767, 0.9385522909534274, 0.8770383229852019, 0.9385522909534274, 0.9385522909534274, 0.8016760882519505, 0.18804747749119824, 0.009897235657431487, 0.8914901433597806, 0.08627323967997877, 0.9931644710344602, 0.9056376506086461, 0.511757013512448, 0.9134440697773311, 0.08304036997975738, 0.9704130413938118, 0.01803352208643383, 0.9738101926674267, 0.9385522909534274, 0.14461421724461207, 0.7230710862230604, 0.14461421724461207, 0.9535672536178921, 0.05609219138928777, 0.9689244957120298, 0.03588609243377888, 0.9385522909534274, 0.9056372326780998, 0.6165695214220251, 0.23121357053325944, 0.07707119017775314, 0.07707119017775314, 1.0116443781391575, 1.0116443781391575, 0.9385522909534274, 0.9385522909534274, 0.27421642810234487, 0.27421642810234487, 0.27421642810234487, 0.7607208381016984, 0.9385522909534274, 0.5517304447321651, 0.3678202964881101, 0.36586822327511215, 0.36586822327511215, 0.18293411163755607, 0.060978037212518696, 0.9385522909534274, 0.6009487526230587, 0.30047437631152935, 0.07511859407788234, 0.07511859407788234, 0.9385522909534274, 0.9704130474942207, 0.6019708580367973, 0.9810390097165421, 0.6148818302076119, 0.37332111119747863, 0.6623552916285683, 0.9704134802165942, 0.6111489086931349, 0.15278722717328372, 0.15278722717328372, 0.9056372956639305, 0.9234446762816132, 0.7947105713951517, 0.2020450605241911, 0.00673483535080637, 0.9385522909534274, 0.16355921887147024, 0.6542368754858809, 0.7607207914182499, 0.3410071396556628, 0.6820142793113256, 0.659792567140745, 0.3298962835703725, 0.00891611577217223, 0.8833025413303147, 0.2933332620688472, 0.7123807793100575, 0.041904751724121024, 0.9385522909534274, 0.5397081026585901, 0.3434506107827392, 0.09812874593792548, 0.5386702547359559, 0.9021032420216106, 0.042957297239124316, 0.042957297239124316, 0.7621332865878255, 0.2540444288626085, 0.9385522909534274, 0.9385522909534274, 0.9416280572209482, 0.9056376296900114, 0.9234444981868615, 0.4980386854631296, 0.9385522909534274, 0.9385522909534274, 0.8034891978908008, 0.16069783957816014, 0.8922082901052197, 0.1163749943615504, 0.10958513011761004, 0.6575107807056603, 0.21917026023522007, 0.37459203808895575, 0.37459203808895575, 0.37459203808895575, 0.22582975079166404, 0.45165950158332807, 0.22582975079166404, 0.9055886644618026, 0.5842336764024303, 0.3894891176016202, 0.8006480401007176, 0.511757013512448, 0.2444388601836768, 0.2444388601836768, 0.4888777203673536, 0.9385522909534274, 0.9385522909534274, 0.9287963099344158, 0.04422839571116265, 0.6623552916285683, 0.37459203808895575, 0.37459203808895575, 0.37459203808895575, 0.9385522909534274, 0.9352698229128593, 0.7255475562350172, 0.23033255753492607, 0.03454988363023891, 0.011516627876746304, 0.9385522909534274, 0.6922783381478864, 0.2928869892164135, 0.026626089928764862, 0.8530349683602153, 0.1383299948692241, 0.7286397040721384, 0.07286397040721385, 0.1457279408144277, 0.10958513011761004, 0.6575107807056603, 0.21917026023522007, 0.9483254138511653, 0.8006481135913663, 1.0116444269519083, 0.3765435968414181, 0.28240769763106355, 0.09413589921035452, 0.28240769763106355, 0.9875722631922526, 0.01135140532404888, 0.8390744448477534, 0.13110538200746147, 0.026221076401492294, 0.8018797772161353, 0.1850491793575697, 0.9385522909534274, 0.9784111042699506, 0.4492027439736663, 0.4492027439736663, 0.9385522909534274, 1.0099738569013836, 0.49851888433658537, 0.49851888433658537, 0.5525374179016121, 0.31168777420090943, 0.09917338270028936, 0.028335252200082674, 0.9385522909534274, 0.8039825769889466, 0.18553444084360307, 0.7607207914182499, 0.7810267196335015, 0.1827934875737982, 0.0166175897794362, 0.0166175897794362, 0.6884327315641352, 0.28986641329016216, 0.8523240183829996, 0.08971831772452628, 0.04485915886226314, 0.34898685421597325, 0.34898685421597325, 0.4492063312402945, 0.4492063312402945, 0.4365073910393346, 0.4365073910393346, 0.8006481135913663, 0.8006481135913663, 0.8689318855160905, 0.1737863771032181, 0.8722448838018727, 0.07929498943653389, 0.9612461377497067, 0.9600305562632161, 0.038401222250528645, 0.9704134802165942, 0.07871543170955386, 0.6297234536764309, 0.2361462951286616, 0.07871543170955386, 0.7607207914182499, 0.9845646234206649, 0.6623552916285683, 0.9538088341076226, 0.8277356745650472, 0.16554713491300943, 0.9385522909534274, 0.9385522909534274, 0.9416280572209482, 1.0099739354191937, 0.569261746505745, 0.42694630987930876, 0.8006479830684121, 0.6623552916285683, 0.43650161227248013, 0.43650161227248013, 0.9385522909534274, 0.34253661257353213, 0.34253661257353213, 0.11417887085784403, 0.11417887085784403, 0.2803372214491666, 0.7008430536229165, 0.9385522909534274, 0.6019708055633405, 0.5335276520251455, 0.17784255067504848, 0.17784255067504848, 0.17784255067504848, 0.6432067652772363, 0.26800281886551514, 0.05360056377310302, 0.05360056377310302, 0.9385522909534274, 0.511757013512448, 0.3398146397613221, 0.6796292795226442, 0.9382025949924973, 0.950510435205972, 0.042244908231376534, 0.021122454115688267, 0.9385522909534274, 0.9385522909534274, 0.809225570392653, 0.1898183436723507, 0.9416280572209482, 0.2663811152833869, 0.5327622305667739, 0.9385522909534274, 1.011644480846821, 0.5620494102852021, 0.43714954133293493, 0.7607208179670735, 0.2742318692189053, 0.2742318692189053, 0.2742318692189053, 0.9416280572209482, 0.9849878713228302, 0.3490131083338932, 0.3490131083338932, 0.45669228026231373, 0.29062236016692694, 0.20758740011923352, 0.041517480023846705, 0.38014139057020324, 0.5702120858553048, 0.9424917491660009, 0.06981420364192599, 0.9538090329114078, 0.9704131833754339, 0.8006481135913663, 0.9056376387603053, 1.0116444269519083, 0.8317996594917576, 0.13308794551868122, 0.033271986379670306, 0.4426945473290702, 0.2213472736645351, 0.27668409208066885, 0.7350963975561848, 0.10501377107945498, 0.21002754215890995, 0.9385522909534274, 0.9385522909534274], \"Term\": [\"aktivitas\", \"aman\", \"analisa\", \"angkutan\", \"antar\", \"antar\", \"aplikas\", \"aplikasi\", \"aplikasi\", \"arsitektur\", \"arsitektur\", \"asep\", \"aspirasi\", \"banbandunung\", \"bandunbandung\", \"bangunan\", \"bangunan\", \"bank\", \"barabarat\", \"berbasis\", \"berbasis\", \"berbunyi\", \"bergabungnya\", \"berikutpasal\", \"berlangsungnya\", \"bertanggungjawab\", \"bertujuan\", \"bertujuan\", \"berusaha\", \"berusaha\", \"besar\", \"besar\", \"besar\", \"biaya\", \"biaya\", \"bisnis\", \"bumd\", \"bumd\", \"bumn\", \"cepat\", \"cepat\", \"climaksud\", \"daerahbadan\", \"daerahdaerah\", \"daerahdaerah\", \"daerahdaerah\", \"daerahswasta\", \"danial\", \"danial\", \"danial\", \"dao\", \"data\", \"data\", \"desk\", \"desk\", \"dibentuk\", \"dibentuk\", \"dicabut\", \"dicabut\", \"dikontrol\", \"diktum\", \"disebut\", \"disebut\", \"disingkat\", \"disingkat\", \"disingkat\", \"disusun\", \"dituangkan\", \"djawa\", \"djawa\", \"djawa\", \"dmptsp\", \"dokter\", \"domain\", \"dpmptsp\", \"dpmptsp\", \"dpmptsp\", \"dprd\", \"elektronik\", \"elektronik\", \"elektronik\", \"evaluasi\", \"evaluasi\", \"evaluasi\", \"fafax\", \"gedung\", \"gedung\", \"gerai\", \"gerai\", \"gigi\", \"global\", \"gpp\", \"independen\", \"independent\", \"informasi\", \"informasi\", \"informasi\", \"infrastruktur\", \"infrastruktur\", \"inovasi\", \"inspektorat\", \"institusi\", \"integrasi\", \"integrasi\", \"intra\", \"izin\", \"izin\", \"jalajalan\", \"jalan\", \"jalan\", \"jalan\", \"jangka\", \"jangka\", \"jaringan\", \"jaringan\", \"jawjawa\", \"kategori\", \"kedua\", \"kedua\", \"kedua\", \"kedua\", \"kelayakan\", \"kelengkapannya\", \"kementerianlembagaperangkat\", \"kementrianlembagapemerintah\", \"kemudahan\", \"kemudahan\", \"kemudahan\", \"kemudian\", \"kenyamanan\", \"kep\", \"kep\", \"kepala\", \"kepala\", \"kepala\", \"kepala\", \"kerjasamaantarawalikotadengan\", \"kesatu\", \"kesatu\", \"kesatu\", \"kesatu\", \"keterjangkauan\", \"keterpaduan\", \"ketua\", \"kompetisi\", \"komunikasi\", \"komunikasi\", \"korporasi\", \"korupsi\", \"kotakota\", \"kotakota\", \"kotakota\", \"lan\", \"langsung\", \"layanan\", \"layanan\", \"layanan\", \"liar\", \"lokasi\", \"lokasi\", \"maing\", \"mal\", \"mal\", \"manajemen\", \"manajemen\", \"manajemen\", \"manajernen\", \"mandiri\", \"mandiri\", \"mandiri\", \"manejemen\", \"manusia\", \"manusia\", \"manusia\", \"maret\", \"masyarakat\", \"masyarakat\", \"masyarakat\", \"mekanisme\", \"mekanisme\", \"mempercepat\", \"mempermudah\", \"mendirikan\", \"menengah\", \"menghasilkan\", \"menginformasikan\", \"mengintegrasikan\", \"mengurangi\", \"menimbang\", \"menimbang\", \"menyelenggarakan\", \"menyelenggarakan\", \"modal\", \"modal\", \"modal\", \"mohamad\", \"mohamad\", \"mohamad\", \"monitoring\", \"monitoring\", \"monitoring\", \"mpp\", \"mudah\", \"mudah\", \"naskah\", \"negarabadan\", \"non\", \"non\", \"non\", \"nonkementerianlembaga\", \"nono\", \"nonperizinan\", \"nonperizinan\", \"nyaman\", \"oded\", \"oded\", \"oded\", \"oieh\", \"pakai\", \"pelaksanaan\", \"pelaksanaan\", \"pelaksanaan\", \"pelaksanaan\", \"pelayanannya\", \"pemantauan\", \"pemantauan\", \"pemantauan\", \"pembangunan\", \"pembangunan\", \"pembentukan\", \"pembentukan\", \"pembentukan\", \"penanaman\", \"penanaman\", \"penanaman\", \"penandatanganan\", \"pendelegasian\", \"pendirian\", \"penetapan\", \"penetapan\", \"penetapan\", \"penetapan\", \"pengaduan\", \"pengaduan\", \"pengelolaan\", \"pengelolaan\", \"pengelolaan\", \"pengembangan\", \"pengembangan\", \"pengendali\", \"penghubung\", \"pengkajian\", \"pengkajian\", \"pengunaan\", \"penilai\", \"penjaminan\", \"penjaminan\", \"penyelenggaraan\", \"penyelenggaraan\", \"penyelenggaraan\", \"penyelenggaraan\", \"penyelenggraan\", \"penyusunan\", \"penyusunan\", \"penyusunanpengkajian\", \"perangkat\", \"perangkat\", \"perangkat\", \"perangkat\", \"perencanaan\", \"perencanaan\", \"perizinan\", \"perizinan\", \"perizinan\", \"perjanjian\", \"perjanjian\", \"perkembangannya\", \"perkembangannya\", \"perluasan\", \"perluasan\", \"permanen\", \"permohonan\", \"persetujuan\", \"persetujuan\", \"pertimbangan\", \"pertimbangan\", \"peserta\", \"peta\", \"peta\", \"pidana\", \"pintu\", \"pintu\", \"pintu\", \"pintu\", \"polo\", \"praktik\", \"prasaranafasilitas\", \"proposal\", \"proses\", \"proses\", \"provinsprovinsi\", \"pungutan\", \"reklame\", \"reviu\", \"risiko\", \"risiko\", \"rnelalui\", \"ruangan\", \"sah\", \"sah\", \"saing\", \"salinan\", \"salinan\", \"salinan\", \"salinan\", \"sebagairnana\", \"sebagairnana\", \"sebagimana\", \"sekota\", \"sekretariat\", \"sekretariat\", \"sekretariat\", \"sekretariat\", \"sekretaris\", \"sekretaris\", \"sekretaris\", \"sekretaris\", \"semakin\", \"sematamata\", \"service\", \"service\", \"sipil\", \"sistem\", \"sistem\", \"sistem\", \"skala\", \"sop\", \"spbe\", \"spbe\", \"spesialis\", \"swasta\", \"swasta\", \"teelp\", \"teknisi\", \"teknologi\", \"teknologi\", \"tembusan\", \"tempat\", \"tempat\", \"tempat\", \"tenaga\", \"terapis\", \"terjangkau\", \"terjangkau\", \"terpadu\", \"terpadu\", \"terpadu\", \"terpadu\", \"tier\", \"tier\", \"tik\", \"tik\", \"top\", \"tp\", \"tradisional\", \"transaksi\", \"trayek\", \"urusan\", \"urusan\", \"urusan\", \"usaha\", \"usaha\", \"usaha\", \"verifikasi\", \"verifikasi\", \"verifikasi\", \"viii\", \"wastukancanwastukancana\"]}, \"R\": 30, \"lambda.step\": 0.01, \"plot.opts\": {\"xlab\": \"PC1\", \"ylab\": \"PC2\"}, \"topic.order\": [3, 4, 1, 2]};\n",
              "\n",
              "function LDAvis_load_lib(url, callback){\n",
              "  var s = document.createElement('script');\n",
              "  s.src = url;\n",
              "  s.async = true;\n",
              "  s.onreadystatechange = s.onload = callback;\n",
              "  s.onerror = function(){console.warn(\"failed to load library \" + url);};\n",
              "  document.getElementsByTagName(\"head\")[0].appendChild(s);\n",
              "}\n",
              "\n",
              "if(typeof(LDAvis) !== \"undefined\"){\n",
              "   // already loaded: just create the visualization\n",
              "   !function(LDAvis){\n",
              "       new LDAvis(\"#\" + \"ldavis_el486361391278472406406163253017\", ldavis_el486361391278472406406163253017_data);\n",
              "   }(LDAvis);\n",
              "}else if(typeof define === \"function\" && define.amd){\n",
              "   // require.js is available: use it to load d3/LDAvis\n",
              "   require.config({paths: {d3: \"https://cdnjs.cloudflare.com/ajax/libs/d3/3.5.5/d3.min\"}});\n",
              "   require([\"d3\"], function(d3){\n",
              "      window.d3 = d3;\n",
              "      LDAvis_load_lib(\"https://cdn.rawgit.com/bmabey/pyLDAvis/files/ldavis.v1.0.0.js\", function(){\n",
              "        new LDAvis(\"#\" + \"ldavis_el486361391278472406406163253017\", ldavis_el486361391278472406406163253017_data);\n",
              "      });\n",
              "    });\n",
              "}else{\n",
              "    // require.js not available: dynamically load d3 & LDAvis\n",
              "    LDAvis_load_lib(\"https://cdnjs.cloudflare.com/ajax/libs/d3/3.5.5/d3.min.js\", function(){\n",
              "         LDAvis_load_lib(\"https://cdn.rawgit.com/bmabey/pyLDAvis/files/ldavis.v1.0.0.js\", function(){\n",
              "                 new LDAvis(\"#\" + \"ldavis_el486361391278472406406163253017\", ldavis_el486361391278472406406163253017_data);\n",
              "            })\n",
              "         });\n",
              "}\n",
              "</script>"
            ]
          },
          "metadata": {},
          "execution_count": 33
        }
      ],
      "source": [
        "pyLDAvis.enable_notebook()\n",
        "vis = pyLDAvis.gensim.prepare(lda_model, doc_term_matrix, dictionary)\n",
        "vis"
      ]
    },
    {
      "cell_type": "markdown",
      "metadata": {
        "id": "h2vzoL3GRxEq"
      },
      "source": [
        "# **Evaluation (Perplexity and Coherence Score)**"
      ]
    },
    {
      "cell_type": "code",
      "execution_count": null,
      "metadata": {
        "id": "2-BC8npbR3tC"
      },
      "outputs": [],
      "source": [
        "# Menghitung perplexity dan coherence score\n",
        "# Semakin rendah perplexity, maka semakin baik\n",
        "# Semakin tinggi coherence score maka semakin baik\n",
        "\n",
        "print('\\nPerplexity: ', lda_model.log_perplexity(doc_term_matrix,total_docs=10000))\n",
        "\n",
        "from gensim.models.coherencemodel import CoherenceModel\n",
        "\n",
        "coherence_model_lda = CoherenceModel(model=lda_model,\n",
        "                                     texts=doc_clean,\n",
        "                                     dictionary=dictionary,\n",
        "                                     coherence='c_v')\n",
        "\n",
        "coherence_lda = coherence_model_lda.get_coherence()\n",
        "print('\\nCoherence Score: ', coherence_lda)"
      ]
    },
    {
      "cell_type": "markdown",
      "metadata": {
        "id": "bIPFWTQDdjIp"
      },
      "source": [
        "# **Find A Better Model**"
      ]
    },
    {
      "cell_type": "code",
      "execution_count": null,
      "metadata": {
        "id": "OhoxM_AmdoOQ"
      },
      "outputs": [],
      "source": [
        "def compute_coherence_values(dictionary, corpus, texts, limit, start=2, step=3):\n",
        "    \"\"\"\n",
        "    Compute c_v coherence for various number of topics\n",
        "\n",
        "    Parameters:\n",
        "    ----------\n",
        "    dictionary : Gensim dictionary\n",
        "    corpus : Gensim corpus\n",
        "    texts : List of input texts\n",
        "    limit : Max num of topics\n",
        "\n",
        "    Returns:\n",
        "    -------\n",
        "    model_list : List of LDA topic models\n",
        "    coherence_values : Coherence values corresponding to the LDA model with respective number of topics\n",
        "    \"\"\"\n",
        "\n",
        "    coherence_values = []\n",
        "    model_list = []\n",
        "    for num_topics in range(start, limit, step):\n",
        "        model = gensim.models.ldamodel.LdaModel(corpus=corpus, num_topics=num_topics, id2word=dictionary)\n",
        "        model_list.append(model)\n",
        "        coherencemodel = CoherenceModel(model=model, texts=texts, dictionary=dictionary, coherence='c_v')\n",
        "        coherence_values.append(coherencemodel.get_coherence())\n",
        "\n",
        "    return model_list, coherence_values"
      ]
    },
    {
      "cell_type": "code",
      "execution_count": null,
      "metadata": {
        "id": "fC3l0KwOdvt2"
      },
      "outputs": [],
      "source": [
        "model_list, coherence_values = compute_coherence_values(dictionary=dictionary,\n",
        "                                                        corpus=doc_term_matrix,\n",
        "                                                        texts=doc_clean,\n",
        "                                                        start=2,\n",
        "                                                        limit=50,\n",
        "                                                        step=1)"
      ]
    },
    {
      "cell_type": "code",
      "execution_count": null,
      "metadata": {
        "id": "Is1c9InZd4SX"
      },
      "outputs": [],
      "source": [
        "# Memunculkan grafik model terbaik\n",
        "\n",
        "limit=50\n",
        "start=2\n",
        "step=1\n",
        "x = range(start, limit, step)\n",
        "\n",
        "plt.plot(x, coherence_values)\n",
        "plt.xlabel(\"Num of Topics\")\n",
        "plt.ylabel(\"Coherence Score\")\n",
        "plt.legend((\"coherence_values\"), loc='best')\n",
        "plt.xticks(np.arange(0, 50, 5))\n",
        "\n",
        "plt.show()"
      ]
    },
    {
      "cell_type": "code",
      "execution_count": null,
      "metadata": {
        "id": "lXk8igmFd-Si"
      },
      "outputs": [],
      "source": [
        "# Memunculkan coherence score masing-masing rekomendasi topik\n",
        "\n",
        "for m, cv in zip(x, coherence_values):\n",
        "    print(\"Num Topics =\", m, \" has Coherence Value of\", round(cv, 4))"
      ]
    },
    {
      "cell_type": "code",
      "execution_count": null,
      "metadata": {
        "id": "3K6juKHleR3S"
      },
      "outputs": [],
      "source": [
        "# Pilih model terbaik berdasarkan grafik\n",
        "\n",
        "optimal_model = model_list[7] # Nomor model topik terbaik dengan coherence value tertinggi\n",
        "model_topics = optimal_model.show_topics(formatted=False)\n",
        "optimal_model.print_topics(num_words=10)"
      ]
    },
    {
      "cell_type": "code",
      "execution_count": null,
      "metadata": {
        "id": "Ko-6l9AEghb6"
      },
      "outputs": [],
      "source": [
        "# Visualisasi model terbaik\n",
        "\n",
        "pyLDAvis.enable_notebook()\n",
        "vis = pyLDAvis.gensim.prepare(optimal_model, doc_term_matrix, dictionary)\n",
        "vis"
      ]
    }
  ],
  "metadata": {
    "colab": {
      "provenance": []
    },
    "kernelspec": {
      "display_name": "Python 3",
      "name": "python3"
    },
    "language_info": {
      "name": "python"
    }
  },
  "nbformat": 4,
  "nbformat_minor": 0
}